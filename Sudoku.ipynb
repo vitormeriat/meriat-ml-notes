{
 "cells": [
  {
   "cell_type": "code",
   "execution_count": 1,
   "metadata": {
    "collapsed": true
   },
   "outputs": [],
   "source": [
    "import numpy as np\n",
    "import pandas as pd\n",
    "import matplotlib.pyplot as plt\n",
    "import time"
   ]
  },
  {
   "cell_type": "code",
   "execution_count": 2,
   "metadata": {
    "collapsed": true
   },
   "outputs": [],
   "source": [
    "def plot_sudoku(n):\n",
    "    # Simple plotting statement that ingests a 9x9 array (n), and plots a sudoku-style grid around it.\n",
    "    plt.figure()\n",
    "    for y in range(10):\n",
    "        plt.plot([-0.05,9.05],[y,y],color='black',linewidth=1)\n",
    "        \n",
    "    for y in range(0,10,3):\n",
    "        plt.plot([-0.05,9.05],[y,y],color='black',linewidth=3)\n",
    "            \n",
    "    for x in range(10):\n",
    "        plt.plot([x,x],[-0.05,9.05],color='black',linewidth=1)\n",
    "    \n",
    "    for x in range(0,10,3):\n",
    "        plt.plot([x,x],[-0.05,9.05],color='black',linewidth=3)\n",
    "\n",
    "    plt.axis('image')\n",
    "    plt.axis('off') # drop the axes, they're not important here\n",
    "\n",
    "    for x in range(9):\n",
    "        for y in range(9):\n",
    "            foo=n[8-y][x] # need to reverse the y-direction for plotting\n",
    "            if foo > 0: # ignore the zeros\n",
    "                T=str(foo)\n",
    "                plt.text(x+0.3,y+0.2,T,fontsize=20)\n",
    "\n",
    "    plt.show()"
   ]
  },
  {
   "cell_type": "code",
   "execution_count": 3,
   "metadata": {},
   "outputs": [
    {
     "data": {
      "image/png": "[encoded data removed]",
      "text/plain": [
       "<matplotlib.figure.Figure at 0x7f4ad5c440b8>"
      ]
     },
     "metadata": {},
     "output_type": "display_data"
    }
   ],
   "source": [
    "sudoku_hard=np.array([[0,0,0,9,0,0,7,2,8],\n",
    "                      [2,7,8,0,0,3,0,1,0],\n",
    "                      [0,9,0,0,0,0,6,4,0],\n",
    "                      [0,5,0,0,6,0,2,0,0],\n",
    "                      [0,0,6,0,0,0,3,0,0],\n",
    "                      [0,1,0,0,5,0,0,0,0],\n",
    "                      [1,0,0,7,0,6,0,3,4],\n",
    "                      [0,0,0,5,0,4,0,0,0],\n",
    "                      [7,0,9,1,0,0,8,0,5]])\n",
    "plot_sudoku(sudoku_hard)"
   ]
  },
  {
   "cell_type": "code",
   "execution_count": 4,
   "metadata": {
    "collapsed": true
   },
   "outputs": [],
   "source": [
    "def check(i,k,n):\n",
    "    #determines number of unique elements in each row (k=1) or column (k!=1)\n",
    "    nums=np.arange(9)+1\n",
    "    nu=0\n",
    "    for j in range(9):\n",
    "        if k==1:\n",
    "            i1 = n[i][j]-1\n",
    "        else:\n",
    "            i1 = n[j][i]-1\n",
    "\n",
    "        if i1==-1: # Quick check that there are no zeros\n",
    "            return -1\n",
    "        \n",
    "        if nums[i1]!=0:\n",
    "            nu+=1\n",
    "            nums[i1]=0\n",
    "  \n",
    "    return nu"
   ]
  },
  {
   "cell_type": "code",
   "execution_count": 5,
   "metadata": {
    "collapsed": true
   },
   "outputs": [],
   "source": [
    "def checksq(isq, jsq, n):\n",
    "    # determines number of unique elements in square isq, jsq\n",
    "    nums=np.arange(9)+1\n",
    "    nu = 0\n",
    "    i0 = isq*3\n",
    "    j0 = jsq*3\n",
    "    for i in range(3):\n",
    "        for j in range(3):\n",
    "            i1 = n[i0+i][j0+j] - 1\n",
    "\n",
    "            if i1==-1: # Quick check that there are no zeros\n",
    "                return -1\n",
    "        \n",
    "            if nums[i1]!=0:\n",
    "                nu+=1\n",
    "                nums[i1]=0\n",
    "                \n",
    "    return nu"
   ]
  },
  {
   "cell_type": "code",
   "execution_count": 6,
   "metadata": {
    "collapsed": true
   },
   "outputs": [],
   "source": [
    "def calc_energy(n):\n",
    "    # computes the \"energy\" of the input grid configuration\n",
    "    sum = 0\n",
    "    for i in range(9):\n",
    "        sum += check(i,1,n) + check(i,2,n)\n",
    "    \n",
    "    for i in range(3):\n",
    "        for j in range(3):\n",
    "            sum += checksq(i,j,n)\n",
    "\n",
    "    return 243 - sum"
   ]
  },
  {
   "cell_type": "code",
   "execution_count": 7,
   "metadata": {
    "collapsed": true
   },
   "outputs": [],
   "source": [
    "n = sudoku_hard\n",
    "mask = n>0"
   ]
  },
  {
   "cell_type": "code",
   "execution_count": 8,
   "metadata": {},
   "outputs": [
    {
     "data": {
      "image/png": "[encoded data removed]",
      "text/plain": [
       "<matplotlib.figure.Figure at 0x7f4acdcfe5f8>"
      ]
     },
     "metadata": {},
     "output_type": "display_data"
    }
   ],
   "source": [
    "# Assign the remaining integers to open cells so that each block contains all integers once only.\n",
    "for ib in range(3):\n",
    "    for jb in range(3):\n",
    "\n",
    "        nums=np.arange(9)+1  #{1,2...8,9}\n",
    "        for i in range(3):\n",
    "            for j in range(3):\n",
    "                i1 = ib*3 + i\n",
    "                j1 = jb*3 + j\n",
    "\n",
    "                if n[i1][j1]!=0:\n",
    "                    ix = n[i1][j1]\n",
    "                    # replace the already used number with 0\n",
    "                    nums[ix-1]=0\n",
    "\n",
    "        # Now we have an array that contains the unused numbers.\n",
    "        # So we populate using that array.\n",
    "        iy = -1\n",
    "        num1=np.zeros(sum(nums>0))\n",
    "        for k in range(9):\n",
    "            if nums[k]!=0:\n",
    "                iy+=1\n",
    "                num1[iy] = nums[k]\n",
    "\n",
    "        kk = 0\n",
    "        for i in range(3):\n",
    "            for j in range(3):\n",
    "                i1 = ib*3 + i\n",
    "                j1 = jb*3 + j\n",
    "                if(n[i1][j1]==0):\n",
    "                    n[i1][j1] = num1[kk]\n",
    "                    kk+=1\n",
    "\n",
    "plot_sudoku(n)"
   ]
  },
  {
   "cell_type": "code",
   "execution_count": 9,
   "metadata": {},
   "outputs": [
    {
     "name": "stdout",
     "output_type": "stream",
     "text": [
      "The system Energy of the initial configuration is: 48\n"
     ]
    }
   ],
   "source": [
    "# What is the energy of our starting position?\n",
    "e_prev = calc_energy(n)\n",
    "print('The system Energy of the initial configuration is:', e_prev) \n",
    "\n",
    "temp = 2.0 # starting temperature\n",
    "ntrial = 100000 # number of trials we are going to run\n",
    "thermo= 0.9 # thermostat for the temperature when it's too hot\n",
    "reanneal=1000 # how often do we apply the thermostat?"
   ]
  },
  {
   "cell_type": "code",
   "execution_count": 10,
   "metadata": {},
   "outputs": [
    {
     "name": "stdout",
     "output_type": "stream",
     "text": [
      "0 0.573753420737 48 49\n",
      "5000 0.152334514469 25 27\n",
      "10000 0.0413106251179 15 17\n",
      "15000 0.00453198485618 4 6\n",
      "20000 1.15294295668e-08 2 6\n",
      "25000 1.8980205928e-07 2 4\n",
      "30000 5.13655311898e-05 6 10\n",
      "35000 0.000233341776988 2 4\n",
      "40000 7.06583364099e-07 2 4\n",
      "45000 0.011743628457 4 6\n",
      "50000 1.2496542662e-05 6 9\n",
      "55000 2.91237347726e-06 2 4\n",
      "60000 0.0183156388887 2 4\n",
      "65000 0.00114307289235 5 7\n",
      "70000 1.04189117761e-05 2 4\n",
      "75000 3.6529053544e-09 2 4\n",
      "80000 5.06445907774e-06 2 6\n",
      "85000 3.28125607281e-05 2 4\n",
      "90000 4.06969504035e-12 2 5\n",
      "95000 1.71427211041e-05 8 12\n",
      "Solution found after 99286 steps\n"
     ]
    },
    {
     "data": {
      "image/png": "[encoded data removed]",
      "text/plain": [
       "<matplotlib.figure.Figure at 0x7f4acddfe748>"
      ]
     },
     "metadata": {},
     "output_type": "display_data"
    },
    {
     "name": "stdout",
     "output_type": "stream",
     "text": [
      "\n",
      "Execution time:  43.00822186470032\n"
     ]
    }
   ],
   "source": [
    "start = time.time()\n",
    "\n",
    "for ll in range(ntrial):\n",
    "\n",
    "    # at each step pick at random a block and two moveable elements in the block\n",
    "    ib,jb = 3*np.random.randint(3,size=2)\n",
    "\n",
    "    i1,j1 = np.random.randint(3,size=2)\n",
    "    while mask[ib+i1][jb+j1]:\n",
    "        i1,j1 = np.random.randint(3,size=2)\n",
    "\n",
    "    i2,j2 = np.random.randint(3,size=2)\n",
    "    while mask[ib+i2][jb+j2] or (i1==i2 and j1==j2):\n",
    "        i2,j2 = np.random.randint(3,size=2)\n",
    "\n",
    "    # swap the movable elements and compute the energy of the trial configuration\n",
    "    propose_n=n.copy()\n",
    "    propose_n[ib+i1][jb+j1] = n[ib+i2][jb+j2]\n",
    "    propose_n[ib+i2][jb+j2] = n[ib+i1][jb+j1]\n",
    "\n",
    "    # calculate the proposal system energy\n",
    "    e_new = calc_energy(propose_n)\n",
    "    deltaE = e_prev - e_new\n",
    "\n",
    "    # Check the SA criterion\n",
    "    if e_new < e_prev:\n",
    "        e_prev = e_new\n",
    "        n = propose_n\n",
    "    else:\n",
    "        if np.random.rand() < np.exp( float(deltaE)/temp):\n",
    "            e_prev = e_new\n",
    "            n = propose_n\n",
    "\n",
    "    # stop computing if the solution is found\n",
    "    if e_prev==0:\n",
    "        break\n",
    "\n",
    "    if(ll % reanneal) == 0:\n",
    "        temp=temp*thermo\n",
    "        if temp<0.1:\n",
    "            temp=0.5\n",
    "            \n",
    "    # is the code still running properly...?\n",
    "    if(ll % 5000) == 0:\n",
    "        print(ll,np.exp( float(deltaE)/temp),e_prev,e_new) \n",
    "\n",
    "if e_prev==0:\n",
    "    print(\"Solution found after\", ll, \"steps\") \n",
    "    plot_sudoku(n)\n",
    "    \n",
    "end = time.time()\n",
    "print(\"\\nExecution time: \", end - start)"
   ]
  },
  {
   "cell_type": "code",
   "execution_count": null,
   "metadata": {
    "collapsed": true
   },
   "outputs": [],
   "source": []
  }
 ],
 "metadata": {
  "kernelspec": {
   "display_name": "Python 3",
   "language": "python",
   "name": "python3"
  },
  "language_info": {
   "codemirror_mode": {
    "name": "ipython",
    "version": 3
   },
   "file_extension": ".py",
   "mimetype": "text/x-python",
   "name": "python",
   "nbconvert_exporter": "python",
   "pygments_lexer": "ipython3",
   "version": "3.6.3"
  }
 },
 "nbformat": 4,
 "nbformat_minor": 2
}
