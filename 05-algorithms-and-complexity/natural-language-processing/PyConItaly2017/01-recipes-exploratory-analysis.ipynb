{
 "cells": [
  {
   "cell_type": "markdown",
   "metadata": {},
   "source": [
    "# Exploring Text Data\n",
    "\n",
    "\n",
    "## Italian recipes data\n",
    "\n",
    "Data set of Italian recipes from https://www.gutenberg.org/ebooks/24407 (public domain)\n",
    "\n",
    "The txt format of this has been split into multiple files, one recipe per file.\n",
    "\n",
    "The data can be found in `../data/recipes/{1, 2, ..., 220}.txt`\n",
    "\n",
    "There are 220 recipes "
   ]
  },
  {
   "cell_type": "markdown",
   "metadata": {},
   "source": [
    "## Load the data\n",
    "\n",
    "Firstly, we load all the data into the `documents` dictionary\n",
    "\n",
    "We also merge the documents into one big string, `corpus_all_in_one`, for convenience"
   ]
  },
  {
   "cell_type": "code",
   "execution_count": 3,
   "metadata": {},
   "outputs": [
    {
     "name": "stdout",
     "output_type": "stream",
     "text": [
      "Number of docs: 220\n",
      "Corpus size (char): 161146\n"
     ]
    }
   ],
   "source": [
    "import os\n",
    "\n",
    "data_folder = os.path.join('data', 'recipes')\n",
    "all_recipe_files = [os.path.join(data_folder, fname)\n",
    "                    for fname in os.listdir(data_folder)]\n",
    "\n",
    "documents = {}\n",
    "for recipe_fname in all_recipe_files:\n",
    "    bname = os.path.basename(recipe_fname)\n",
    "    recipe_number = os.path.splitext(bname)[0]\n",
    "    with open(recipe_fname, 'r') as f:\n",
    "        documents[recipe_number] = f.read()\n",
    "\n",
    "corpus_all_in_one = ' '.join([doc for doc in documents.values()])\n",
    "\n",
    "print(\"Number of docs: {}\".format(len(documents)))\n",
    "print(\"Corpus size (char): {}\".format(len(corpus_all_in_one)))"
   ]
  },
  {
   "cell_type": "markdown",
   "metadata": {},
   "source": [
    "## Tokenisation\n",
    "\n",
    "Tokenisation is the process of splitting a raw string into a list of tokens\n",
    "\n",
    "... What is a token? We're interested in meaningful units of text\n",
    "\n",
    "- Words\n",
    "- Phrases\n",
    "- Punctuation\n",
    "- Numbers\n",
    "- Dates\n",
    "- Currencies\n",
    "- Hashtags\n",
    "- ...?"
   ]
  },
  {
   "cell_type": "code",
   "execution_count": 4,
   "metadata": {},
   "outputs": [
    {
     "name": "stdout",
     "output_type": "stream",
     "text": [
      "Total number of tokens: 33719\n"
     ]
    }
   ],
   "source": [
    "from nltk.tokenize import word_tokenize\n",
    "\n",
    "try:  # py3\n",
    "    all_tokens = [t for t in word_tokenize(corpus_all_in_one)]\n",
    "except UnicodeDecodeError:  # py27\n",
    "    all_tokens = [t for t in word_tokenize(corpus_all_in_one.decode('utf-8'))]\n",
    "\n",
    "print(\"Total number of tokens: {}\".format(len(all_tokens)))"
   ]
  },
  {
   "cell_type": "markdown",
   "metadata": {},
   "source": [
    "## Counting Words\n",
    "\n",
    "We start with a simple word count using `collections.Counter`\n",
    "\n",
    "We are interested in finding:\n",
    "\n",
    "- how many times a word occurs across the whole corpus (total number of occurrences)\n",
    "- in how many documents a word occurs"
   ]
  },
  {
   "cell_type": "code",
   "execution_count": 5,
   "metadata": {},
   "outputs": [
    {
     "name": "stdout",
     "output_type": "stream",
     "text": [
      "the\t1933\n",
      ",\t1726\n",
      ".\t1568\n",
      "and\t1435\n",
      "a\t1076\n",
      "of\t988\n",
      "in\t811\n",
      "with\t726\n",
      "it\t537\n",
      "to\t452\n",
      "or\t389\n",
      "is\t337\n",
      "(\t295\n",
      ")\t295\n",
      "be\t266\n",
      "them\t248\n",
      "butter\t231\n",
      "on\t220\n",
      "water\t205\n",
      "little\t198\n"
     ]
    }
   ],
   "source": [
    "from collections import Counter\n",
    "\n",
    "total_term_frequency = Counter(all_tokens)\n",
    "\n",
    "for word, freq in total_term_frequency.most_common(20):\n",
    "    print(\"{}\\t{}\".format(word, freq))"
   ]
  },
  {
   "cell_type": "code",
   "execution_count": 6,
   "metadata": {},
   "outputs": [
    {
     "name": "stdout",
     "output_type": "stream",
     "text": [
      "and\t220\n",
      ".\t220\n",
      ",\t219\n",
      ")\t218\n",
      "(\t218\n",
      "the\t217\n",
      "in\t215\n",
      "a\t210\n",
      "of\t210\n",
      "with\t203\n",
      "it\t167\n",
      "or\t165\n",
      "to\t165\n",
      "is\t145\n",
      "salt\t142\n",
      "butter\t137\n",
      "on\t136\n",
      "be\t133\n",
      "put\t126\n",
      "water\t125\n"
     ]
    }
   ],
   "source": [
    "document_frequency = Counter()\n",
    "\n",
    "for recipe_number, content in documents.items():\n",
    "    tokens = word_tokenize(content)\n",
    "    unique_tokens = set(tokens)\n",
    "    document_frequency.update(unique_tokens)\n",
    "\n",
    "for word, freq in document_frequency.most_common(20):\n",
    "    print(\"{}\\t{}\".format(word, freq))"
   ]
  },
  {
   "cell_type": "markdown",
   "metadata": {},
   "source": [
    "## Stop-words\n",
    "\n",
    "We notice that some of the most common words above are not very interesting.\n",
    "\n",
    "These words are called **stop-words**, and they don't provide any particular meaning in isolation (articles, conjunctions, pronouns, etc.)\n",
    "\n",
    "Notice:\n",
    "\n",
    "- there is no \"universal\" list of stop-words\n",
    "- removing stop-words can be useful or damaging depending on the application\n",
    "\n",
    "e.g. if you remove stop-words, what do you do with \"The Who\", \"to be or not to be\" and similar phrases?"
   ]
  },
  {
   "cell_type": "code",
   "execution_count": 7,
   "metadata": {},
   "outputs": [
    {
     "name": "stdout",
     "output_type": "stream",
     "text": [
      "['i', 'me', 'my', 'myself', 'we', 'our', 'ours', 'ourselves', 'you', \"you're\", \"you've\", \"you'll\", \"you'd\", 'your', 'yours', 'yourself', 'yourselves', 'he', 'him', 'his', 'himself', 'she', \"she's\", 'her', 'hers', 'herself', 'it', \"it's\", 'its', 'itself', 'they', 'them', 'their', 'theirs', 'themselves', 'what', 'which', 'who', 'whom', 'this', 'that', \"that'll\", 'these', 'those', 'am', 'is', 'are', 'was', 'were', 'be', 'been', 'being', 'have', 'has', 'had', 'having', 'do', 'does', 'did', 'doing', 'a', 'an', 'the', 'and', 'but', 'if', 'or', 'because', 'as', 'until', 'while', 'of', 'at', 'by', 'for', 'with', 'about', 'against', 'between', 'into', 'through', 'during', 'before', 'after', 'above', 'below', 'to', 'from', 'up', 'down', 'in', 'out', 'on', 'off', 'over', 'under', 'again', 'further', 'then', 'once', 'here', 'there', 'when', 'where', 'why', 'how', 'all', 'any', 'both', 'each', 'few', 'more', 'most', 'other', 'some', 'such', 'no', 'nor', 'not', 'only', 'own', 'same', 'so', 'than', 'too', 'very', 's', 't', 'can', 'will', 'just', 'don', \"don't\", 'should', \"should've\", 'now', 'd', 'll', 'm', 'o', 're', 've', 'y', 'ain', 'aren', \"aren't\", 'couldn', \"couldn't\", 'didn', \"didn't\", 'doesn', \"doesn't\", 'hadn', \"hadn't\", 'hasn', \"hasn't\", 'haven', \"haven't\", 'isn', \"isn't\", 'ma', 'mightn', \"mightn't\", 'mustn', \"mustn't\", 'needn', \"needn't\", 'shan', \"shan't\", 'shouldn', \"shouldn't\", 'wasn', \"wasn't\", 'weren', \"weren't\", 'won', \"won't\", 'wouldn', \"wouldn't\"]\n",
      "179\n",
      "!\"#$%&'()*+,-./:;<=>?@[\\]^_`{|}~\n"
     ]
    }
   ],
   "source": [
    "from nltk.corpus import stopwords\n",
    "import string\n",
    "\n",
    "print(stopwords.words('english'))\n",
    "print(len(stopwords.words('english')))\n",
    "print(string.punctuation)"
   ]
  },
  {
   "cell_type": "code",
   "execution_count": 8,
   "metadata": {},
   "outputs": [
    {
     "name": "stdout",
     "output_type": "stream",
     "text": [
      "butter\t231\n",
      "water\t205\n",
      "little\t198\n",
      "put\t197\n",
      "one\t186\n",
      "salt\t185\n",
      "fire\t169\n",
      "half\t169\n",
      "two\t157\n",
      "When\t132\n",
      "sauce\t128\n",
      "pepper\t128\n",
      "add\t125\n",
      "cut\t125\n",
      "piece\t116\n",
      "flour\t116\n",
      "The\t111\n",
      "saucepan\t100\n",
      "sugar\t100\n",
      "oil\t99\n"
     ]
    }
   ],
   "source": [
    "stop_list = stopwords.words('english') + list(string.punctuation)\n",
    "\n",
    "tokens_no_stop = [token for token in all_tokens\n",
    "                        if token not in stop_list]\n",
    "\n",
    "total_term_frequency_no_stop = Counter(tokens_no_stop)\n",
    "\n",
    "for word, freq in total_term_frequency_no_stop.most_common(20):\n",
    "    print(\"{}\\t{}\".format(word, freq))"
   ]
  },
  {
   "cell_type": "markdown",
   "metadata": {},
   "source": [
    "Notice **When** and **The** above (uppercase W and T)\n",
    "\n",
    "Different variations of the same words are counted as different words (they are, after all, different strings)"
   ]
  },
  {
   "cell_type": "code",
   "execution_count": 9,
   "metadata": {},
   "outputs": [
    {
     "name": "stdout",
     "output_type": "stream",
     "text": [
      "27\n",
      "3\n",
      "1\n",
      "0\n",
      "0\n",
      "1\n"
     ]
    }
   ],
   "source": [
    "print(total_term_frequency_no_stop['olive'])\n",
    "print(total_term_frequency_no_stop['olives'])\n",
    "print(total_term_frequency_no_stop['Olive'])\n",
    "print(total_term_frequency_no_stop['Olives'])\n",
    "print(total_term_frequency_no_stop['OLIVE'])\n",
    "print(total_term_frequency_no_stop['OLIVES'])"
   ]
  },
  {
   "cell_type": "markdown",
   "metadata": {},
   "source": [
    "## Text Normalisation\n",
    "\n",
    "Replacing tokens with a canonical form, so we can group together different spelling/variations of the same word\n",
    "\n",
    "Examples:\n",
    "    \n",
    "- lowercasing\n",
    "- stemming\n",
    "- American-to-British mapping\n",
    "- synonym mapping\n",
    "\n",
    "**Stemming** is the process of reducing a word to its base/root form, called stem"
   ]
  },
  {
   "cell_type": "code",
   "execution_count": 10,
   "metadata": {},
   "outputs": [
    {
     "name": "stdout",
     "output_type": "stream",
     "text": [
      "put\t286\n",
      "butter\t245\n",
      "salt\t215\n",
      "piec\t211\n",
      "one\t210\n",
      "water\t209\n",
      "cook\t208\n",
      "littl\t198\n",
      "cut\t175\n",
      "half\t170\n",
      "brown\t169\n",
      "fire\t169\n",
      "egg\t163\n",
      "two\t162\n",
      "add\t160\n",
      "boil\t154\n",
      "sauc\t152\n",
      "pepper\t130\n",
      "serv\t128\n",
      "remov\t127\n"
     ]
    }
   ],
   "source": [
    "from nltk.stem import PorterStemmer\n",
    "\n",
    "stemmer = PorterStemmer()\n",
    "all_tokens_lower = [t.lower() for t in all_tokens]\n",
    "\n",
    "tokens_normalised = [stemmer.stem(t) for t in all_tokens_lower\n",
    "                                     if t not in stop_list]\n",
    "\n",
    "total_term_frequency_normalised = Counter(tokens_normalised)\n",
    "\n",
    "for word, freq in total_term_frequency_normalised.most_common(20):\n",
    "    print(\"{}\\t{}\".format(word, freq))"
   ]
  },
  {
   "cell_type": "markdown",
   "metadata": {},
   "source": [
    "Tips:\n",
    "    \n",
    "- a stem is not always a word\n",
    "- careful with one-way transformations (like lowercasing)\n",
    "- wrap your preprocessing steps in a function / chain of functions for better design?"
   ]
  },
  {
   "cell_type": "markdown",
   "metadata": {},
   "source": [
    "## n-grams \n",
    "\n",
    "When we are interested in phrases rather than single terms, we can look into n-grams\n",
    "\n",
    "An n-gram is a sequence of n adjacent terms.\n",
    "\n",
    "Commonly used n-grams include bigrams (n=2) and trigrams (n=3)."
   ]
  },
  {
   "cell_type": "code",
   "execution_count": 11,
   "metadata": {},
   "outputs": [
    {
     "name": "stdout",
     "output_type": "stream",
     "text": [
      "('in', 'the')\t175\n",
      "('in', 'a')\t172\n",
      "('of', 'the')\t153\n",
      "('with', 'a')\t142\n",
      "('.', 'when')\t131\n",
      "('the', 'fire')\t129\n",
      "('on', 'the')\t128\n",
      "('with', 'the')\t117\n",
      "(',', 'and')\t117\n",
      "('salt', 'and')\t113\n",
      "('it', 'is')\t109\n",
      "('a', 'little')\t107\n",
      "('piece', 'of')\t102\n",
      "('and', 'a')\t102\n",
      "('of', 'butter')\t94\n",
      "('and', 'pepper')\t87\n",
      "('.', 'the')\t85\n",
      "('and', 'the')\t84\n",
      "('when', 'the')\t82\n",
      "('with', 'salt')\t80\n"
     ]
    }
   ],
   "source": [
    "from nltk import ngrams\n",
    "\n",
    "phrases = Counter(ngrams(all_tokens_lower, 2))\n",
    "for phrase, freq in phrases.most_common(20):\n",
    "    print(\"{}\\t{}\".format(phrase, freq))"
   ]
  },
  {
   "cell_type": "code",
   "execution_count": 12,
   "metadata": {},
   "outputs": [
    {
     "name": "stdout",
     "output_type": "stream",
     "text": [
      "('on', 'the', 'fire')\t90\n",
      "('salt', 'and', 'pepper')\t84\n",
      "('piece', 'of', 'butter')\t73\n",
      "('a', 'piece', 'of')\t63\n",
      "('with', 'salt', 'and')\t62\n",
      "('.', 'when', 'the')\t59\n",
      "('a', 'pinch', 'of')\t45\n",
      "('in', 'a', 'saucepan')\t45\n",
      "('season', 'with', 'salt')\t42\n",
      "('the', 'fire', 'with')\t41\n",
      "('when', 'it', 'is')\t39\n",
      "('and', 'pepper', '.')\t37\n",
      "('through', 'a', 'sieve')\t36\n",
      "('complete', 'the', 'cooking')\t34\n",
      "('and', 'a', 'half')\t33\n",
      "('of', 'butter', ',')\t27\n",
      "('it', 'on', 'the')\t26\n",
      "('and', 'when', 'it')\t26\n",
      "('a', 'taste', 'of')\t26\n",
      "(',', 'salt', 'and')\t25\n"
     ]
    }
   ],
   "source": [
    "phrases = Counter(ngrams(all_tokens_lower, 3))\n",
    "for phrase, freq in phrases.most_common(20):\n",
    "    print(\"{}\\t{}\".format(phrase, freq))"
   ]
  },
  {
   "cell_type": "markdown",
   "metadata": {},
   "source": [
    "## n-grams and stop-words\n",
    "\n",
    "Stop-word removal will affect n-grams\n",
    "\n",
    "e.g. phrases like \"a pinch of salt\" become \"pinch salt\" after stop-word removal"
   ]
  },
  {
   "cell_type": "code",
   "execution_count": 13,
   "metadata": {},
   "outputs": [
    {
     "name": "stdout",
     "output_type": "stream",
     "text": [
      "('salt', 'pepper')\t106\n",
      "('piece', 'butter')\t73\n",
      "('grated', 'cheese')\t55\n",
      "('bread', 'crumbs')\t34\n",
      "('tomato', 'sauce')\t32\n",
      "('put', 'fire')\t32\n",
      "('complete', 'cooking')\t31\n",
      "('brown', 'stock')\t29\n",
      "('season', 'salt')\t29\n",
      "('thin', 'slices')\t29\n",
      "('olive', 'oil')\t26\n",
      "('low', 'fire')\t25\n",
      "('chopped', 'fine')\t25\n",
      "('boiling', 'water')\t22\n",
      "('little', 'pieces')\t22\n",
      "('half', 'ounces')\t21\n",
      "('half', 'cooked')\t18\n",
      "('two', 'ounces')\t18\n",
      "('lemon', 'peel')\t18\n",
      "('one', 'two')\t18\n"
     ]
    }
   ],
   "source": [
    "phrases = Counter(ngrams(tokens_no_stop, 2))\n",
    "\n",
    "for phrase, freq in phrases.most_common(20):\n",
    "    print(\"{}\\t{}\".format(phrase, freq))"
   ]
  },
  {
   "cell_type": "code",
   "execution_count": 14,
   "metadata": {},
   "outputs": [
    {
     "name": "stdout",
     "output_type": "stream",
     "text": [
      "('season', 'salt', 'pepper')\t28\n",
      "('Season', 'salt', 'pepper')\t16\n",
      "('cut', 'thin', 'slices')\t11\n",
      "('pinch', 'grated', 'cheese')\t11\n",
      "('bread', 'crumbs', 'ground')\t11\n",
      "('good', 'olive', 'oil')\t10\n",
      "('another', 'piece', 'butter')\t9\n",
      "('greased', 'butter', 'sprinkled')\t9\n",
      "('saucepan', 'piece', 'butter')\t9\n",
      "('small', 'piece', 'butter')\t9\n",
      "('half', 'inch', 'thick')\t9\n",
      "('cut', 'small', 'pieces')\t9\n",
      "('salt', 'pepper', 'When')\t9\n",
      "('tomato', 'sauce', 'No')\t8\n",
      "('sauce', 'No', '12')\t8\n",
      "('ounces', 'Sweet', 'almonds')\t8\n",
      "('three', 'half', 'ounces')\t8\n",
      "('medium', 'sized', 'onion')\t8\n",
      "('butter', 'salt', 'pepper')\t7\n",
      "('piece', 'butter', 'When')\t7\n"
     ]
    }
   ],
   "source": [
    "phrases = Counter(ngrams(tokens_no_stop, 3))\n",
    "\n",
    "for phrase, freq in phrases.most_common(20):\n",
    "    print(\"{}\\t{}\".format(phrase, freq))"
   ]
  },
  {
   "cell_type": "code",
   "execution_count": null,
   "metadata": {
    "collapsed": true
   },
   "outputs": [],
   "source": []
  }
 ],
 "metadata": {
  "kernelspec": {
   "display_name": "Python 3",
   "language": "python",
   "name": "python3"
  },
  "language_info": {
   "codemirror_mode": {
    "name": "ipython",
    "version": 3
   },
   "file_extension": ".py",
   "mimetype": "text/x-python",
   "name": "python",
   "nbconvert_exporter": "python",
   "pygments_lexer": "ipython3",
   "version": "3.6.3"
  }
 },
 "nbformat": 4,
 "nbformat_minor": 1
}
