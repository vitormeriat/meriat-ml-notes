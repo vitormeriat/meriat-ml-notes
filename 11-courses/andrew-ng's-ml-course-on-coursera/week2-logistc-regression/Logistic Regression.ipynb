{
 "cells": [
  {
   "cell_type": "markdown",
   "metadata": {},
   "source": [
    "# Logistic Regression"
   ]
  },
  {
   "cell_type": "code",
   "execution_count": 1,
   "metadata": {},
   "outputs": [
    {
     "name": "stderr",
     "output_type": "stream",
     "text": [
      "/Users/vitormeriat/anaconda/lib/python3.6/site-packages/theano/configdefaults.py:560: UserWarning: DeprecationWarning: there is no c++ compiler.This is deprecated and with Theano 0.11 a c++ compiler will be mandatory\n",
      "  warnings.warn(\"DeprecationWarning: there is no c++ compiler.\"\n",
      "WARNING (theano.configdefaults): g++ not detected ! Theano will be unable to execute optimized C-implementations (for both CPU and GPU) and will default to Python implementations. Performance will be severely degraded. To remove this warning, set Theano flags cxx to an empty string.\n",
      "WARNING (theano.tensor.blas): Using NumPy C-API based implementation for BLAS functions.\n"
     ]
    }
   ],
   "source": [
    "%matplotlib inline\n",
    "#%pylab\n",
    "import numpy as np\n",
    "import matplotlib.animation as animation \n",
    "import matplotlib.pyplot as plt\n",
    "from matplotlib import style \n",
    "import theano\n",
    "import theano.tensor as T\n",
    "import time"
   ]
  },
  {
   "cell_type": "code",
   "execution_count": 4,
   "metadata": {},
   "outputs": [],
   "source": [
    "data  = np.loadtxt('../data/ex2data1.txt', delimiter=',', dtype='float32')\n",
    "X = data[:, [0, 1]]\n",
    "Y= data[:, 2]\n",
    "m = len(X)"
   ]
  },
  {
   "cell_type": "code",
   "execution_count": 5,
   "metadata": {},
   "outputs": [
    {
     "data": {
      "text/plain": [
       "<matplotlib.legend.Legend at 0x1122bd6d8>"
      ]
     },
     "execution_count": 5,
     "metadata": {},
     "output_type": "execute_result"
    },
    {
     "data": {
      "image/png": "[encoded data removed]",
      "text/plain": [
       "<matplotlib.figure.Figure at 0x10fce79e8>"
      ]
     },
     "metadata": {},
     "output_type": "display_data"
    }
   ],
   "source": [
    "fig = plt.figure()\n",
    "pos = plt.scatter(X[Y == 1, 0], X[Y == 1, 1], s=32, c='red', marker='x')\n",
    "neg = plt.scatter(X[Y == 0, 0], X[Y == 0, 1], s=32, c='yellow', marker='o')\n",
    "plt.xlabel('Exam 1 score')\n",
    "plt.ylabel('Exam 2 score')\n",
    "# Isso adiciona atraso à dispersão\n",
    "plt.legend((pos, neg), ('Admitted', 'Not admitted'), scatterpoints=1, loc='lower left', ncol=1, fontsize=12) "
   ]
  },
  {
   "cell_type": "code",
   "execution_count": 6,
   "metadata": {
    "collapsed": true
   },
   "outputs": [],
   "source": [
    "# Adicione uma coluna 1 no X\n",
    "XTemp = np.ones([m,3], dtype='float32')\n",
    "XTemp[:, [1, 2]] = X\n",
    "X = XTemp"
   ]
  },
  {
   "cell_type": "markdown",
   "metadata": {},
   "source": [
    "## sigmod function\n",
    "\n",
    "$$ g(z) = \\frac {1} { 1 + e ^ {-z} } $$"
   ]
  },
  {
   "cell_type": "code",
   "execution_count": 7,
   "metadata": {
    "collapsed": true
   },
   "outputs": [],
   "source": [
    "def sigmoid(z):\n",
    "    return 1 / (1 + T.exp(-z))"
   ]
  },
  {
   "cell_type": "markdown",
   "metadata": {},
   "source": [
    "## Modelo\n",
    "\n",
    "hypothesis\n",
    "\n",
    "$$ h _ { \\theta } (x) = g ( \\theta ^ Tx ) $$\n",
    "\n",
    "loss function\n",
    "\n",
    "$$ J ( \\theta ) = \\frac {1} {m} \\sum{ i=1 } ^ {m} \\left[ - y^ { (i) } \\log ( h{ \\theta } ( x ^ { (i) } ) ) - (1 - y^{ (i) } ) \\log ( 1 - h_{ \\theta } ( x ^ { (i) } ) ) \\right] $$ \n",
    "\n",
    "Derivação da função de perda de regressão logística"
   ]
  },
  {
   "cell_type": "code",
   "execution_count": 8,
   "metadata": {
    "collapsed": true
   },
   "outputs": [],
   "source": [
    "# Coloque os dados de treinamento em gpu (100, 3) \n",
    "x = theano.shared(X, name='x')  \n",
    "# (100, )\n",
    "y = theano.shared(Y, name='y')  \n",
    "theta = theano.shared(np.zeros([3, 1], dtype='float32'), name='theta')\n",
    "# Taxa de aprendizagem\n",
    "alpha = T.scalar('alpha') \n",
    "# (100, 1)\n",
    "pre_prob = sigmoid(x.dot(theta)) \n",
    "# y precisa ser vetor, precisa de dimshuffle\n",
    "loss = T.mean(-y.dimshuffle(0, 'x') * T.log(pre_prob) - (1- y.dimshuffle(0, 'x')) * T.log(1 - pre_prob)) \n",
    "calcLoss = theano.function([], loss)\n",
    "# Calcular a precisão da classificação\n",
    "precision = theano.function([], T.eq(T.ge(pre_prob, 0.5), y.dimshuffle(0, 'x')).sum() / T.cast(x.shape[0], 'float32')) "
   ]
  },
  {
   "cell_type": "markdown",
   "metadata": {},
   "source": [
    "gradient w.s.t theta\n",
    "\n",
    "$$ \\frac{ \\partial { J ( \\theta ) } } { \\partial { \\thetaj } } = \\frac {1} {m} \\sum{ i = 1} ^ {m} \\left ( h_{ \\theta } (x^{ (i) } ) - y^{ (i) } \\right ) x_j^{ (i) } $$\n",
    "\n",
    "update theta with gradient descent\n",
    "\n",
    "$$ \\theta = \\theta - \\alpha \\nabla \\theta $$\n",
    "\n"
   ]
  },
  {
   "cell_type": "code",
   "execution_count": 10,
   "metadata": {},
   "outputs": [
    {
     "ename": "TypeError",
     "evalue": "('An update must have the same type as the original shared variable (shared_var=theta, shared_var.type=TensorType(float32, matrix), update_val=Elemwise{sub,no_inplace}.0, update_val.type=TensorType(float64, matrix)).', 'If the difference is related to the broadcast pattern, you can call the tensor.unbroadcast(var, axis_to_unbroadcast[, ...]) function to remove broadcastable dimensions.')",
     "output_type": "error",
     "traceback": [
      "\u001b[0;31m---------------------------------------------------------------------------\u001b[0m",
      "\u001b[0;31mTypeError\u001b[0m                                 Traceback (most recent call last)",
      "\u001b[0;32m/Users/vitormeriat/anaconda/lib/python3.6/site-packages/theano/compile/pfunc.py\u001b[0m in \u001b[0;36mrebuild_collect_shared\u001b[0;34m(outputs, inputs, replace, updates, rebuild_strict, copy_inputs_over, no_default_updates)\u001b[0m\n\u001b[1;32m    192\u001b[0m             update_val = store_into.type.filter_variable(update_val,\n\u001b[0;32m--> 193\u001b[0;31m                                                          allow_convert=False)\n\u001b[0m\u001b[1;32m    194\u001b[0m         \u001b[0;32mexcept\u001b[0m \u001b[0mTypeError\u001b[0m\u001b[0;34m:\u001b[0m\u001b[0;34m\u001b[0m\u001b[0m\n",
      "\u001b[0;32m/Users/vitormeriat/anaconda/lib/python3.6/site-packages/theano/tensor/type.py\u001b[0m in \u001b[0;36mfilter_variable\u001b[0;34m(self, other, allow_convert)\u001b[0m\n\u001b[1;32m    233\u001b[0m                  \u001b[0mother\u001b[0m\u001b[0;34m=\u001b[0m\u001b[0mother\u001b[0m\u001b[0;34m,\u001b[0m\u001b[0;34m\u001b[0m\u001b[0m\n\u001b[0;32m--> 234\u001b[0;31m                  self=self))\n\u001b[0m\u001b[1;32m    235\u001b[0m \u001b[0;34m\u001b[0m\u001b[0m\n",
      "\u001b[0;31mTypeError\u001b[0m: Cannot convert Type TensorType(float64, matrix) (of Variable Elemwise{sub,no_inplace}.0) into Type TensorType(float32, matrix). You can try to manually convert Elemwise{sub,no_inplace}.0 into a TensorType(float32, matrix).",
      "\nDuring handling of the above exception, another exception occurred:\n",
      "\u001b[0;31mTypeError\u001b[0m                                 Traceback (most recent call last)",
      "\u001b[0;32m<ipython-input-10-293272c85ab9>\u001b[0m in \u001b[0;36m<module>\u001b[0;34m()\u001b[0m\n\u001b[1;32m      2\u001b[0m \u001b[0mgrad_all\u001b[0m \u001b[0;34m=\u001b[0m \u001b[0mT\u001b[0m\u001b[0;34m.\u001b[0m\u001b[0mmean\u001b[0m\u001b[0;34m(\u001b[0m\u001b[0;34m(\u001b[0m\u001b[0mpre_prob\u001b[0m \u001b[0;34m-\u001b[0m \u001b[0my\u001b[0m\u001b[0;34m.\u001b[0m\u001b[0mdimshuffle\u001b[0m\u001b[0;34m(\u001b[0m\u001b[0;36m0\u001b[0m\u001b[0;34m,\u001b[0m \u001b[0;34m'x'\u001b[0m\u001b[0;34m)\u001b[0m\u001b[0;34m)\u001b[0m\u001b[0;34m.\u001b[0m\u001b[0mrepeat\u001b[0m\u001b[0;34m(\u001b[0m\u001b[0;36m3\u001b[0m\u001b[0;34m,\u001b[0m \u001b[0;36m1\u001b[0m\u001b[0;34m)\u001b[0m \u001b[0;34m*\u001b[0m \u001b[0mx\u001b[0m\u001b[0;34m,\u001b[0m \u001b[0maxis\u001b[0m\u001b[0;34m=\u001b[0m\u001b[0;36m0\u001b[0m\u001b[0;34m)\u001b[0m\u001b[0;34m\u001b[0m\u001b[0m\n\u001b[1;32m      3\u001b[0m \u001b[0;31m# Gradiente descendente\u001b[0m\u001b[0;34m\u001b[0m\u001b[0;34m\u001b[0m\u001b[0m\n\u001b[0;32m----> 4\u001b[0;31m \u001b[0mgradient_step_all\u001b[0m \u001b[0;34m=\u001b[0m \u001b[0mtheano\u001b[0m\u001b[0;34m.\u001b[0m\u001b[0mfunction\u001b[0m\u001b[0;34m(\u001b[0m\u001b[0;34m[\u001b[0m\u001b[0malpha\u001b[0m\u001b[0;34m]\u001b[0m\u001b[0;34m,\u001b[0m\u001b[0mupdates\u001b[0m\u001b[0;34m=\u001b[0m\u001b[0;34m{\u001b[0m\u001b[0mtheta\u001b[0m \u001b[0;34m:\u001b[0m \u001b[0mtheta\u001b[0m \u001b[0;34m-\u001b[0m \u001b[0malpha\u001b[0m \u001b[0;34m*\u001b[0m \u001b[0mgrad_all\u001b[0m\u001b[0;34m.\u001b[0m\u001b[0mdimshuffle\u001b[0m\u001b[0;34m(\u001b[0m\u001b[0;36m0\u001b[0m\u001b[0;34m,\u001b[0m \u001b[0;34m'x'\u001b[0m\u001b[0;34m)\u001b[0m\u001b[0;34m}\u001b[0m\u001b[0;34m)\u001b[0m\u001b[0;34m\u001b[0m\u001b[0m\n\u001b[0m",
      "\u001b[0;32m/Users/vitormeriat/anaconda/lib/python3.6/site-packages/theano/compile/function.py\u001b[0m in \u001b[0;36mfunction\u001b[0;34m(inputs, outputs, mode, updates, givens, no_default_updates, accept_inplace, name, rebuild_strict, allow_input_downcast, profile, on_unused_input)\u001b[0m\n\u001b[1;32m    315\u001b[0m                    \u001b[0mon_unused_input\u001b[0m\u001b[0;34m=\u001b[0m\u001b[0mon_unused_input\u001b[0m\u001b[0;34m,\u001b[0m\u001b[0;34m\u001b[0m\u001b[0m\n\u001b[1;32m    316\u001b[0m                    \u001b[0mprofile\u001b[0m\u001b[0;34m=\u001b[0m\u001b[0mprofile\u001b[0m\u001b[0;34m,\u001b[0m\u001b[0;34m\u001b[0m\u001b[0m\n\u001b[0;32m--> 317\u001b[0;31m                    output_keys=output_keys)\n\u001b[0m\u001b[1;32m    318\u001b[0m     \u001b[0;32mreturn\u001b[0m \u001b[0mfn\u001b[0m\u001b[0;34m\u001b[0m\u001b[0m\n",
      "\u001b[0;32m/Users/vitormeriat/anaconda/lib/python3.6/site-packages/theano/compile/pfunc.py\u001b[0m in \u001b[0;36mpfunc\u001b[0;34m(params, outputs, mode, updates, givens, no_default_updates, accept_inplace, name, rebuild_strict, allow_input_downcast, profile, on_unused_input, output_keys)\u001b[0m\n\u001b[1;32m    447\u001b[0m                                          \u001b[0mrebuild_strict\u001b[0m\u001b[0;34m=\u001b[0m\u001b[0mrebuild_strict\u001b[0m\u001b[0;34m,\u001b[0m\u001b[0;34m\u001b[0m\u001b[0m\n\u001b[1;32m    448\u001b[0m                                          \u001b[0mcopy_inputs_over\u001b[0m\u001b[0;34m=\u001b[0m\u001b[0;32mTrue\u001b[0m\u001b[0;34m,\u001b[0m\u001b[0;34m\u001b[0m\u001b[0m\n\u001b[0;32m--> 449\u001b[0;31m                                          no_default_updates=no_default_updates)\n\u001b[0m\u001b[1;32m    450\u001b[0m     \u001b[0;31m# extracting the arguments\u001b[0m\u001b[0;34m\u001b[0m\u001b[0;34m\u001b[0m\u001b[0m\n\u001b[1;32m    451\u001b[0m     \u001b[0minput_variables\u001b[0m\u001b[0;34m,\u001b[0m \u001b[0mcloned_extended_outputs\u001b[0m\u001b[0;34m,\u001b[0m \u001b[0mother_stuff\u001b[0m \u001b[0;34m=\u001b[0m \u001b[0moutput_vars\u001b[0m\u001b[0;34m\u001b[0m\u001b[0m\n",
      "\u001b[0;32m/Users/vitormeriat/anaconda/lib/python3.6/site-packages/theano/compile/pfunc.py\u001b[0m in \u001b[0;36mrebuild_collect_shared\u001b[0;34m(outputs, inputs, replace, updates, rebuild_strict, copy_inputs_over, no_default_updates)\u001b[0m\n\u001b[1;32m    206\u001b[0m                        ' function to remove broadcastable dimensions.')\n\u001b[1;32m    207\u001b[0m \u001b[0;34m\u001b[0m\u001b[0m\n\u001b[0;32m--> 208\u001b[0;31m             \u001b[0;32mraise\u001b[0m \u001b[0mTypeError\u001b[0m\u001b[0;34m(\u001b[0m\u001b[0merr_msg\u001b[0m\u001b[0;34m,\u001b[0m \u001b[0merr_sug\u001b[0m\u001b[0;34m)\u001b[0m\u001b[0;34m\u001b[0m\u001b[0m\n\u001b[0m\u001b[1;32m    209\u001b[0m         \u001b[0;32massert\u001b[0m \u001b[0mupdate_val\u001b[0m\u001b[0;34m.\u001b[0m\u001b[0mtype\u001b[0m \u001b[0;34m==\u001b[0m \u001b[0mstore_into\u001b[0m\u001b[0;34m.\u001b[0m\u001b[0mtype\u001b[0m\u001b[0;34m\u001b[0m\u001b[0m\n\u001b[1;32m    210\u001b[0m \u001b[0;34m\u001b[0m\u001b[0m\n",
      "\u001b[0;31mTypeError\u001b[0m: ('An update must have the same type as the original shared variable (shared_var=theta, shared_var.type=TensorType(float32, matrix), update_val=Elemwise{sub,no_inplace}.0, update_val.type=TensorType(float64, matrix)).', 'If the difference is related to the broadcast pattern, you can call the tensor.unbroadcast(var, axis_to_unbroadcast[, ...]) function to remove broadcastable dimensions.')"
     ]
    }
   ],
   "source": [
    "# Gradiente\n",
    "grad_all = T.mean((pre_prob - y.dimshuffle(0, 'x')).repeat(3, 1) * x, axis=0)  \n",
    "# Gradiente descendente\n",
    "gradient_step_all = theano.function([alpha],updates={theta : theta - alpha * grad_all.dimshuffle(0, 'x')})"
   ]
  },
  {
   "cell_type": "code",
   "execution_count": 11,
   "metadata": {},
   "outputs": [
    {
     "ename": "TypeError",
     "evalue": "('An update must have the same type as the original shared variable (shared_var=theta, shared_var.type=TensorType(float32, matrix), update_val=Elemwise{sub,no_inplace}.0, update_val.type=TensorType(float64, matrix)).', 'If the difference is related to the broadcast pattern, you can call the tensor.unbroadcast(var, axis_to_unbroadcast[, ...]) function to remove broadcastable dimensions.')",
     "output_type": "error",
     "traceback": [
      "\u001b[0;31m---------------------------------------------------------------------------\u001b[0m",
      "\u001b[0;31mTypeError\u001b[0m                                 Traceback (most recent call last)",
      "\u001b[0;32m/Users/vitormeriat/anaconda/lib/python3.6/site-packages/theano/compile/pfunc.py\u001b[0m in \u001b[0;36mrebuild_collect_shared\u001b[0;34m(outputs, inputs, replace, updates, rebuild_strict, copy_inputs_over, no_default_updates)\u001b[0m\n\u001b[1;32m    192\u001b[0m             update_val = store_into.type.filter_variable(update_val,\n\u001b[0;32m--> 193\u001b[0;31m                                                          allow_convert=False)\n\u001b[0m\u001b[1;32m    194\u001b[0m         \u001b[0;32mexcept\u001b[0m \u001b[0mTypeError\u001b[0m\u001b[0;34m:\u001b[0m\u001b[0;34m\u001b[0m\u001b[0m\n",
      "\u001b[0;32m/Users/vitormeriat/anaconda/lib/python3.6/site-packages/theano/tensor/type.py\u001b[0m in \u001b[0;36mfilter_variable\u001b[0;34m(self, other, allow_convert)\u001b[0m\n\u001b[1;32m    233\u001b[0m                  \u001b[0mother\u001b[0m\u001b[0;34m=\u001b[0m\u001b[0mother\u001b[0m\u001b[0;34m,\u001b[0m\u001b[0;34m\u001b[0m\u001b[0m\n\u001b[0;32m--> 234\u001b[0;31m                  self=self))\n\u001b[0m\u001b[1;32m    235\u001b[0m \u001b[0;34m\u001b[0m\u001b[0m\n",
      "\u001b[0;31mTypeError\u001b[0m: Cannot convert Type TensorType(float64, matrix) (of Variable Elemwise{sub,no_inplace}.0) into Type TensorType(float32, matrix). You can try to manually convert Elemwise{sub,no_inplace}.0 into a TensorType(float32, matrix).",
      "\nDuring handling of the above exception, another exception occurred:\n",
      "\u001b[0;31mTypeError\u001b[0m                                 Traceback (most recent call last)",
      "\u001b[0;32m<ipython-input-11-a22528d799ea>\u001b[0m in \u001b[0;36m<module>\u001b[0;34m()\u001b[0m\n\u001b[1;32m      1\u001b[0m \u001b[0;31m# Gradiente automaticamente\u001b[0m\u001b[0;34m\u001b[0m\u001b[0;34m\u001b[0m\u001b[0m\n\u001b[1;32m      2\u001b[0m \u001b[0mgrad_auto\u001b[0m \u001b[0;34m=\u001b[0m \u001b[0mT\u001b[0m\u001b[0;34m.\u001b[0m\u001b[0mgrad\u001b[0m\u001b[0;34m(\u001b[0m\u001b[0mloss\u001b[0m\u001b[0;34m,\u001b[0m \u001b[0mtheta\u001b[0m\u001b[0;34m)\u001b[0m\u001b[0;34m\u001b[0m\u001b[0m\n\u001b[0;32m----> 3\u001b[0;31m \u001b[0mgradient_step_auto\u001b[0m \u001b[0;34m=\u001b[0m \u001b[0mtheano\u001b[0m\u001b[0;34m.\u001b[0m\u001b[0mfunction\u001b[0m\u001b[0;34m(\u001b[0m\u001b[0;34m[\u001b[0m\u001b[0malpha\u001b[0m\u001b[0;34m]\u001b[0m\u001b[0;34m,\u001b[0m\u001b[0mupdates\u001b[0m\u001b[0;34m=\u001b[0m\u001b[0;34m{\u001b[0m\u001b[0mtheta\u001b[0m \u001b[0;34m:\u001b[0m \u001b[0mtheta\u001b[0m \u001b[0;34m-\u001b[0m \u001b[0malpha\u001b[0m \u001b[0;34m*\u001b[0m \u001b[0mgrad_auto\u001b[0m\u001b[0;34m}\u001b[0m\u001b[0;34m)\u001b[0m\u001b[0;34m\u001b[0m\u001b[0m\n\u001b[0m",
      "\u001b[0;32m/Users/vitormeriat/anaconda/lib/python3.6/site-packages/theano/compile/function.py\u001b[0m in \u001b[0;36mfunction\u001b[0;34m(inputs, outputs, mode, updates, givens, no_default_updates, accept_inplace, name, rebuild_strict, allow_input_downcast, profile, on_unused_input)\u001b[0m\n\u001b[1;32m    315\u001b[0m                    \u001b[0mon_unused_input\u001b[0m\u001b[0;34m=\u001b[0m\u001b[0mon_unused_input\u001b[0m\u001b[0;34m,\u001b[0m\u001b[0;34m\u001b[0m\u001b[0m\n\u001b[1;32m    316\u001b[0m                    \u001b[0mprofile\u001b[0m\u001b[0;34m=\u001b[0m\u001b[0mprofile\u001b[0m\u001b[0;34m,\u001b[0m\u001b[0;34m\u001b[0m\u001b[0m\n\u001b[0;32m--> 317\u001b[0;31m                    output_keys=output_keys)\n\u001b[0m\u001b[1;32m    318\u001b[0m     \u001b[0;32mreturn\u001b[0m \u001b[0mfn\u001b[0m\u001b[0;34m\u001b[0m\u001b[0m\n",
      "\u001b[0;32m/Users/vitormeriat/anaconda/lib/python3.6/site-packages/theano/compile/pfunc.py\u001b[0m in \u001b[0;36mpfunc\u001b[0;34m(params, outputs, mode, updates, givens, no_default_updates, accept_inplace, name, rebuild_strict, allow_input_downcast, profile, on_unused_input, output_keys)\u001b[0m\n\u001b[1;32m    447\u001b[0m                                          \u001b[0mrebuild_strict\u001b[0m\u001b[0;34m=\u001b[0m\u001b[0mrebuild_strict\u001b[0m\u001b[0;34m,\u001b[0m\u001b[0;34m\u001b[0m\u001b[0m\n\u001b[1;32m    448\u001b[0m                                          \u001b[0mcopy_inputs_over\u001b[0m\u001b[0;34m=\u001b[0m\u001b[0;32mTrue\u001b[0m\u001b[0;34m,\u001b[0m\u001b[0;34m\u001b[0m\u001b[0m\n\u001b[0;32m--> 449\u001b[0;31m                                          no_default_updates=no_default_updates)\n\u001b[0m\u001b[1;32m    450\u001b[0m     \u001b[0;31m# extracting the arguments\u001b[0m\u001b[0;34m\u001b[0m\u001b[0;34m\u001b[0m\u001b[0m\n\u001b[1;32m    451\u001b[0m     \u001b[0minput_variables\u001b[0m\u001b[0;34m,\u001b[0m \u001b[0mcloned_extended_outputs\u001b[0m\u001b[0;34m,\u001b[0m \u001b[0mother_stuff\u001b[0m \u001b[0;34m=\u001b[0m \u001b[0moutput_vars\u001b[0m\u001b[0;34m\u001b[0m\u001b[0m\n",
      "\u001b[0;32m/Users/vitormeriat/anaconda/lib/python3.6/site-packages/theano/compile/pfunc.py\u001b[0m in \u001b[0;36mrebuild_collect_shared\u001b[0;34m(outputs, inputs, replace, updates, rebuild_strict, copy_inputs_over, no_default_updates)\u001b[0m\n\u001b[1;32m    206\u001b[0m                        ' function to remove broadcastable dimensions.')\n\u001b[1;32m    207\u001b[0m \u001b[0;34m\u001b[0m\u001b[0m\n\u001b[0;32m--> 208\u001b[0;31m             \u001b[0;32mraise\u001b[0m \u001b[0mTypeError\u001b[0m\u001b[0;34m(\u001b[0m\u001b[0merr_msg\u001b[0m\u001b[0;34m,\u001b[0m \u001b[0merr_sug\u001b[0m\u001b[0;34m)\u001b[0m\u001b[0;34m\u001b[0m\u001b[0m\n\u001b[0m\u001b[1;32m    209\u001b[0m         \u001b[0;32massert\u001b[0m \u001b[0mupdate_val\u001b[0m\u001b[0;34m.\u001b[0m\u001b[0mtype\u001b[0m \u001b[0;34m==\u001b[0m \u001b[0mstore_into\u001b[0m\u001b[0;34m.\u001b[0m\u001b[0mtype\u001b[0m\u001b[0;34m\u001b[0m\u001b[0m\n\u001b[1;32m    210\u001b[0m \u001b[0;34m\u001b[0m\u001b[0m\n",
      "\u001b[0;31mTypeError\u001b[0m: ('An update must have the same type as the original shared variable (shared_var=theta, shared_var.type=TensorType(float32, matrix), update_val=Elemwise{sub,no_inplace}.0, update_val.type=TensorType(float64, matrix)).', 'If the difference is related to the broadcast pattern, you can call the tensor.unbroadcast(var, axis_to_unbroadcast[, ...]) function to remove broadcastable dimensions.')"
     ]
    }
   ],
   "source": [
    "# Gradiente automaticamente\n",
    "grad_auto = T.grad(loss, theta) \n",
    "gradient_step_auto = theano.function([alpha],updates={theta : theta - alpha * grad_auto})"
   ]
  },
  {
   "cell_type": "code",
   "execution_count": 13,
   "metadata": {},
   "outputs": [
    {
     "name": "stdout",
     "output_type": "stream",
     "text": [
      "0.6931471824645996\n",
      "[ -0.1        -12.00921631 -11.26284218]\n",
      "[[ -0.10000001]\n",
      " [-12.00921535]\n",
      " [-11.26284122]]\n"
     ]
    }
   ],
   "source": [
    "print(calcLoss()) \n",
    "print(grad_all.eval({})) \n",
    "print(grad_auto.eval({})) "
   ]
  },
  {
   "cell_type": "markdown",
   "metadata": {},
   "source": [
    "## Treinamento de otimização de descida de gradiente"
   ]
  },
  {
   "cell_type": "code",
   "execution_count": 15,
   "metadata": {},
   "outputs": [
    {
     "ename": "NameError",
     "evalue": "name 'gradient_step_auto' is not defined",
     "output_type": "error",
     "traceback": [
      "\u001b[0;31m---------------------------------------------------------------------------\u001b[0m",
      "\u001b[0;31mNameError\u001b[0m                                 Traceback (most recent call last)",
      "\u001b[0;32m<ipython-input-15-d8bf9e2504d3>\u001b[0m in \u001b[0;36m<module>\u001b[0;34m()\u001b[0m\n\u001b[1;32m     10\u001b[0m \u001b[0;32mfor\u001b[0m \u001b[0mi\u001b[0m \u001b[0;32min\u001b[0m \u001b[0mrange\u001b[0m\u001b[0;34m(\u001b[0m\u001b[0mmax_iters\u001b[0m\u001b[0;34m)\u001b[0m\u001b[0;34m:\u001b[0m\u001b[0;34m\u001b[0m\u001b[0m\n\u001b[1;32m     11\u001b[0m     \u001b[0mtheta\u001b[0m\u001b[0;34m.\u001b[0m\u001b[0mset_value\u001b[0m\u001b[0;34m(\u001b[0m\u001b[0mbest_theta\u001b[0m\u001b[0;34m)\u001b[0m\u001b[0;34m\u001b[0m\u001b[0m\n\u001b[0;32m---> 12\u001b[0;31m     \u001b[0mgradient_step_auto\u001b[0m\u001b[0;34m(\u001b[0m\u001b[0malpha\u001b[0m\u001b[0;34m)\u001b[0m\u001b[0;34m\u001b[0m\u001b[0m\n\u001b[0m\u001b[1;32m     13\u001b[0m     \u001b[0mtempLoss\u001b[0m \u001b[0;34m=\u001b[0m \u001b[0mcalcLoss\u001b[0m\u001b[0;34m(\u001b[0m\u001b[0;34m)\u001b[0m\u001b[0;34m\u001b[0m\u001b[0m\n\u001b[1;32m     14\u001b[0m     \u001b[0mJ_history\u001b[0m\u001b[0;34m[\u001b[0m\u001b[0mi\u001b[0m\u001b[0;34m]\u001b[0m \u001b[0;34m=\u001b[0m \u001b[0mtempLoss\u001b[0m\u001b[0;34m\u001b[0m\u001b[0m\n",
      "\u001b[0;31mNameError\u001b[0m: name 'gradient_step_auto' is not defined"
     ]
    }
   ],
   "source": [
    "# cpu 39.1s, gpu (meio lento...)\n",
    "startTime = time.time() \n",
    "# Treinamento, ajuste dinâmico de gradientes\n",
    "theta.set_value(np.zeros([3, 1], dtype='float32'))\n",
    "max_iters = 100000\n",
    "alpha = 0.1\n",
    "best_loss = np.Inf\n",
    "best_theta = theta.get_value()\n",
    "J_history = np.zeros((max_iters, 1))\n",
    "for i in range(max_iters):\n",
    "    theta.set_value(best_theta)\n",
    "    gradient_step_auto(alpha)\n",
    "    tempLoss = calcLoss()\n",
    "    J_history[i] = tempLoss\n",
    "    if tempLoss < best_loss:\n",
    "        best_loss = tempLoss\n",
    "        best_theta = theta.get_value()\n",
    "    else:\n",
    "        alpha = alpha * 0.99\n",
    "endTime = time.time()\n",
    "print(theta.get_value()) \n",
    "print('training cost %.1fs' % (endTime - startTime)) "
   ]
  },
  {
   "cell_type": "markdown",
   "metadata": {},
   "source": [
    "## Use o módulo de otimização do scipy para treinamento de otimização e demonstre dinamicamente o processo iterativo"
   ]
  },
  {
   "cell_type": "code",
   "execution_count": 16,
   "metadata": {
    "collapsed": true
   },
   "outputs": [],
   "source": [
    "# Calcular o custo para o teta especificado Ao usar a função de otimização, o parâmetro a ser otimizado \n",
    "# é um vetor unidimensional, portanto, para converter em um vetor de coluna bidimensional, e ao usar fmin \n",
    "# também precisa ser convertido para o tipo float32\n",
    "def computeCost(theta_value):\n",
    "    theta.set_value(theta_value.reshape(3,1).astype('float32'))\n",
    "    return calcLoss()\n",
    "\n",
    "# Calcular o gradiente ao especificar teta\n",
    "calcGrad= theano.function([], grad_auto)\n",
    "def train_fn_grad(theta_value):\n",
    "    theta.set_value(theta_value.reshape(3,1).astype('float32'))\n",
    "    return np.array(calcGrad().reshape(3)) # O gradiente também deve ser convertido em vetor unidimensional"
   ]
  },
  {
   "cell_type": "code",
   "execution_count": 17,
   "metadata": {},
   "outputs": [
    {
     "name": "stdout",
     "output_type": "stream",
     "text": [
      "Using matplotlib backend: MacOSX\n",
      "Optimization terminated successfully.\n",
      "         Current function value: 0.203498\n",
      "         Iterations: 147\n",
      "         Function evaluations: 286\n",
      "[-25.15893008   0.20621288   0.2014551 ]\n"
     ]
    },
    {
     "data": {
      "text/plain": [
       "<matplotlib.figure.Figure at 0x112b68a90>"
      ]
     },
     "metadata": {},
     "output_type": "display_data"
    }
   ],
   "source": [
    "%matplotlib auto\n",
    "from scipy import optimize\n",
    "# Armazene o resultado após cada iteração\n",
    "thetaV = [] \n",
    "def optimizeTheta():\n",
    "    # Uma forma vetorial unidimensional de x0 passou para theta\n",
    "    # Use fmin para encontrar a solução ideal, usando Nelder-Mead (método simplista)\n",
    "    result = optimize.fmin(computeCost, x0=np.zeros(3, dtype=theano.config.floatX), maxiter=1000, \n",
    "                           full_output=True, callback=lambda t : thetaV.append(t.reshape(3, 1)))     \n",
    "    return result[0], result[1]\n",
    "thetaValue, mincost = optimizeTheta()\n",
    "print(thetaValue) \n",
    "\n",
    "# Processo iterativo de demonstração animada\n",
    "# Dinamicamente traçar limites de decisão\n",
    "def plotDecisionBoundaryAnimation(i): \n",
    "    # Desenhar pontos de dados primeiro\n",
    "    fig.clear()\n",
    "    pos = plt.scatter(X[Y == 1, 1], X[Y == 1, 2], s=32, c='red', marker='x')\n",
    "    neg = plt.scatter(X[Y == 0, 1], X[Y == 0, 2], s=32, c='yellow', marker='o')\n",
    "    plt.xlabel('Exam 1 score')\n",
    "    plt.ylabel('Exam 2 score')\n",
    "    # Isso adiciona atraso à dispersão\n",
    "    plt.legend((pos, neg), ('Admitted', 'Not admitted'), scatterpoints=1, loc='lower left', ncol=1, fontsize=12) \n",
    "    # Traçar limites de decisão\n",
    "    plot_x = [X[:, 1].min() - 2, X[:, 1].max() + 2]\n",
    "    plot_y = -(thetaV[i][1] * plot_x + thetaV[i][0]) / thetaV[i][2]\n",
    "    plt.plot(plot_x, plot_y)\n",
    "\n",
    "# Processo de otimização iterativa de demonstração dinâmica\n",
    "fig = plt.figure() \n",
    "# call animate desenho a cada 10ms\n",
    "ani = animation.FuncAnimation(fig, plotDecisionBoundaryAnimation, frames=len(thetaV), interval = 1) \n",
    "plt.show() "
   ]
  },
  {
   "cell_type": "code",
   "execution_count": 18,
   "metadata": {},
   "outputs": [
    {
     "name": "stdout",
     "output_type": "stream",
     "text": [
      "Optimization terminated successfully.\n",
      "         Current function value: 0.203498\n",
      "         Iterations: 147\n",
      "         Function evaluations: 286\n",
      "[[-25.15893008   0.20621288   0.2014551 ]]\n"
     ]
    }
   ],
   "source": [
    "# Usando a otimização de função mínima, somente o Nelder-Mead pode encontrar a solução ideal.\n",
    "result = optimize.minimize(computeCost, np.zeros(3, dtype=theano.config.floatX),  method='Nelder-Mead', options={\"maxiter\":500, \"disp\":True} )\n",
    "thetaValue, mincost = np.array([result.x]), result.fun\n",
    "print(thetaValue)"
   ]
  },
  {
   "cell_type": "code",
   "execution_count": 19,
   "metadata": {},
   "outputs": [
    {
     "data": {
      "text/plain": [
       "array(0.89)"
      ]
     },
     "execution_count": 19,
     "metadata": {},
     "output_type": "execute_result"
    }
   ],
   "source": [
    "# Use os parâmetros calculados para classificar e encontrar a precisão da classificação\n",
    "theta.set_value(thetaValue.reshape(3, 1).astype('float32')) # Definir o valor de theta\n",
    "precision()"
   ]
  },
  {
   "cell_type": "code",
   "execution_count": 20,
   "metadata": {},
   "outputs": [
    {
     "name": "stdout",
     "output_type": "stream",
     "text": [
      "Warning: Desired error not necessarily achieved due to precision loss.\n",
      "         Current function value: 0.703593\n",
      "         Iterations: 1\n",
      "         Function evaluations: 120\n",
      "         Gradient evaluations: 108\n"
     ]
    }
   ],
   "source": [
    "# Usando a otimização do gradiente conjugado, relatou nan\n",
    "thetaValue = optimize.fmin_cg(\n",
    "    f=computeCost,\n",
    "    x0=np.random.rand(3,1),\n",
    "    fprime=train_fn_grad,\n",
    "    disp=1,\n",
    "    maxiter=1000\n",
    ")"
   ]
  },
  {
   "cell_type": "markdown",
   "metadata": {},
   "source": []
  },
  {
   "cell_type": "code",
   "execution_count": 21,
   "metadata": {},
   "outputs": [
    {
     "data": {
      "image/png": "[encoded data removed]",
      "text/plain": [
       "<matplotlib.figure.Figure at 0x112b68ef0>"
      ]
     },
     "metadata": {},
     "output_type": "display_data"
    },
    {
     "data": {
      "image/png": "[encoded data removed]",
      "text/plain": [
       "<matplotlib.figure.Figure at 0x1129a5550>"
      ]
     },
     "metadata": {},
     "output_type": "display_data"
    }
   ],
   "source": [
    "# Comparar resultados de matlab\n",
    "%matplotlib inline\n",
    "def plotDecisionBoundary(theta, X, Y): # Traçar limites de decisão\n",
    "    # Desenhar pontos de dados primeiro\n",
    "    fig = plt.figure()\n",
    "    pos = plt.scatter(X[Y == 1, 1], X[Y == 1, 2], s=32, c='red', marker='x')\n",
    "    neg = plt.scatter(X[Y == 0, 1], X[Y == 0, 2], s=32, c='yellow', marker='o')\n",
    "    plt.xlabel('Exam 1 score')\n",
    "    plt.ylabel('Exam 2 score')\n",
    "    # Isso adiciona atraso à dispersão\n",
    "    plt.legend((pos, neg), ('Admitted', 'Not admitted'), scatterpoints=1, loc='lower left', ncol=1, fontsize=12) \n",
    "    # Traçar limites de decisão\n",
    "    plot_x = [X[:, 1].min() - 2, X[:, 1].max() + 2]\n",
    "    plot_y = -(theta[1] * plot_x + theta[0]) / theta[2]\n",
    "    plt.plot(plot_x, plot_y)\n",
    "    \n",
    "# Este é o resultado do matlab usando otimização fminunc\n",
    "plotDecisionBoundary(np.array([[-24.932998460539014],[0.204407718945030],[0.199618080892081]]), X, Y) \n",
    "plotDecisionBoundary(theta.get_value(), X, Y)"
   ]
  },
  {
   "cell_type": "code",
   "execution_count": 22,
   "metadata": {},
   "outputs": [
    {
     "data": {
      "text/plain": [
       "<matplotlib.text.Text at 0x116a22d68>"
      ]
     },
     "execution_count": 22,
     "metadata": {},
     "output_type": "execute_result"
    },
    {
     "data": {
      "image/png": "[encoded data removed]",
      "text/plain": [
       "<matplotlib.figure.Figure at 0x112c1afd0>"
      ]
     },
     "metadata": {},
     "output_type": "display_data"
    }
   ],
   "source": [
    "# Plot the convergence graph\n",
    "fig = plt.figure() \n",
    "plt.plot(np.arange(max_iters) + 1, J_history)\n",
    "plt.xlim(0, 3000)\n",
    "plt.xlabel('Number of iterations')\n",
    "plt.ylabel('Cost J')"
   ]
  },
  {
   "cell_type": "code",
   "execution_count": 24,
   "metadata": {},
   "outputs": [
    {
     "name": "stdout",
     "output_type": "stream",
     "text": [
      "0.89\n",
      "[[ -1.78893803e-15   2.05353688e-01   2.00582767e-01]]\n"
     ]
    }
   ],
   "source": [
    "# Use o sklearn para treinar modelos de regressão logística\n",
    "\n",
    "from sklearn.linear_model import LogisticRegression  \n",
    "lr = LogisticRegression(solver='newton-cg') # ou use liblinear...\n",
    "lr.fit(X,Y) # Treinamento\n",
    "print((lr.predict(X) == Y).sum()/100.0) # Precisão\n",
    "print(lr.coef_) # Coeficiente"
   ]
  },
  {
   "cell_type": "markdown",
   "metadata": {},
   "source": [
    "## Derivação da função de perda de regressão logística\n",
    "\n",
    "Como o domínio da função sigmóide é $ ( -\\infty , + \\infty ) $, o alcance é $ ( 0 , 1 ) $，ela pode ser vista como uma representação de probabilidade, considerando a função sigmóide como a função de densidade de probabilidade dos dados da amostra, e para cada ponto de amostragem, sua densidade de probabilidade pode ser calculada pela função sigmóide.\n",
    "\n",
    "Considere $x$ 具vector com p variáveis independentes $ x^T = ( x_1 , x_2 , \\cdots , xp ) $，probabilidade condicional $ P ( Y=1 \\mid x ; \\theta ) = p $ por um dado $x$，$Y = 1$ A probabilidade. O modelo de regressão logística pode ser expresso como: $$ \\begin{align} & h{ \\theta } (x) = \\frac {1} { 1 + e^{ - \\theta^Tx } } \\notag \\ & P ( Y = 1 \\mid x ; \\theta ) = h{ \\theta } (x) \\notag \\ & P ( Y = 0 \\mid x; \\theta) = 1 - h{ \\theta } (x) \\notag \\end{align} $$\n",
    "Suponha que existem n amostras de observação, e os valores de observação são $ y_1 , y_2 , \\cdots , y_n $，configurar $ p_i = P ( y^{ (i) } = 1 \\mid x^{ (i) } : \\theta ) $ obtido por uma determinada condição $ y_i = 1 $ a probabilidade é obtida sob as mesmas condições $ y_i = 0 $ a probabilidade condicional é $ P( y^{ (i) } = 0 \\mid x^{ (i) } : \\theta ) = 1 - p_i $ . Assim, a probabilidade de obter uma observação é: $$ \\begin{align} P(y_i) &= p_i^{ y^{ (i) } } ( 1 - pi )^{ 1 - y^{ (i) } } \\notag \\ &= \\left ( h{\\theta} (x^{ (i) }) \\right )^{ y^{ (i) } } \\left( 1 - h{\\theta} (x^{ (i) }) \\right )^{1- y^{ (i) } } \\notag \\end{align} $$\n",
    "Como as observações são independentes, sua distribuição conjunta pode ser expressa como o produto das distribuições marginais: $$ \\begin{align} L ( \\theta ) &= p( \\vec y \\mid X ; \\theta ) \\notag \\ &= \\prod{i=1}^n p \\left ( y^{(i)} \\mid x^{(i)} ; \\theta \\right ) \\notag \\ &= \\prod{i=1}^n \\left ( h{\\theta} (x^{(i)}) \\right )^{ y^{(i)} } \\left( 1 - h{\\theta} (x^{(i)}) \\right )^{1- y^{(i)} } \\notag \\end{align} $$\n",
    "A fórmula acima é chamada n funções de verossimilhança observadas. Nosso objetivo é ser capaz de encontrar estimativas de parâmetros que maximizem o valor dessa função de verossimilhança. Então, a chave para a estimativa da máxima verossimilhança é encontrar os parâmetros $\\theta$，Deixe a fórmula obter o valor máximo.\n",
    "\n",
    "Encontre o logaritmo da função acima:\n",
    "$$ \\begin{align} \\ell ( \\theta ) &= \\log L( \\theta ) \\notag \\ &= \\sum{ i = 1 }^n y^{(i)} \\log h( x^{(i)} ) + ( 1 - y^{(i)}) \\log ( 1 - h ( x^{(i)} ) ) \\notag \\end{align} $$\n",
    "Depois de tirar o negativo, é precisamente para minimizar a entropia cruzada!"
   ]
  },
  {
   "cell_type": "code",
   "execution_count": null,
   "metadata": {
    "collapsed": true
   },
   "outputs": [],
   "source": []
  }
 ],
 "metadata": {
  "kernelspec": {
   "display_name": "Python 3",
   "language": "python",
   "name": "python3"
  },
  "language_info": {
   "codemirror_mode": {
    "name": "ipython",
    "version": 3
   },
   "file_extension": ".py",
   "mimetype": "text/x-python",
   "name": "python",
   "nbconvert_exporter": "python",
   "pygments_lexer": "ipython3",
   "version": "3.6.1"
  }
 },
 "nbformat": 4,
 "nbformat_minor": 2
}
