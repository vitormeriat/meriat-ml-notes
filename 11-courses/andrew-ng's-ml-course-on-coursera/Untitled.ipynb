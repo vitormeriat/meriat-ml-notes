{
 "cells": [
  {
   "cell_type": "markdown",
   "metadata": {},
   "source": [
    "# Linear regression with multiple variables"
   ]
  },
  {
   "cell_type": "code",
   "execution_count": 2,
   "metadata": {},
   "outputs": [
    {
     "name": "stderr",
     "output_type": "stream",
     "text": [
      "/Users/vitormeriat/anaconda/lib/python3.6/site-packages/theano/configdefaults.py:560: UserWarning: DeprecationWarning: there is no c++ compiler.This is deprecated and with Theano 0.11 a c++ compiler will be mandatory\n",
      "  warnings.warn(\"DeprecationWarning: there is no c++ compiler.\"\n",
      "WARNING (theano.configdefaults): g++ not detected ! Theano will be unable to execute optimized C-implementations (for both CPU and GPU) and will default to Python implementations. Performance will be severely degraded. To remove this warning, set Theano flags cxx to an empty string.\n",
      "WARNING (theano.tensor.blas): Using NumPy C-API based implementation for BLAS functions.\n"
     ]
    }
   ],
   "source": [
    "%matplotlib inline\n",
    "import numpy as np\n",
    "import matplotlib.animation as animation \n",
    "import matplotlib.pyplot as plt\n",
    "from matplotlib import style \n",
    "import theano\n",
    "import theano.tensor as T"
   ]
  },
  {
   "cell_type": "code",
   "execution_count": 3,
   "metadata": {
    "collapsed": true
   },
   "outputs": [],
   "source": [
    "data = np.loadtxt('ex1data2.txt', delimiter=',')\n",
    "m = len(data)\n",
    "xt = np.ones((m, 3))\n",
    "xt[:, (1, 2)] = data[:, (0, 1)] # 给x添加一列1'\n",
    "labelt = np.zeros((m, 1))\n",
    "labelt[:, 0] = data[:, 2]"
   ]
  },
  {
   "cell_type": "code",
   "execution_count": 5,
   "metadata": {
    "collapsed": true
   },
   "outputs": [],
   "source": [
    "# Transformação de escala de recurso\n",
    "def featureNormalize(x): \n",
    "    mu = x.mean(0)\n",
    "    #sigma = x.std(0) # Diferença de marca global estimada, dividida por m, matlab dividido por m - 1, desvio padrão estimado da amostra\n",
    "    sigma = np.sqrt(((x - mu) ** 2).sum(0) / (len(x) - 1)) # Desvio padrão da amostra\n",
    "    x_norm = (x - mu) / sigma\n",
    "    return x_norm, mu, sigma"
   ]
  },
  {
   "cell_type": "code",
   "execution_count": 6,
   "metadata": {},
   "outputs": [
    {
     "data": {
      "image/png": "[encoded data removed]",
      "text/plain": [
       "<matplotlib.figure.Figure at 0x10f8ea0f0>"
      ]
     },
     "metadata": {},
     "output_type": "display_data"
    }
   ],
   "source": [
    "# Desenhe um histograma de dados\n",
    "\n",
    "plt.grid(True)\n",
    "plt.xlim([-100,5000])\n",
    "dummy = plt.hist(xt[:,0],label = 'col1')\n",
    "dummy = plt.hist(xt[:,1],label = 'col2')\n",
    "dummy = plt.hist(xt[:,2],label = 'col3')\n",
    "plt.title('Clearly we need feature normalization.')\n",
    "plt.xlabel('Column Value')\n",
    "plt.ylabel('Counts')\n",
    "dummy = plt.legend()"
   ]
  },
  {
   "cell_type": "code",
   "execution_count": 7,
   "metadata": {
    "collapsed": true
   },
   "outputs": [],
   "source": [
    "# feature normalization\n",
    "xt = np.ones((m, 3))\n",
    "xt[:, (1, 2)], mu, sigma = featureNormalize(data[:, (0, 1)]) # Escale o recurso e adicione uma coluna 1"
   ]
  },
  {
   "cell_type": "code",
   "execution_count": 8,
   "metadata": {},
   "outputs": [
    {
     "data": {
      "image/png": "[encoded data removed]",
      "text/plain": [
       "<matplotlib.figure.Figure at 0x111ed39e8>"
      ]
     },
     "metadata": {},
     "output_type": "display_data"
    }
   ],
   "source": [
    "#Quick visualize the feature-normalized data\n",
    "plt.grid(True)\n",
    "plt.xlim([-5,5])\n",
    "dummy = plt.hist(xt[:,0],label = 'col1')\n",
    "dummy = plt.hist(xt[:,1],label = 'col2')\n",
    "dummy = plt.hist(xt[:,2],label = 'col3')\n",
    "plt.title('Feature Normalization Accomplished')\n",
    "plt.xlabel('Column Value')\n",
    "plt.ylabel('Counts')\n",
    "dummy = plt.legend()"
   ]
  },
  {
   "cell_type": "code",
   "execution_count": 9,
   "metadata": {
    "collapsed": true
   },
   "outputs": [],
   "source": [
    "# Construa o modelo\n",
    "x = T.matrix(name='x', dtype='float64') #  (47 3)\n",
    "theta_np = np.zeros((3, 1), dtype='float64') \n",
    "label = T.matrix(name='label', dtype='float64') # (47 1)\n",
    "alpha = T.scalar(name='alpha', dtype='float64')\n",
    "theta = theano.shared(theta_np, name='theta') # (3, 1)"
   ]
  },
  {
   "cell_type": "code",
   "execution_count": 10,
   "metadata": {
    "collapsed": true
   },
   "outputs": [],
   "source": [
    "y = x.dot(theta) # (47 1)\n",
    "predict = theano.function([x], y)\n",
    "loss = T.mean((y - label) ** 2) / 2 # scalar\n",
    "calcLoss = theano.function([x, label], loss)\n",
    "grad_a = T.mean(y - label) # 手动公式求导, scalar\n",
    "grad_b = T.mean((y - label) * (x[:, 1]).dimshuffle(0, 'x')) #  A forma de (rótulo-y) é (47,1), e a forma de x [:, 1] é (47,) Tudo o que precisa ser alterado usando dimshuffle (47,1)\n",
    "grad_c = T.mean((y - label) * (x[:, 2]).dimshuffle(0, 'x')) \n",
    "gradient_step = theano.function([x, label, alpha],updates={theta : theta - alpha * T.stack([[grad_a], [grad_b], [grad_c]])}) # Precisa dessa pilha, ou .dimshuffle (0, 'x')"
   ]
  },
  {
   "cell_type": "code",
   "execution_count": 11,
   "metadata": {
    "collapsed": true
   },
   "outputs": [],
   "source": [
    "grad_all =  T.mean((y - label).repeat(3, 1) * x, axis=0)  # Outra derivação manual, solicitação única para três variáveis\n",
    "gradient_step_all = theano.function([x, label, alpha],updates={theta : theta - alpha * grad_all.dimshuffle(0, 'x')})"
   ]
  },
  {
   "cell_type": "code",
   "execution_count": 12,
   "metadata": {
    "collapsed": true
   },
   "outputs": [],
   "source": [
    "grad = T.grad(loss, theta) # Derivação automática\n",
    "gradient_step_auto = theano.function([x, label, alpha],updates={theta : theta - alpha * grad}) # gradient_step_auto derivado automaticamente"
   ]
  },
  {
   "cell_type": "code",
   "execution_count": 13,
   "metadata": {},
   "outputs": [
    {
     "data": {
      "text/plain": [
       "array(65591548106.45744)"
      ]
     },
     "execution_count": 13,
     "metadata": {},
     "output_type": "execute_result"
    }
   ],
   "source": [
    "calcLoss(xt,labelt)"
   ]
  },
  {
   "cell_type": "code",
   "execution_count": 14,
   "metadata": {},
   "outputs": [
    {
     "name": "stdout",
     "output_type": "stream",
     "text": [
      "[[ 340412.65957447]\n",
      " [ 110631.05027884]\n",
      " [  -6649.47427082]]\n"
     ]
    }
   ],
   "source": [
    "# Modelo de treinamento em gradiente descendente\n",
    "\n",
    "# Treinamento direto\n",
    "theta.set_value(theta_np)\n",
    "num_iters = 8500\n",
    "J_history = np.zeros((num_iters, 1))\n",
    "for i in range(num_iters):\n",
    "    gradient_step(xt, labelt, 0.01)\n",
    "    J_history[i] = calcLoss(xt, labelt)\n",
    "thetaResult = theta.get_value()\n",
    "print(thetaResult) "
   ]
  },
  {
   "cell_type": "code",
   "execution_count": 15,
   "metadata": {},
   "outputs": [
    {
     "data": {
      "text/plain": [
       "<matplotlib.text.Text at 0x111ebc898>"
      ]
     },
     "execution_count": 15,
     "metadata": {},
     "output_type": "execute_result"
    },
    {
     "data": {
      "image/png": "[encoded data removed]",
      "text/plain": [
       "<matplotlib.figure.Figure at 0x112003d30>"
      ]
     },
     "metadata": {},
     "output_type": "display_data"
    }
   ],
   "source": [
    "# Plot the convergence graph\n",
    "\n",
    "fig = plt.figure() \n",
    "plt.plot(J_history, np.arange(num_iters) + 1)\n",
    "plt.xlabel('Number of iterations')\n",
    "plt.ylabel('Cost J')"
   ]
  },
  {
   "cell_type": "code",
   "execution_count": 16,
   "metadata": {},
   "outputs": [
    {
     "data": {
      "image/png": "[encoded data removed]",
      "text/plain": [
       "<matplotlib.figure.Figure at 0x111ffe2e8>"
      ]
     },
     "metadata": {},
     "output_type": "display_data"
    }
   ],
   "source": [
    "# Outra maneira de desenhar gráficos de convergência\n",
    "\n",
    "#Plot the convergence of the cost function\n",
    "def plotConvergence(jvec):\n",
    "    plt.figure(figsize=(10,6))\n",
    "    plt.plot(range(len(jvec)),jvec,'bo')\n",
    "    plt.grid(True)\n",
    "    plt.title(\"Convergence of Cost Function\")\n",
    "    plt.xlabel(\"Iteration number\")\n",
    "    plt.ylabel(\"Cost function\")\n",
    "    dummy = plt.xlim([-0.05*num_iters,1.05*num_iters])\n",
    "    #dummy = plt.ylim([4,8])\n",
    "    \n",
    "plotConvergence(J_history)"
   ]
  },
  {
   "cell_type": "code",
   "execution_count": 19,
   "metadata": {
    "collapsed": true
   },
   "outputs": [],
   "source": [
    "# Prever uma nova amostra\n",
    "\n",
    "def predict(ytest, theta):\n",
    "    ytest = np.array(ytest)\n",
    "    ytestscaled = [(ytest[x]-mu[x])/sigma[x] for x in range(len(ytest))] # feature normalization,\n",
    "    ytestscaled.insert(0,1)\n",
    "    return float(np.array([ytestscaled]).dot(theta))"
   ]
  },
  {
   "cell_type": "code",
   "execution_count": 20,
   "metadata": {},
   "outputs": [
    {
     "name": "stdout",
     "output_type": "stream",
     "text": [
      "Check of result: What is price of house with 1650 square feet and 3 bedrooms?\n",
      "$293081.46\n"
     ]
    }
   ],
   "source": [
    "#print \"Final result theta parameters: \\n\",theta\n",
    "print(\"Check of result: What is price of house with 1650 square feet and 3 bedrooms?\") \n",
    "ytest = np.array([1650.,3.])\n",
    "print(\"$%0.2f\" % predict(ytest, theta.get_value())) "
   ]
  },
  {
   "cell_type": "markdown",
   "metadata": {},
   "source": [
    "### Resolução de equações normais\n",
    "\n",
    "$\\theta = \\left( X^T X \\right)^{-1} X^T y $"
   ]
  },
  {
   "cell_type": "code",
   "execution_count": 22,
   "metadata": {
    "collapsed": true
   },
   "outputs": [],
   "source": [
    "from numpy.linalg import inv\n",
    "#Implementation of normal equation to find analytic solution to linear regression\n",
    "def normEqtn(X,y):\n",
    "    #restheta = np.zeros((X.shape[1],1))\n",
    "    return np.dot(np.dot(inv(np.dot(X.T,X)),X.T),y)"
   ]
  },
  {
   "cell_type": "code",
   "execution_count": null,
   "metadata": {
    "collapsed": true
   },
   "outputs": [],
   "source": []
  }
 ],
 "metadata": {
  "kernelspec": {
   "display_name": "Python 3",
   "language": "python",
   "name": "python3"
  },
  "language_info": {
   "codemirror_mode": {
    "name": "ipython",
    "version": 3
   },
   "file_extension": ".py",
   "mimetype": "text/x-python",
   "name": "python",
   "nbconvert_exporter": "python",
   "pygments_lexer": "ipython3",
   "version": "3.6.1"
  }
 },
 "nbformat": 4,
 "nbformat_minor": 2
}
