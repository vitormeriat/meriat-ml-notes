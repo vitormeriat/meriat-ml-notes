{
 "cells": [
  {
   "cell_type": "markdown",
   "metadata": {},
   "source": [
    "# Introdução ao NumPy\n",
    "\n",
    "O Python é conveniente, mas também pode ser lento. Porém, ele permite que você acesse bibliotecas que executam mais rapidamente códigos escritos em idiomas como o C. O NumPy é uma dessas bibliotecas: oferece alternativas rápidas para operações matemáticas no Python e foi criado para trabalhar de forma eficaz com grupos de números - como matrizes.\n",
    "\n",
    "O NumPy é uma biblioteca extensa e, aqui, daremos apenas uma visão geral dele. Se você planeja fazer muitos cálculos no Python, aconselhamos que explore melhor a documentação para saber mais."
   ]
  },
  {
   "cell_type": "code",
   "execution_count": 1,
   "metadata": {
    "collapsed": true
   },
   "outputs": [],
   "source": [
    "import numpy as np"
   ]
  },
  {
   "cell_type": "markdown",
   "metadata": {},
   "source": [
    "## Formatos e tipos de dados\n",
    "\n",
    "A maneira mais comum de trabalhar com números no NumPy é pelos objetos `ndarray`. Eles são semelhantes às listas do Python, mas podem ter qualquer número de dimensões. Além disso, `ndarray` suporta operações matemáticas rápidas, que é exatamente o que queremos.\n",
    "\n",
    "Como ele pode armazenar qualquer número de dimensões, você pode usar `ndarrays` para representar qualquer um dos tipos de dado que estudamos antes: escalares, vetores, matrizes ou tensores.\n",
    "\n",
    "### Escalares\n",
    "\n",
    "Escalares no NumPy são um pouco mais envolvidos que no Python. Em vez dos tipos básicos do Python, como **int, float**, etc., o NumPy permite que você especifique tipos assinados ou não, bem como diferentes tamanhos. Então, em vez do **int** do Python, você terá acesso a tipos como **uint8, int8, uint16, int16**, e daí em diante."
   ]
  },
  {
   "cell_type": "code",
   "execution_count": 4,
   "metadata": {},
   "outputs": [],
   "source": [
    "s = np.array(5)"
   ]
  },
  {
   "cell_type": "markdown",
   "metadata": {},
   "source": [
    "Você também pode fazer cálculos entre ndarrays escalares NumPy e escalares comuns do Python. Você tabmém pode ver o formato dos seus arrays verificando o atributo shape. \n",
    "\n",
    "Você obterá o resultado, um par de parênteses vazio, **()**. Isso indica que ele tem zero dimensões."
   ]
  },
  {
   "cell_type": "code",
   "execution_count": 6,
   "metadata": {},
   "outputs": [
    {
     "data": {
      "text/plain": [
       "()"
      ]
     },
     "execution_count": 6,
     "metadata": {},
     "output_type": "execute_result"
    }
   ],
   "source": [
    "s.shape"
   ]
  },
  {
   "cell_type": "markdown",
   "metadata": {},
   "source": [
    "### Vetores\n",
    "\n",
    "Se você verificar o atributo shape de um vetor, obterá um único número, representando o comprimento unidimensional do vetor. No exemplo abaixo, **v.shape** resultaria em (3,).\n",
    "\n",
    "Agora que existe um número, você pode ver que o formato é uma tupla com o tamanho de cada uma das dimensões ndarrays. Para escalares, é somente uma tupla vazia, mas os vetores possuem uma dimensão, então, a tupla inclui um número e uma vírgula (o Python não entende (3) como uma tupla com um item, por isso exige uma vírgula. Você pode saber mais sobre tuplas [aqui](https://docs.python.org/3/tutorial/datastructures.html#tuples-and-sequences))."
   ]
  },
  {
   "cell_type": "code",
   "execution_count": 8,
   "metadata": {},
   "outputs": [
    {
     "data": {
      "text/plain": [
       "(3,)"
      ]
     },
     "execution_count": 8,
     "metadata": {},
     "output_type": "execute_result"
    }
   ],
   "source": [
    "v = np.array([1,2,3])\n",
    "v.shape"
   ]
  },
  {
   "cell_type": "markdown",
   "metadata": {},
   "source": [
    "### Matrizes\n",
    "\n",
    "Você pode criar matrizes usando a função array do NumPy, assim como fez com vetores. Porém, em vez de apenas entregar uma lista, você precisará fornecer uma lista de listas, onde cada lista representa uma linha. Então, para criar uma matriz 3x3 contendo os números 1 a 9, você pode fazer o seguinte:\n",
    "\n",
    "Ao verificar o atributo shape resultaria na tupla (3, 3), para indicar que ele tem duas dimensões, cada uma delas com o comprimento 3.\n",
    "\n",
    "Você pode acessar elementos de matrizes, assim como nos vetores, mas usando valores de índice adicionais. Então, para obter o número 6 na matriz acima, você teria que acessar m[1][2]."
   ]
  },
  {
   "cell_type": "code",
   "execution_count": 10,
   "metadata": {},
   "outputs": [
    {
     "data": {
      "text/plain": [
       "(3, 3)"
      ]
     },
     "execution_count": 10,
     "metadata": {},
     "output_type": "execute_result"
    }
   ],
   "source": [
    "m = np.array([[1,2,3], [4,5,6], [7,8,9]])\n",
    "m.shape"
   ]
  },
  {
   "cell_type": "markdown",
   "metadata": {},
   "source": [
    "### Tensores\n",
    "\n",
    "Os tensores são iguais aos vetores e matrizes, mas podem ter mais dimensões. Por exemplo, para criar um tensor de 3x3x2x1, você poderia fazer como no código abaixo.\n",
    "\n",
    "Você pode acessar itens, assim como nas matrizes, mas com mais índices. Então, t[2][1][1][0] resultará em 16."
   ]
  },
  {
   "cell_type": "code",
   "execution_count": 22,
   "metadata": {},
   "outputs": [
    {
     "name": "stdout",
     "output_type": "stream",
     "text": [
      "(3, 3, 2, 1)\n",
      "\n",
      "16\n"
     ]
    }
   ],
   "source": [
    "t = np.array([[[[1],[2]],[[3],[4]],[[5],[6]]],[[[7],[8]],\\\n",
    "    [[9],[10]],[[11],[12]]],[[[13],[14]],[[15],[16]],[[17],[17]]]])\n",
    "\n",
    "\n",
    "print('{}\\n'.format(t.shape))\n",
    "\n",
    "print(t[2][1][1][0])"
   ]
  },
  {
   "cell_type": "code",
   "execution_count": null,
   "metadata": {
    "collapsed": true
   },
   "outputs": [],
   "source": []
  }
 ],
 "metadata": {
  "kernelspec": {
   "display_name": "Python 3",
   "language": "python",
   "name": "python3"
  },
  "language_info": {
   "codemirror_mode": {
    "name": "ipython",
    "version": 3
   },
   "file_extension": ".py",
   "mimetype": "text/x-python",
   "name": "python",
   "nbconvert_exporter": "python",
   "pygments_lexer": "ipython3",
   "version": "3.5.2"
  }
 },
 "nbformat": 4,
 "nbformat_minor": 2
}
