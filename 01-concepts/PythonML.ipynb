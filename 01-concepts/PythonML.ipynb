{
 "cells": [
  {
   "cell_type": "markdown",
   "metadata": {},
   "source": [
    "#### Attributes for both student-mat.csv (Math course) and student-por.csv (Portuguese language course) datasets:\n",
    "1. school - student's school (binary: \"GP\" - Gabriel Pereira or \"MS\" - Mousinho da Silveira)\n",
    "2. sex - student's sex (binary: \"F\" - female or \"M\" - male)\n",
    "3. age - student's age (numeric: from 15 to 22)\n",
    "4. address - student's home address type (binary: \"U\" - urban or \"R\" - rural)\n",
    "5. famsize - family size (binary: \"LE3\" - less or equal to 3 or \"GT3\" - greater than 3)\n",
    "6. Pstatus - parent's cohabitation status (binary: \"T\" - living together or \"A\" - apart)\n",
    "7. Medu - mother's education (numeric: 0 - none,  1 - primary education (4th grade), 2 – 5th to 9th grade, 3 – secondary education or 4 – higher education)\n",
    "8. Fedu - father's education (numeric: 0 - none,  1 - primary education (4th grade), 2 – 5th to 9th grade, 3 – secondary education or 4 – higher education)\n",
    "9. Mjob - mother's job (nominal: \"teacher\", \"health\" care related, civil \"services\" (e.g. administrative or police), \"at_home\" or \"other\")\n",
    "10. Fjob - father's job (nominal: \"teacher\", \"health\" care related, civil \"services\" (e.g. administrative or police), \"at_home\" or \"other\")\n",
    "11. reason - reason to choose this school (nominal: close to \"home\", school \"reputation\", \"course\" preference or \"other\")\n",
    "12. guardian - student's guardian (nominal: \"mother\", \"father\" or \"other\")\n",
    "13. traveltime - home to school travel time (numeric: 1 - <15 min., 2 - 15 to 30 min., 3 - 30 min. to 1 hour, or 4 - 1 hour)\n",
    "14. studytime - weekly study time (numeric: 1 - <2 hours, 2 - 2 to 5 hours, 3 - 5 to 10 hours, or 4 - >10 hours)\n",
    "15. failures - number of past class failures (numeric: n if 1<=n<3, else 4)\n",
    "16. schoolsup - extra educational support (binary: yes or no)\n",
    "17. famsup - family educational support (binary: yes or no)\n",
    "18. paid - extra paid classes within the course subject (Math or Portuguese) (binary: yes or no)\n",
    "19. activities - extra-curricular activities (binary: yes or no)\n",
    "20. nursery - attended nursery school (binary: yes or no)\n",
    "21. higher - wants to take higher education (binary: yes or no)\n",
    "22. internet - Internet access at home (binary: yes or no)\n",
    "23. romantic - with a romantic relationship (binary: yes or no)\n",
    "24. famrel - quality of family relationships (numeric: from 1 - very bad to 5 - excellent)\n",
    "25. freetime - free time after school (numeric: from 1 - very low to 5 - very high)\n",
    "26. goout - going out with friends (numeric: from 1 - very low to 5 - very high)\n",
    "27. Dalc - workday alcohol consumption (numeric: from 1 - very low to 5 - very high)\n",
    "28. Walc - weekend alcohol consumption (numeric: from 1 - very low to 5 - very high)\n",
    "29. health - current health status (numeric: from 1 - very bad to 5 - very good)\n",
    "30. absences - number of school absences (numeric: from 0 to 93)\n",
    "\n",
    "### these grades are related with the course subject, Math or Portuguese:\n",
    "31 G1 - first period grade (numeric: from 0 to 20)\n",
    "31 G2 - second period grade (numeric: from 0 to 20)\n",
    "32 G3 - final grade (numeric: from 0 to 20, output target)\n",
    "\n",
    "Additional note: there are several (382) students that belong to both datasets . \n",
    "These students can be identified by searching for identical attributes\n",
    "that characterize each student, as shown in the annexed R file.\n",
    "\n",
    "\n",
    "Primero importamos las librerias, y los ficheros a leer, la anotación de %matplotlib inline es para que muestre las gráficas en el cuaderno.\n",
    "\n",
    "Por último, realizamos un primer analisis observando si el tamaño de las tablas tiene relación y observamos que coinciden el numero de columnas.\n",
    "\n",
    "Posteriormente con head(), vemos un pequeño resumen de los datos que contienen las tablas."
   ]
  },
  {
   "cell_type": "code",
   "execution_count": 1,
   "metadata": {
    "scrolled": true
   },
   "outputs": [
    {
     "name": "stdout",
     "output_type": "stream",
     "text": [
      "(395, 33)\n",
      "(649, 33)\n"
     ]
    }
   ],
   "source": [
    "%matplotlib inline\n",
    "import numpy as np # linear algebra\n",
    "import pandas as pd # data processing, CSV file I/O (e.g. pd.read_csv)\n",
    "from scipy import stats\n",
    "import matplotlib.pyplot as plt\n",
    "\n",
    "data_mat = pd.read_csv('./student-mat.csv',delimiter=';')\n",
    "data_por = pd.read_csv('./student-por.csv',delimiter=';')\n",
    "\n",
    "print(data_mat.shape)\n",
    "print(data_por.shape)"
   ]
  },
  {
   "cell_type": "code",
   "execution_count": 2,
   "metadata": {},
   "outputs": [
    {
     "data": {
      "text/html": [
       "<div>\n",
       "<style>\n",
       "    .dataframe thead tr:only-child th {\n",
       "        text-align: right;\n",
       "    }\n",
       "\n",
       "    .dataframe thead th {\n",
       "        text-align: left;\n",
       "    }\n",
       "\n",
       "    .dataframe tbody tr th {\n",
       "        vertical-align: top;\n",
       "    }\n",
       "</style>\n",
       "<table border=\"1\" class=\"dataframe\">\n",
       "  <thead>\n",
       "    <tr style=\"text-align: right;\">\n",
       "      <th></th>\n",
       "      <th>school</th>\n",
       "      <th>sex</th>\n",
       "      <th>age</th>\n",
       "      <th>address</th>\n",
       "      <th>famsize</th>\n",
       "      <th>Pstatus</th>\n",
       "      <th>Medu</th>\n",
       "      <th>Fedu</th>\n",
       "      <th>Mjob</th>\n",
       "      <th>Fjob</th>\n",
       "      <th>...</th>\n",
       "      <th>famrel</th>\n",
       "      <th>freetime</th>\n",
       "      <th>goout</th>\n",
       "      <th>Dalc</th>\n",
       "      <th>Walc</th>\n",
       "      <th>health</th>\n",
       "      <th>absences</th>\n",
       "      <th>G1</th>\n",
       "      <th>G2</th>\n",
       "      <th>G3</th>\n",
       "    </tr>\n",
       "  </thead>\n",
       "  <tbody>\n",
       "    <tr>\n",
       "      <th>0</th>\n",
       "      <td>GP</td>\n",
       "      <td>F</td>\n",
       "      <td>18</td>\n",
       "      <td>U</td>\n",
       "      <td>GT3</td>\n",
       "      <td>A</td>\n",
       "      <td>4</td>\n",
       "      <td>4</td>\n",
       "      <td>at_home</td>\n",
       "      <td>teacher</td>\n",
       "      <td>...</td>\n",
       "      <td>4</td>\n",
       "      <td>3</td>\n",
       "      <td>4</td>\n",
       "      <td>1</td>\n",
       "      <td>1</td>\n",
       "      <td>3</td>\n",
       "      <td>6</td>\n",
       "      <td>5</td>\n",
       "      <td>6</td>\n",
       "      <td>6</td>\n",
       "    </tr>\n",
       "    <tr>\n",
       "      <th>1</th>\n",
       "      <td>GP</td>\n",
       "      <td>F</td>\n",
       "      <td>17</td>\n",
       "      <td>U</td>\n",
       "      <td>GT3</td>\n",
       "      <td>T</td>\n",
       "      <td>1</td>\n",
       "      <td>1</td>\n",
       "      <td>at_home</td>\n",
       "      <td>other</td>\n",
       "      <td>...</td>\n",
       "      <td>5</td>\n",
       "      <td>3</td>\n",
       "      <td>3</td>\n",
       "      <td>1</td>\n",
       "      <td>1</td>\n",
       "      <td>3</td>\n",
       "      <td>4</td>\n",
       "      <td>5</td>\n",
       "      <td>5</td>\n",
       "      <td>6</td>\n",
       "    </tr>\n",
       "    <tr>\n",
       "      <th>2</th>\n",
       "      <td>GP</td>\n",
       "      <td>F</td>\n",
       "      <td>15</td>\n",
       "      <td>U</td>\n",
       "      <td>LE3</td>\n",
       "      <td>T</td>\n",
       "      <td>1</td>\n",
       "      <td>1</td>\n",
       "      <td>at_home</td>\n",
       "      <td>other</td>\n",
       "      <td>...</td>\n",
       "      <td>4</td>\n",
       "      <td>3</td>\n",
       "      <td>2</td>\n",
       "      <td>2</td>\n",
       "      <td>3</td>\n",
       "      <td>3</td>\n",
       "      <td>10</td>\n",
       "      <td>7</td>\n",
       "      <td>8</td>\n",
       "      <td>10</td>\n",
       "    </tr>\n",
       "    <tr>\n",
       "      <th>3</th>\n",
       "      <td>GP</td>\n",
       "      <td>F</td>\n",
       "      <td>15</td>\n",
       "      <td>U</td>\n",
       "      <td>GT3</td>\n",
       "      <td>T</td>\n",
       "      <td>4</td>\n",
       "      <td>2</td>\n",
       "      <td>health</td>\n",
       "      <td>services</td>\n",
       "      <td>...</td>\n",
       "      <td>3</td>\n",
       "      <td>2</td>\n",
       "      <td>2</td>\n",
       "      <td>1</td>\n",
       "      <td>1</td>\n",
       "      <td>5</td>\n",
       "      <td>2</td>\n",
       "      <td>15</td>\n",
       "      <td>14</td>\n",
       "      <td>15</td>\n",
       "    </tr>\n",
       "    <tr>\n",
       "      <th>4</th>\n",
       "      <td>GP</td>\n",
       "      <td>F</td>\n",
       "      <td>16</td>\n",
       "      <td>U</td>\n",
       "      <td>GT3</td>\n",
       "      <td>T</td>\n",
       "      <td>3</td>\n",
       "      <td>3</td>\n",
       "      <td>other</td>\n",
       "      <td>other</td>\n",
       "      <td>...</td>\n",
       "      <td>4</td>\n",
       "      <td>3</td>\n",
       "      <td>2</td>\n",
       "      <td>1</td>\n",
       "      <td>2</td>\n",
       "      <td>5</td>\n",
       "      <td>4</td>\n",
       "      <td>6</td>\n",
       "      <td>10</td>\n",
       "      <td>10</td>\n",
       "    </tr>\n",
       "  </tbody>\n",
       "</table>\n",
       "<p>5 rows × 33 columns</p>\n",
       "</div>"
      ],
      "text/plain": [
       "  school sex  age address famsize Pstatus  Medu  Fedu     Mjob      Fjob ...  \\\n",
       "0     GP   F   18       U     GT3       A     4     4  at_home   teacher ...   \n",
       "1     GP   F   17       U     GT3       T     1     1  at_home     other ...   \n",
       "2     GP   F   15       U     LE3       T     1     1  at_home     other ...   \n",
       "3     GP   F   15       U     GT3       T     4     2   health  services ...   \n",
       "4     GP   F   16       U     GT3       T     3     3    other     other ...   \n",
       "\n",
       "  famrel freetime  goout  Dalc  Walc health absences  G1  G2  G3  \n",
       "0      4        3      4     1     1      3        6   5   6   6  \n",
       "1      5        3      3     1     1      3        4   5   5   6  \n",
       "2      4        3      2     2     3      3       10   7   8  10  \n",
       "3      3        2      2     1     1      5        2  15  14  15  \n",
       "4      4        3      2     1     2      5        4   6  10  10  \n",
       "\n",
       "[5 rows x 33 columns]"
      ]
     },
     "execution_count": 2,
     "metadata": {},
     "output_type": "execute_result"
    }
   ],
   "source": [
    "data_mat.head()"
   ]
  },
  {
   "cell_type": "code",
   "execution_count": 3,
   "metadata": {},
   "outputs": [
    {
     "data": {
      "text/html": [
       "<div>\n",
       "<style>\n",
       "    .dataframe thead tr:only-child th {\n",
       "        text-align: right;\n",
       "    }\n",
       "\n",
       "    .dataframe thead th {\n",
       "        text-align: left;\n",
       "    }\n",
       "\n",
       "    .dataframe tbody tr th {\n",
       "        vertical-align: top;\n",
       "    }\n",
       "</style>\n",
       "<table border=\"1\" class=\"dataframe\">\n",
       "  <thead>\n",
       "    <tr style=\"text-align: right;\">\n",
       "      <th></th>\n",
       "      <th>school</th>\n",
       "      <th>sex</th>\n",
       "      <th>age</th>\n",
       "      <th>address</th>\n",
       "      <th>famsize</th>\n",
       "      <th>Pstatus</th>\n",
       "      <th>Medu</th>\n",
       "      <th>Fedu</th>\n",
       "      <th>Mjob</th>\n",
       "      <th>Fjob</th>\n",
       "      <th>...</th>\n",
       "      <th>famrel</th>\n",
       "      <th>freetime</th>\n",
       "      <th>goout</th>\n",
       "      <th>Dalc</th>\n",
       "      <th>Walc</th>\n",
       "      <th>health</th>\n",
       "      <th>absences</th>\n",
       "      <th>G1</th>\n",
       "      <th>G2</th>\n",
       "      <th>G3</th>\n",
       "    </tr>\n",
       "  </thead>\n",
       "  <tbody>\n",
       "    <tr>\n",
       "      <th>0</th>\n",
       "      <td>GP</td>\n",
       "      <td>F</td>\n",
       "      <td>18</td>\n",
       "      <td>U</td>\n",
       "      <td>GT3</td>\n",
       "      <td>A</td>\n",
       "      <td>4</td>\n",
       "      <td>4</td>\n",
       "      <td>at_home</td>\n",
       "      <td>teacher</td>\n",
       "      <td>...</td>\n",
       "      <td>4</td>\n",
       "      <td>3</td>\n",
       "      <td>4</td>\n",
       "      <td>1</td>\n",
       "      <td>1</td>\n",
       "      <td>3</td>\n",
       "      <td>4</td>\n",
       "      <td>0</td>\n",
       "      <td>11</td>\n",
       "      <td>11</td>\n",
       "    </tr>\n",
       "    <tr>\n",
       "      <th>1</th>\n",
       "      <td>GP</td>\n",
       "      <td>F</td>\n",
       "      <td>17</td>\n",
       "      <td>U</td>\n",
       "      <td>GT3</td>\n",
       "      <td>T</td>\n",
       "      <td>1</td>\n",
       "      <td>1</td>\n",
       "      <td>at_home</td>\n",
       "      <td>other</td>\n",
       "      <td>...</td>\n",
       "      <td>5</td>\n",
       "      <td>3</td>\n",
       "      <td>3</td>\n",
       "      <td>1</td>\n",
       "      <td>1</td>\n",
       "      <td>3</td>\n",
       "      <td>2</td>\n",
       "      <td>9</td>\n",
       "      <td>11</td>\n",
       "      <td>11</td>\n",
       "    </tr>\n",
       "    <tr>\n",
       "      <th>2</th>\n",
       "      <td>GP</td>\n",
       "      <td>F</td>\n",
       "      <td>15</td>\n",
       "      <td>U</td>\n",
       "      <td>LE3</td>\n",
       "      <td>T</td>\n",
       "      <td>1</td>\n",
       "      <td>1</td>\n",
       "      <td>at_home</td>\n",
       "      <td>other</td>\n",
       "      <td>...</td>\n",
       "      <td>4</td>\n",
       "      <td>3</td>\n",
       "      <td>2</td>\n",
       "      <td>2</td>\n",
       "      <td>3</td>\n",
       "      <td>3</td>\n",
       "      <td>6</td>\n",
       "      <td>12</td>\n",
       "      <td>13</td>\n",
       "      <td>12</td>\n",
       "    </tr>\n",
       "    <tr>\n",
       "      <th>3</th>\n",
       "      <td>GP</td>\n",
       "      <td>F</td>\n",
       "      <td>15</td>\n",
       "      <td>U</td>\n",
       "      <td>GT3</td>\n",
       "      <td>T</td>\n",
       "      <td>4</td>\n",
       "      <td>2</td>\n",
       "      <td>health</td>\n",
       "      <td>services</td>\n",
       "      <td>...</td>\n",
       "      <td>3</td>\n",
       "      <td>2</td>\n",
       "      <td>2</td>\n",
       "      <td>1</td>\n",
       "      <td>1</td>\n",
       "      <td>5</td>\n",
       "      <td>0</td>\n",
       "      <td>14</td>\n",
       "      <td>14</td>\n",
       "      <td>14</td>\n",
       "    </tr>\n",
       "    <tr>\n",
       "      <th>4</th>\n",
       "      <td>GP</td>\n",
       "      <td>F</td>\n",
       "      <td>16</td>\n",
       "      <td>U</td>\n",
       "      <td>GT3</td>\n",
       "      <td>T</td>\n",
       "      <td>3</td>\n",
       "      <td>3</td>\n",
       "      <td>other</td>\n",
       "      <td>other</td>\n",
       "      <td>...</td>\n",
       "      <td>4</td>\n",
       "      <td>3</td>\n",
       "      <td>2</td>\n",
       "      <td>1</td>\n",
       "      <td>2</td>\n",
       "      <td>5</td>\n",
       "      <td>0</td>\n",
       "      <td>11</td>\n",
       "      <td>13</td>\n",
       "      <td>13</td>\n",
       "    </tr>\n",
       "  </tbody>\n",
       "</table>\n",
       "<p>5 rows × 33 columns</p>\n",
       "</div>"
      ],
      "text/plain": [
       "  school sex  age address famsize Pstatus  Medu  Fedu     Mjob      Fjob ...  \\\n",
       "0     GP   F   18       U     GT3       A     4     4  at_home   teacher ...   \n",
       "1     GP   F   17       U     GT3       T     1     1  at_home     other ...   \n",
       "2     GP   F   15       U     LE3       T     1     1  at_home     other ...   \n",
       "3     GP   F   15       U     GT3       T     4     2   health  services ...   \n",
       "4     GP   F   16       U     GT3       T     3     3    other     other ...   \n",
       "\n",
       "  famrel freetime  goout  Dalc  Walc health absences  G1  G2  G3  \n",
       "0      4        3      4     1     1      3        4   0  11  11  \n",
       "1      5        3      3     1     1      3        2   9  11  11  \n",
       "2      4        3      2     2     3      3        6  12  13  12  \n",
       "3      3        2      2     1     1      5        0  14  14  14  \n",
       "4      4        3      2     1     2      5        0  11  13  13  \n",
       "\n",
       "[5 rows x 33 columns]"
      ]
     },
     "execution_count": 3,
     "metadata": {},
     "output_type": "execute_result"
    }
   ],
   "source": [
    "data_por.head()"
   ]
  },
  {
   "cell_type": "markdown",
   "metadata": {},
   "source": [
    "Realizamos la misma operación que nos indica el archivo .R, que es unir las tablas"
   ]
  },
  {
   "cell_type": "code",
   "execution_count": 4,
   "metadata": {
    "collapsed": true
   },
   "outputs": [],
   "source": [
    "\n",
    "data = pd.concat([data_por,data_mat])\n",
    "data = data.drop_duplicates([\"school\",\"sex\",\"age\",\"address\",\"famsize\",\"Pstatus\",\"Medu\",\"Fedu\",\"Mjob\",\"Fjob\",\"reason\",\"nursery\",\"internet\"])"
   ]
  },
  {
   "cell_type": "markdown",
   "metadata": {},
   "source": [
    "Revisamos que tipos de variables contiene la tabla. Y con describe realizamos un primer examen sobre el contenido de los datos, con medias, máximos, minimos, etc..."
   ]
  },
  {
   "cell_type": "code",
   "execution_count": 5,
   "metadata": {},
   "outputs": [
    {
     "name": "stdout",
     "output_type": "stream",
     "text": [
      "(662, 33)\n",
      "<class 'pandas.core.frame.DataFrame'>\n",
      "Int64Index: 662 entries, 0 to 394\n",
      "Data columns (total 33 columns):\n",
      "school        662 non-null object\n",
      "sex           662 non-null object\n",
      "age           662 non-null int64\n",
      "address       662 non-null object\n",
      "famsize       662 non-null object\n",
      "Pstatus       662 non-null object\n",
      "Medu          662 non-null int64\n",
      "Fedu          662 non-null int64\n",
      "Mjob          662 non-null object\n",
      "Fjob          662 non-null object\n",
      "reason        662 non-null object\n",
      "guardian      662 non-null object\n",
      "traveltime    662 non-null int64\n",
      "studytime     662 non-null int64\n",
      "failures      662 non-null int64\n",
      "schoolsup     662 non-null object\n",
      "famsup        662 non-null object\n",
      "paid          662 non-null object\n",
      "activities    662 non-null object\n",
      "nursery       662 non-null object\n",
      "higher        662 non-null object\n",
      "internet      662 non-null object\n",
      "romantic      662 non-null object\n",
      "famrel        662 non-null int64\n",
      "freetime      662 non-null int64\n",
      "goout         662 non-null int64\n",
      "Dalc          662 non-null int64\n",
      "Walc          662 non-null int64\n",
      "health        662 non-null int64\n",
      "absences      662 non-null int64\n",
      "G1            662 non-null int64\n",
      "G2            662 non-null int64\n",
      "G3            662 non-null int64\n",
      "dtypes: int64(16), object(17)\n",
      "memory usage: 175.8+ KB\n"
     ]
    },
    {
     "data": {
      "text/html": [
       "<div>\n",
       "<style>\n",
       "    .dataframe thead tr:only-child th {\n",
       "        text-align: right;\n",
       "    }\n",
       "\n",
       "    .dataframe thead th {\n",
       "        text-align: left;\n",
       "    }\n",
       "\n",
       "    .dataframe tbody tr th {\n",
       "        vertical-align: top;\n",
       "    }\n",
       "</style>\n",
       "<table border=\"1\" class=\"dataframe\">\n",
       "  <thead>\n",
       "    <tr style=\"text-align: right;\">\n",
       "      <th></th>\n",
       "      <th>age</th>\n",
       "      <th>Medu</th>\n",
       "      <th>Fedu</th>\n",
       "      <th>traveltime</th>\n",
       "      <th>studytime</th>\n",
       "      <th>failures</th>\n",
       "      <th>famrel</th>\n",
       "      <th>freetime</th>\n",
       "      <th>goout</th>\n",
       "      <th>Dalc</th>\n",
       "      <th>Walc</th>\n",
       "      <th>health</th>\n",
       "      <th>absences</th>\n",
       "      <th>G1</th>\n",
       "      <th>G2</th>\n",
       "      <th>G3</th>\n",
       "    </tr>\n",
       "  </thead>\n",
       "  <tbody>\n",
       "    <tr>\n",
       "      <th>count</th>\n",
       "      <td>662.000000</td>\n",
       "      <td>662.000000</td>\n",
       "      <td>662.000000</td>\n",
       "      <td>662.000000</td>\n",
       "      <td>662.000000</td>\n",
       "      <td>662.000000</td>\n",
       "      <td>662.000000</td>\n",
       "      <td>662.000000</td>\n",
       "      <td>662.000000</td>\n",
       "      <td>662.000000</td>\n",
       "      <td>662.000000</td>\n",
       "      <td>662.000000</td>\n",
       "      <td>662.000000</td>\n",
       "      <td>662.000000</td>\n",
       "      <td>662.000000</td>\n",
       "      <td>662.000000</td>\n",
       "    </tr>\n",
       "    <tr>\n",
       "      <th>mean</th>\n",
       "      <td>16.812689</td>\n",
       "      <td>2.492447</td>\n",
       "      <td>2.293051</td>\n",
       "      <td>1.566465</td>\n",
       "      <td>1.929003</td>\n",
       "      <td>0.259819</td>\n",
       "      <td>3.941088</td>\n",
       "      <td>3.187311</td>\n",
       "      <td>3.173716</td>\n",
       "      <td>1.506042</td>\n",
       "      <td>2.287009</td>\n",
       "      <td>3.533233</td>\n",
       "      <td>3.891239</td>\n",
       "      <td>11.404834</td>\n",
       "      <td>11.530211</td>\n",
       "      <td>11.842900</td>\n",
       "    </tr>\n",
       "    <tr>\n",
       "      <th>std</th>\n",
       "      <td>1.269194</td>\n",
       "      <td>1.130958</td>\n",
       "      <td>1.094027</td>\n",
       "      <td>0.744699</td>\n",
       "      <td>0.826621</td>\n",
       "      <td>0.628750</td>\n",
       "      <td>0.935679</td>\n",
       "      <td>1.057195</td>\n",
       "      <td>1.161031</td>\n",
       "      <td>0.926559</td>\n",
       "      <td>1.290878</td>\n",
       "      <td>1.435854</td>\n",
       "      <td>5.140708</td>\n",
       "      <td>2.758429</td>\n",
       "      <td>2.940380</td>\n",
       "      <td>3.298939</td>\n",
       "    </tr>\n",
       "    <tr>\n",
       "      <th>min</th>\n",
       "      <td>15.000000</td>\n",
       "      <td>0.000000</td>\n",
       "      <td>0.000000</td>\n",
       "      <td>1.000000</td>\n",
       "      <td>1.000000</td>\n",
       "      <td>0.000000</td>\n",
       "      <td>1.000000</td>\n",
       "      <td>1.000000</td>\n",
       "      <td>1.000000</td>\n",
       "      <td>1.000000</td>\n",
       "      <td>1.000000</td>\n",
       "      <td>1.000000</td>\n",
       "      <td>0.000000</td>\n",
       "      <td>0.000000</td>\n",
       "      <td>0.000000</td>\n",
       "      <td>0.000000</td>\n",
       "    </tr>\n",
       "    <tr>\n",
       "      <th>25%</th>\n",
       "      <td>16.000000</td>\n",
       "      <td>2.000000</td>\n",
       "      <td>1.000000</td>\n",
       "      <td>1.000000</td>\n",
       "      <td>1.000000</td>\n",
       "      <td>0.000000</td>\n",
       "      <td>4.000000</td>\n",
       "      <td>3.000000</td>\n",
       "      <td>2.000000</td>\n",
       "      <td>1.000000</td>\n",
       "      <td>1.000000</td>\n",
       "      <td>2.000000</td>\n",
       "      <td>0.000000</td>\n",
       "      <td>10.000000</td>\n",
       "      <td>10.000000</td>\n",
       "      <td>10.000000</td>\n",
       "    </tr>\n",
       "    <tr>\n",
       "      <th>50%</th>\n",
       "      <td>17.000000</td>\n",
       "      <td>2.000000</td>\n",
       "      <td>2.000000</td>\n",
       "      <td>1.000000</td>\n",
       "      <td>2.000000</td>\n",
       "      <td>0.000000</td>\n",
       "      <td>4.000000</td>\n",
       "      <td>3.000000</td>\n",
       "      <td>3.000000</td>\n",
       "      <td>1.000000</td>\n",
       "      <td>2.000000</td>\n",
       "      <td>4.000000</td>\n",
       "      <td>2.000000</td>\n",
       "      <td>11.000000</td>\n",
       "      <td>11.000000</td>\n",
       "      <td>12.000000</td>\n",
       "    </tr>\n",
       "    <tr>\n",
       "      <th>75%</th>\n",
       "      <td>18.000000</td>\n",
       "      <td>4.000000</td>\n",
       "      <td>3.000000</td>\n",
       "      <td>2.000000</td>\n",
       "      <td>2.000000</td>\n",
       "      <td>0.000000</td>\n",
       "      <td>5.000000</td>\n",
       "      <td>4.000000</td>\n",
       "      <td>4.000000</td>\n",
       "      <td>2.000000</td>\n",
       "      <td>3.000000</td>\n",
       "      <td>5.000000</td>\n",
       "      <td>6.000000</td>\n",
       "      <td>13.000000</td>\n",
       "      <td>13.000000</td>\n",
       "      <td>14.000000</td>\n",
       "    </tr>\n",
       "    <tr>\n",
       "      <th>max</th>\n",
       "      <td>22.000000</td>\n",
       "      <td>4.000000</td>\n",
       "      <td>4.000000</td>\n",
       "      <td>4.000000</td>\n",
       "      <td>4.000000</td>\n",
       "      <td>3.000000</td>\n",
       "      <td>5.000000</td>\n",
       "      <td>5.000000</td>\n",
       "      <td>5.000000</td>\n",
       "      <td>5.000000</td>\n",
       "      <td>5.000000</td>\n",
       "      <td>5.000000</td>\n",
       "      <td>40.000000</td>\n",
       "      <td>19.000000</td>\n",
       "      <td>19.000000</td>\n",
       "      <td>19.000000</td>\n",
       "    </tr>\n",
       "  </tbody>\n",
       "</table>\n",
       "</div>"
      ],
      "text/plain": [
       "              age        Medu        Fedu  traveltime   studytime    failures  \\\n",
       "count  662.000000  662.000000  662.000000  662.000000  662.000000  662.000000   \n",
       "mean    16.812689    2.492447    2.293051    1.566465    1.929003    0.259819   \n",
       "std      1.269194    1.130958    1.094027    0.744699    0.826621    0.628750   \n",
       "min     15.000000    0.000000    0.000000    1.000000    1.000000    0.000000   \n",
       "25%     16.000000    2.000000    1.000000    1.000000    1.000000    0.000000   \n",
       "50%     17.000000    2.000000    2.000000    1.000000    2.000000    0.000000   \n",
       "75%     18.000000    4.000000    3.000000    2.000000    2.000000    0.000000   \n",
       "max     22.000000    4.000000    4.000000    4.000000    4.000000    3.000000   \n",
       "\n",
       "           famrel    freetime       goout        Dalc        Walc      health  \\\n",
       "count  662.000000  662.000000  662.000000  662.000000  662.000000  662.000000   \n",
       "mean     3.941088    3.187311    3.173716    1.506042    2.287009    3.533233   \n",
       "std      0.935679    1.057195    1.161031    0.926559    1.290878    1.435854   \n",
       "min      1.000000    1.000000    1.000000    1.000000    1.000000    1.000000   \n",
       "25%      4.000000    3.000000    2.000000    1.000000    1.000000    2.000000   \n",
       "50%      4.000000    3.000000    3.000000    1.000000    2.000000    4.000000   \n",
       "75%      5.000000    4.000000    4.000000    2.000000    3.000000    5.000000   \n",
       "max      5.000000    5.000000    5.000000    5.000000    5.000000    5.000000   \n",
       "\n",
       "         absences          G1          G2          G3  \n",
       "count  662.000000  662.000000  662.000000  662.000000  \n",
       "mean     3.891239   11.404834   11.530211   11.842900  \n",
       "std      5.140708    2.758429    2.940380    3.298939  \n",
       "min      0.000000    0.000000    0.000000    0.000000  \n",
       "25%      0.000000   10.000000   10.000000   10.000000  \n",
       "50%      2.000000   11.000000   11.000000   12.000000  \n",
       "75%      6.000000   13.000000   13.000000   14.000000  \n",
       "max     40.000000   19.000000   19.000000   19.000000  "
      ]
     },
     "execution_count": 5,
     "metadata": {},
     "output_type": "execute_result"
    }
   ],
   "source": [
    "print(data.shape)\n",
    "data.info()\n",
    "data.describe()"
   ]
  },
  {
   "cell_type": "markdown",
   "metadata": {},
   "source": [
    "Revisamos la forma de la distribución de las calificaciones, y observamos que todas son bastante similares."
   ]
  },
  {
   "cell_type": "code",
   "execution_count": 6,
   "metadata": {},
   "outputs": [
    {
     "data": {
      "image/png": "[encoded data removed]",
      "text/plain": [
       "<matplotlib.figure.Figure at 0x10ff7a828>"
      ]
     },
     "metadata": {},
     "output_type": "display_data"
    }
   ],
   "source": [
    "grades=[\"G1\",\"G2\",\"G3\"]\n",
    "i = 1\n",
    "for w in grades:\n",
    "    plt.subplot(3, 1, i)\n",
    "    plt.tight_layout()\n",
    "    i += 1\n",
    "    plt.hist(data[w])\n",
    "    plt.title(w)"
   ]
  },
  {
   "cell_type": "markdown",
   "metadata": {},
   "source": [
    "Imprimimos los datos en un gráfico para observar si esa correlación es entre individuos o no. Observamos que efectivamente, guardan gran similitud no solo en el histograma."
   ]
  },
  {
   "cell_type": "code",
   "execution_count": 7,
   "metadata": {},
   "outputs": [
    {
     "data": {
      "text/plain": [
       "<matplotlib.axes._subplots.AxesSubplot at 0x11acf93c8>"
      ]
     },
     "execution_count": 7,
     "metadata": {},
     "output_type": "execute_result"
    },
    {
     "data": {
      "image/png": "[encoded data removed]",
      "text/plain": [
       "<matplotlib.figure.Figure at 0x11b47acc0>"
      ]
     },
     "metadata": {},
     "output_type": "display_data"
    }
   ],
   "source": [
    "data[\"G1\"].plot()\n",
    "data[\"G2\"].plot()"
   ]
  },
  {
   "cell_type": "markdown",
   "metadata": {},
   "source": [
    "Ahora realizo una tabla de correlaciones, analizo la correlación entre el consumo semanal de alcochol y otros factores y observamos qe es inferior a 0.20, por lo cual muy baja correlación (por no decir inexistente)"
   ]
  },
  {
   "cell_type": "code",
   "execution_count": 8,
   "metadata": {
    "collapsed": true
   },
   "outputs": [],
   "source": [
    "corr = data.corr()"
   ]
  },
  {
   "cell_type": "code",
   "execution_count": 9,
   "metadata": {},
   "outputs": [
    {
     "data": {
      "text/plain": [
       "Walc        0.615797\n",
       "G3          0.208553\n",
       "G1          0.202212\n",
       "G2          0.194142\n",
       "absences    0.129726\n",
       "health      0.066372\n",
       "dtype: float64"
      ]
     },
     "execution_count": 9,
     "metadata": {},
     "output_type": "execute_result"
    }
   ],
   "source": [
    "correlated_data = data.corr().abs()\n",
    "\n",
    "os = (correlated_data.where(np.triu(np.ones(correlated_data.shape), k=1).astype(np.bool))\n",
    "                 .stack()\n",
    "                 .sort_values(ascending=False))\n",
    "os['Dalc']\n"
   ]
  },
  {
   "cell_type": "code",
   "execution_count": 10,
   "metadata": {},
   "outputs": [
    {
     "data": {
      "text/plain": [
       "G3          0.186917\n",
       "G2          0.174871\n",
       "G1          0.172461\n",
       "health      0.122992\n",
       "absences    0.105249\n",
       "dtype: float64"
      ]
     },
     "execution_count": 10,
     "metadata": {},
     "output_type": "execute_result"
    }
   ],
   "source": [
    "os['Walc']"
   ]
  },
  {
   "cell_type": "markdown",
   "metadata": {},
   "source": [
    "Ordenamos las correlaciones de la tabla para observar cuales son las mayores. Al principios nos aparecen las de la diagonal ( unas son ellas mismas) las cuales descartamos.\n",
    "\n",
    "Las siguientes, son las diferentes calificaciones entre ellas, las cuales hemos observado anteriormente. A continuación observamos cierta correlación (aunque baja) Entre el nivel de educacion de los progenitores y también entre el consumo semanal de alcohol y el diario.\n",
    "\n",
    "Primero hicimos un analisis sobre la muestra sin modificar, y luego lo realizamos utilizando la función dummy para convertir valores de cadenas de texto en valores de 1 - 0."
   ]
  },
  {
   "cell_type": "code",
   "execution_count": 11,
   "metadata": {
    "scrolled": true
   },
   "outputs": [
    {
     "name": "stdout",
     "output_type": "stream",
     "text": [
      "G3          G3            1.000000\n",
      "G2          G2            1.000000\n",
      "Medu        Medu          1.000000\n",
      "Fedu        Fedu          1.000000\n",
      "traveltime  traveltime    1.000000\n",
      "studytime   studytime     1.000000\n",
      "failures    failures      1.000000\n",
      "famrel      famrel        1.000000\n",
      "freetime    freetime      1.000000\n",
      "goout       goout         1.000000\n",
      "Dalc        Dalc          1.000000\n",
      "Walc        Walc          1.000000\n",
      "health      health        1.000000\n",
      "absences    absences      1.000000\n",
      "G1          G1            1.000000\n",
      "age         age           1.000000\n",
      "G2          G3            0.915835\n",
      "G3          G2            0.915835\n",
      "G2          G1            0.859295\n",
      "G1          G2            0.859295\n",
      "            G3            0.817636\n",
      "G3          G1            0.817636\n",
      "Fedu        Medu          0.635156\n",
      "Medu        Fedu          0.635156\n",
      "Dalc        Walc          0.615797\n",
      "Walc        Dalc          0.615797\n",
      "G3          failures      0.404783\n",
      "failures    G3            0.404783\n",
      "Walc        goout         0.396694\n",
      "goout       Walc          0.396694\n",
      "                            ...   \n",
      "age         health        0.013182\n",
      "health      age           0.013182\n",
      "Fedu        famrel        0.012457\n",
      "famrel      Fedu          0.012457\n",
      "Fedu        Dalc          0.010704\n",
      "Dalc        Fedu          0.010704\n",
      "famrel      traveltime    0.010656\n",
      "traveltime  famrel        0.010656\n",
      "famrel      studytime     0.006320\n",
      "studytime   famrel        0.006320\n",
      "Medu        famrel        0.006012\n",
      "famrel      Medu          0.006012\n",
      "            age           0.005484\n",
      "age         famrel        0.005484\n",
      "traveltime  absences      0.004432\n",
      "absences    traveltime    0.004432\n",
      "health      goout         0.004245\n",
      "goout       health        0.004245\n",
      "freetime    traveltime    0.002386\n",
      "traveltime  freetime      0.002386\n",
      "Fedu        freetime      0.002173\n",
      "freetime    Fedu          0.002173\n",
      "            age           0.001383\n",
      "age         freetime      0.001383\n",
      "            studytime     0.001159\n",
      "studytime   age           0.001159\n",
      "absences    Medu          0.000922\n",
      "Medu        absences      0.000922\n",
      "health      Medu          0.000777\n",
      "Medu        health        0.000777\n",
      "Length: 256, dtype: float64\n"
     ]
    }
   ],
   "source": [
    "s = correlated_data.unstack()\n",
    "so = s.sort_values(kind=\"quicksort\",ascending=False)\n",
    "\n",
    "print(so)"
   ]
  },
  {
   "cell_type": "code",
   "execution_count": 12,
   "metadata": {
    "scrolled": true
   },
   "outputs": [
    {
     "data": {
      "text/plain": [
       "G3                 G2                   0.915835\n",
       "G2                 G3                   0.915835\n",
       "                   G1                   0.859295\n",
       "G1                 G2                   0.859295\n",
       "                   G3                   0.817636\n",
       "G3                 G1                   0.817636\n",
       "guardian_father    guardian_mother      0.803735\n",
       "guardian_mother    guardian_father      0.803735\n",
       "Fjob_services      Fjob_other           0.704856\n",
       "Fjob_other         Fjob_services        0.704856\n",
       "Medu               Fedu                 0.635156\n",
       "Fedu               Medu                 0.635156\n",
       "Dalc               Walc                 0.615797\n",
       "Walc               Dalc                 0.615797\n",
       "reason_course      reason_home          0.477022\n",
       "reason_home        reason_course        0.477022\n",
       "reason_course      reason_reputation    0.472928\n",
       "reason_reputation  reason_course        0.472928\n",
       "guardian_mother    guardian_other       0.451893\n",
       "guardian_other     guardian_mother      0.451893\n",
       "Mjob_teacher       Medu                 0.445674\n",
       "Medu               Mjob_teacher         0.445674\n",
       "Mjob_other         Mjob_services        0.422682\n",
       "Mjob_services      Mjob_other           0.422682\n",
       "guardian_other     age                  0.418987\n",
       "age                guardian_other       0.418987\n",
       "Mjob_at_home       Mjob_other           0.417050\n",
       "Mjob_other         Mjob_at_home         0.417050\n",
       "G3                 failures             0.404783\n",
       "failures           G3                   0.404783\n",
       "Walc               goout                0.396694\n",
       "goout              Walc                 0.396694\n",
       "failures           G2                   0.388857\n",
       "G2                 failures             0.388857\n",
       "Medu               Mjob_at_home         0.383399\n",
       "dtype: float64"
      ]
     },
     "execution_count": 12,
     "metadata": {},
     "output_type": "execute_result"
    }
   ],
   "source": [
    "dummy_data = pd.get_dummies(data)\n",
    "dummy_data\n",
    "dummy_corr = dummy_data.corr().abs()\n",
    "s_d = dummy_corr.unstack()\n",
    "so_d = s_d.sort_values(kind=\"quicksort\",ascending=False)\n",
    "so_d[85:120]"
   ]
  },
  {
   "cell_type": "markdown",
   "metadata": {},
   "source": [
    "Por todo lo anterior podemos observar que no hay relación entre el consumo de alcohol y un empeoramiento del rendimiento escolar es más, observamos que realmente lo unico que tiene una relación fuerte con el resultado académico son las notas de las diferentes evaluaciones. El resto de analisis que se puedan realizar, son generalizaciones a partir de la muestra, como observar si el consumo es más alto en hombre que en mujeres, si el absentismo es superior en edades más avanzadas y asi todas las relaciones entre variables que queramos revisar.\n"
   ]
  },
  {
   "cell_type": "code",
   "execution_count": 13,
   "metadata": {
    "collapsed": true
   },
   "outputs": [],
   "source": [
    "data_female = data.query('sex == \"F\"')\n",
    "data_male = data.query('sex == \"M\"')"
   ]
  },
  {
   "cell_type": "code",
   "execution_count": 15,
   "metadata": {},
   "outputs": [
    {
     "data": {
      "text/html": [
       "<script>requirejs.config({paths: { 'plotly': ['https://cdn.plot.ly/plotly-latest.min']},});if(!window.Plotly) {{require(['plotly'],function(plotly) {window.Plotly=plotly;});}}</script>"
      ],
      "text/vnd.plotly.v1+html": [
       "<script>requirejs.config({paths: { 'plotly': ['https://cdn.plot.ly/plotly-latest.min']},});if(!window.Plotly) {{require(['plotly'],function(plotly) {window.Plotly=plotly;});}}</script>"
      ]
     },
     "metadata": {},
     "output_type": "display_data"
    },
    {
     "data": {
      "application/vnd.plotly.v1+json": {
       "data": [
        {
         "name": "Consumo Medio Semanal",
         "type": "bar",
         "x": [
          "Hombres",
          "Mujeres"
         ],
         "y": [
          2.7941176470588234,
          1.9333333333333333
         ]
        },
        {
         "name": "Consumo Medio Diario",
         "type": "bar",
         "x": [
          "Hombres",
          "Mujeres"
         ],
         "y": [
          1.8272058823529411,
          1.2820512820512822
         ]
        }
       ],
       "layout": {
        "barmode": "group"
       }
      },
      "text/html": [
       "<div id=\"174861fd-fb21-41f0-999f-2470b1a879fa\" style=\"height: 525px; width: 100%;\" class=\"plotly-graph-div\"></div><script type=\"text/javascript\">require([\"plotly\"], function(Plotly) { window.PLOTLYENV=window.PLOTLYENV || {};window.PLOTLYENV.BASE_URL=\"https://plot.ly\";Plotly.newPlot(\"174861fd-fb21-41f0-999f-2470b1a879fa\", [{\"type\": \"bar\", \"x\": [\"Hombres\", \"Mujeres\"], \"y\": [2.7941176470588234, 1.9333333333333333], \"name\": \"Consumo Medio Semanal\"}, {\"type\": \"bar\", \"x\": [\"Hombres\", \"Mujeres\"], \"y\": [1.8272058823529411, 1.2820512820512822], \"name\": \"Consumo Medio Diario\"}], {\"barmode\": \"group\"}, {\"showLink\": true, \"linkText\": \"Export to plot.ly\"})});</script>"
      ],
      "text/vnd.plotly.v1+html": [
       "<div id=\"174861fd-fb21-41f0-999f-2470b1a879fa\" style=\"height: 525px; width: 100%;\" class=\"plotly-graph-div\"></div><script type=\"text/javascript\">require([\"plotly\"], function(Plotly) { window.PLOTLYENV=window.PLOTLYENV || {};window.PLOTLYENV.BASE_URL=\"https://plot.ly\";Plotly.newPlot(\"174861fd-fb21-41f0-999f-2470b1a879fa\", [{\"type\": \"bar\", \"x\": [\"Hombres\", \"Mujeres\"], \"y\": [2.7941176470588234, 1.9333333333333333], \"name\": \"Consumo Medio Semanal\"}, {\"type\": \"bar\", \"x\": [\"Hombres\", \"Mujeres\"], \"y\": [1.8272058823529411, 1.2820512820512822], \"name\": \"Consumo Medio Diario\"}], {\"barmode\": \"group\"}, {\"showLink\": true, \"linkText\": \"Export to plot.ly\"})});</script>"
      ]
     },
     "metadata": {},
     "output_type": "display_data"
    }
   ],
   "source": [
    "m_walc_mean = data_male['Walc'].mean()\n",
    "fem_walc_mean = data_female['Walc'].mean()\n",
    "m_dalc_mean = data_male['Dalc'].mean()\n",
    "fem_dalc_mean = data_female['Dalc'].mean()\n",
    "\n",
    "from plotly.offline import download_plotlyjs, init_notebook_mode, plot, iplot\n",
    "import plotly.graph_objs as go\n",
    "init_notebook_mode(connected=True)\n",
    "\n",
    "trace1 = go.Bar(\n",
    "    x=['Hombres', 'Mujeres'],\n",
    "    y=[m_walc_mean,fem_walc_mean],\n",
    "    name='Consumo Medio Semanal'\n",
    ")\n",
    "trace2 = go.Bar(\n",
    "    x=['Hombres', 'Mujeres'],\n",
    "    y=[m_dalc_mean,fem_dalc_mean],\n",
    "    name='Consumo Medio Diario'\n",
    ")\n",
    "\n",
    "data2plot = [trace1, trace2]\n",
    "layout = go.Layout(\n",
    "    barmode='group'\n",
    ")\n",
    "\n",
    "fig = go.Figure(data=data2plot, layout=layout)\n",
    "iplot(fig, filename='grouped-bar')"
   ]
  },
  {
   "cell_type": "markdown",
   "metadata": {},
   "source": [
    "<img src=\"alc_sex_relation.png\"  alt=\"Drawing\" style=\"width: 800px;\">"
   ]
  },
  {
   "cell_type": "code",
   "execution_count": 16,
   "metadata": {},
   "outputs": [
    {
     "data": {
      "application/vnd.plotly.v1+json": {
       "data": [
        {
         "type": "bar",
         "x": [
          15,
          16,
          17,
          18,
          19,
          20,
          21,
          22
         ],
         "y": [
          2.9107142857142856,
          2.959537572254335,
          3.99438202247191,
          4.232394366197183,
          7.4222222222222225,
          7,
          8,
          12
         ]
        }
       ],
       "layout": {}
      },
      "text/html": [
       "<div id=\"38764e15-86a6-4ddd-b406-c072c0075ee7\" style=\"height: 525px; width: 100%;\" class=\"plotly-graph-div\"></div><script type=\"text/javascript\">require([\"plotly\"], function(Plotly) { window.PLOTLYENV=window.PLOTLYENV || {};window.PLOTLYENV.BASE_URL=\"https://plot.ly\";Plotly.newPlot(\"38764e15-86a6-4ddd-b406-c072c0075ee7\", [{\"type\": \"bar\", \"x\": [15, 16, 17, 18, 19, 20, 21, 22], \"y\": [2.9107142857142856, 2.959537572254335, 3.99438202247191, 4.232394366197183, 7.4222222222222225, 7.0, 8.0, 12.0]}], {}, {\"showLink\": true, \"linkText\": \"Export to plot.ly\"})});</script>"
      ],
      "text/vnd.plotly.v1+html": [
       "<div id=\"38764e15-86a6-4ddd-b406-c072c0075ee7\" style=\"height: 525px; width: 100%;\" class=\"plotly-graph-div\"></div><script type=\"text/javascript\">require([\"plotly\"], function(Plotly) { window.PLOTLYENV=window.PLOTLYENV || {};window.PLOTLYENV.BASE_URL=\"https://plot.ly\";Plotly.newPlot(\"38764e15-86a6-4ddd-b406-c072c0075ee7\", [{\"type\": \"bar\", \"x\": [15, 16, 17, 18, 19, 20, 21, 22], \"y\": [2.9107142857142856, 2.959537572254335, 3.99438202247191, 4.232394366197183, 7.4222222222222225, 7.0, 8.0, 12.0]}], {}, {\"showLink\": true, \"linkText\": \"Export to plot.ly\"})});</script>"
      ]
     },
     "metadata": {},
     "output_type": "display_data"
    }
   ],
   "source": [
    "ages = list(range(15, 23))\n",
    "absences_age = []\n",
    "\n",
    "for age in ages:\n",
    "    absences_age.append((data.query('age == '+str(age))['absences']).mean())\n",
    "\n",
    "plotdata = [go.Bar(\n",
    "            x=ages,\n",
    "            y=absences_age\n",
    "    )]\n",
    "\n",
    "iplot(plotdata, filename='basic-bar')"
   ]
  },
  {
   "cell_type": "markdown",
   "metadata": {},
   "source": [
    "<img src=\"age_absences.png\"  alt=\"Drawing\" style=\"width: 800px;\">"
   ]
  }
 ],
 "metadata": {
  "kernelspec": {
   "display_name": "Python 3",
   "language": "python",
   "name": "python3"
  },
  "language_info": {
   "codemirror_mode": {
    "name": "ipython",
    "version": 3
   },
   "file_extension": ".py",
   "mimetype": "text/x-python",
   "name": "python",
   "nbconvert_exporter": "python",
   "pygments_lexer": "ipython3",
   "version": "3.6.1"
  }
 },
 "nbformat": 4,
 "nbformat_minor": 2
}
