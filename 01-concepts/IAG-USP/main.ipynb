{
 "cells": [
  {
   "cell_type": "markdown",
   "metadata": {},
   "source": [
    "# Introdução a Machine Learning\n",
    "\n",
    "Nina S. T. Hirata<br>\n",
    "Prof. Associado<br>\n",
    "Depto. de Ciência da Computação<br>\n",
    "Instituto de Matemática e Estatística<br>\n",
    "Universidade de São Paulo<br>\n",
    "\n",
    "<div style=\"float: right;\">vitormeriat</div>\n",
    "\n",
    "<br>\n",
    "<hr>\n",
    "<br>\n",
    "\n",
    "## Conteúdo\n",
    "\n",
    "\n",
    "1. [Introdução](intro.ipynb)\n",
    "   - classificação supervisionada x não-supervisionada\n",
    "   - exemplos\n",
    "   - regressão x classificação\n",
    "   - classificador de Bayes\n",
    "   - função de custo, minimização de função de custo\n",
    "   \n",
    "2. Conceitos, fundamentos, prática\n",
    "    0. [Familiarizar-se com Python](practice_basics.ipynb)\n",
    "    1. [Regressão linear com gradiente descendente](practice_regression.ipynb)\n",
    "    2. [Classificação binária](classification.ipynb)\n",
    "        * Prática: notebook [practice classification1](practice_classification1.ipynb)\n",
    "        * Prática: notebook [practice classification2](practice_classification2.ipynb)\n",
    "    3. [Exemplos usando scikit-learn](practice_scikitlearn.ipynb)\n",
    "    4. [Treinamento, validação, teste, validação cruzada](mais_scikitlearn.ipynb)"
   ]
  },
  {
   "cell_type": "markdown",
   "metadata": {},
   "source": [
    "### Arquivos\n",
    "\n",
    "Lista de Python notebooks na pasta ML/notebooks"
   ]
  },
  {
   "cell_type": "code",
   "execution_count": 6,
   "metadata": {},
   "outputs": [
    {
     "name": "stdout",
     "output_type": "stream",
     "text": [
      "data\n",
      "intro.ipynb\n",
      "main.ipynb\n"
     ]
    }
   ],
   "source": [
    "!ls"
   ]
  },
  {
   "cell_type": "markdown",
   "metadata": {},
   "source": [
    "Lista de arquivos de dados na pasta ML/data"
   ]
  },
  {
   "cell_type": "code",
   "execution_count": 7,
   "metadata": {},
   "outputs": [
    {
     "name": "stdout",
     "output_type": "stream",
     "text": [
      "data1.txt\n",
      "data2.txt\n"
     ]
    }
   ],
   "source": [
    "!ls data"
   ]
  },
  {
   "cell_type": "code",
   "execution_count": null,
   "metadata": {},
   "outputs": [],
   "source": []
  }
 ],
 "metadata": {
  "kernelspec": {
   "display_name": "Python 3",
   "language": "python",
   "name": "python3"
  },
  "language_info": {
   "codemirror_mode": {
    "name": "ipython",
    "version": 3
   },
   "file_extension": ".py",
   "mimetype": "text/x-python",
   "name": "python",
   "nbconvert_exporter": "python",
   "pygments_lexer": "ipython3",
   "version": "3.6.4"
  }
 },
 "nbformat": 4,
 "nbformat_minor": 1
}
