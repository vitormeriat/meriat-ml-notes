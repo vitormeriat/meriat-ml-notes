{
 "cells": [
  {
   "cell_type": "markdown",
   "metadata": {},
   "source": [
    "# Regressão Linear\n",
    "\n",
    "Vamos supor que tenhamos dados em tabela sobre duas variáveis: **x** e **y**. Se colocarmos cada par **(x,y)** em um gráfico, teremos uma figura como a seguinte:\n",
    "\n",
    "![1](https://matheusfacure.github.io/img/tutorial/regr_lin_mqo/scatter.png)\n",
    "\n",
    "O que o algoritmo de regressão linear faz é simplesmente achar a reta que melhor se encaixa entre os pontos:\n",
    "\n",
    "Assim, podemos prever (com erro) um valor de y dado um valor de x. Por exemplo, nós não temos uma observação em que x=1, mas gostaríamos de prever qual seria o valor de y caso x fosse 1. Basta então olhar na linha qual valor de y quando x assume o valor 1. Na imagem acima, y seria aproximadamente 2.5 (ponto amarelo).\n",
    "\n",
    "![2](https://matheusfacure.github.io/img/tutorial/regr_lin_mqo/scatter_line.png)\n",
    "\n",
    "Ok. Esse exemplo é bem simples e meramente ilustrativo. Suponha agora que y não dependa mais apenas de x, mas de x e z. Bem, nesse caso, teríamos um gráfico em 3D e a regressão linear acharia o plano que melhor se encaixa nos dados. E para mais dimensões? Digamos que y dependa de 100 variáveis. Nós não podemos mais visualizar esse caso, mas sabemos que não é muito diferente dos casos 2D ou 3D, só que agora a regressão linear acha o hiperplano que melhor se encaixa nos dados. Se isso está um pouco abstrato e difícil de visualizar, pense  sempre em 3D quando trabalhando com muitas dimensões. É um truque muito útil que eu aprendi em um vídeo do professor de Geoffrey Hinton e, segundo ele, todo mundo faz isso: quando tentar visualizar 100 dimensões, por exemplo, pense em 3D e grite para si mesmo \"100D\" e você conseguirá abstrair grandes dimensionalidades.\n",
    "\n",
    "### Justificativa matemática\n",
    "Imagine que temos dados em tabela, sendo que cada linha é uma observação e cada coluna uma variável. Então escolhemos uma das colunas para ser nossa variável dependente y (aquela que queremos prever) e as outras serão as variáveis independentes (X). Nosso objetivo é aprender como chegar das variáveis independentes na variável dependente, ou, em outras palavras, prever y a partir de X. Note que X é uma matriz nxd, em que n é o número de observações e d o número de dimensões; y é um vetor coluna nx1. Podemos definir o problema como um sistema de equações em que cada equação é uma observação:\n",
    "\n",
    "$\\begin{cases}\n",
    "w_0 + w_1 x_1 + ... + w_d x_1 = y_1 \\\\\n",
    "w_0 + w_1 x_2 + ... + w_d x_2 = y_2 \\\\\n",
    "... \\\\\n",
    "w_0 + w_1 x_n + ... + w_d x_n = y_n \\\\\n",
    "\\end{cases}$\n",
    "\n",
    "Normalmente $n > d$, isto é, temos mais observações que dimensões. Sistemas assim costumam não ter solução, pois há muitas equações e poucas variáveis para ajustar. Intuitivamente, pense que, na prática, muitas coisas afetam a variável y, principalmente se ela for algo de interesse das ciências humanas como, por exemplo, preço, desemprego, felicidade etc. Muitas das coisas que afetam y não podem ser coletadas como dados; desse modo, as equações acima não teriam solução porque não teríamos todos os fatores que afetam y.\n",
    "\n",
    "Para lidar com esse problema, vamos adicionar nas equações um termo erro ε que representará os fatores que não conseguimos observar, erros de medição, etc.\n",
    "\n",
    "$\\begin{cases}\n",
    "w_0 + w_1 x_{11} + ... + w_d x_{1d} + \\varepsilon_1 = y_1 \\\\\n",
    "w_0 + w_1 x_{21} + ... + w_d x_{2d} + \\varepsilon_2 = y_2 \\\\\n",
    "... \\\\\n",
    "w_0 + w_1 x_{n1} + ... + w_d x_{nd} + \\varepsilon_3 = y_n \\\\\n",
    "\\end{cases}$\n",
    "\n",
    "Ou, em forma de matriz:\n",
    "\n",
    "$\\begin{bmatrix}\n",
    "1 & x_{11} & ... & x_{1d} \\\\\n",
    "1 & x_{21} & ... & x_{2d} \\\\\n",
    "\\vdots & \\vdots& \\vdots & \\vdots \\\\\n",
    "1 & x_{n1} & ... & x_{nd} \\\\\n",
    "\\end{bmatrix}\n",
    "\\times\n",
    "\\begin{bmatrix}\n",
    "w_0 \\\\\n",
    "w_1 \\\\\n",
    "\\vdots \\\\\n",
    "w_d \\\\\n",
    "\\end{bmatrix}\n",
    "+\n",
    "\\begin{bmatrix}\n",
    "\\varepsilon_0 \\\\\n",
    "\\varepsilon_1 \\\\\n",
    "\\vdots \\\\\n",
    "\\varepsilon_n \\\\\n",
    "\\end{bmatrix}\n",
    "=\n",
    "\\begin{bmatrix}\n",
    "y_0 \\\\\n",
    "y_1 \\\\\n",
    "\\vdots \\\\\n",
    "y_n \\\\\n",
    "\\end{bmatrix}$\n",
    "\n",
    "$X_{nd} \\pmb{w}_{d1} + \\pmb{\\epsilon}_{n1} = \\pmb{y}_{n1}$\n",
    "\n",
    "Para estimar a equação acima, usaremos a técnica de Mínimos Quadrados Ordinários (MQO): queremos achar os $\\pmb{\\hat{w}}$  que minimizam os $n \\varepsilon^2$, ou, na forma de vetor, $\\pmb{\\epsilon}^T \\pmb{\\epsilon}$. Por que minimizar os erros quadrados? Assim como todo algoritmo de Aprendizado de Máquina, regressão linear também pode ser encarada como problemas de minimização de função custo. Então, nesse caso, nossa função custo é $L = \\pmb{\\epsilon}^T \\pmb{\\epsilon}$. Um nome comum dessa função é o custo quadrático $L2$, pois nesse caso o custo é o quadrado da norma $L2$ do vetor $\\pmb{\\epsilon}$. Note que nós poderíamos usar também a norma $L1$ do mesmo vetor como função custo. Ou ainda, poderíamos usar outras funções que adicionam uma penalidade também para o tamanho de $\\pmb{\\hat{w}}$, como acontece nos algoritmos de regressão Ridge ou Lasso, mas isso terá que ficar para outro tutorial. Por hora, a soma dos mínimos quadrados bastará como função custo, até porque ela tem a vantagem de deixar a matemática muito mais simples:\n",
    "\n",
    "$\\pmb{\\epsilon}^T  \\pmb{\\epsilon} = (\\pmb{y} - \\pmb{\\hat{w}}X)^T(\\pmb{y} - \\pmb{\\hat{w}} X) \\\\= \\pmb{y}^T \\pmb{y} - \\pmb{\\hat{w}}^T X^T \\pmb{y} - \\pmb{y}^T X \\pmb{\\hat{w}} + \\pmb{\\hat{w}} X^T X \\pmb{\\hat{w}} \\\\= \\pmb{y}^T \\pmb{y} - 2\\pmb{\\hat{w}}^T X^T \\pmb{y} + \\pmb{\\hat{w}} X^T X \\pmb{\\hat{w}}$\n",
    "\n",
    "![]()\n",
    "\n",
    "![]()\n"
   ]
  },
  {
   "cell_type": "code",
   "execution_count": 3,
   "metadata": {},
   "outputs": [
    {
     "data": {
      "image/png": "[encoded data removed]",
      "text/plain": [
       "<matplotlib.figure.Figure at 0x1082dbc18>"
      ]
     },
     "metadata": {},
     "output_type": "display_data"
    }
   ],
   "source": [
    "import pandas as pd\n",
    "from sklearn import linear_model\n",
    "import matplotlib.pyplot as plt\n",
    "\n",
    "#read data\n",
    "dataframe = pd.read_fwf('brain_body.txt')\n",
    "x_values = dataframe[['Brain']]\n",
    "y_values = dataframe[['Body']]\n",
    "\n",
    "#train model on data\n",
    "body_reg = linear_model.LinearRegression()\n",
    "body_reg.fit(x_values, y_values)\n",
    "\n",
    "#visualize results\n",
    "plt.scatter(x_values, y_values)\n",
    "plt.plot(x_values, body_reg.predict(x_values))\n",
    "plt.show()"
   ]
  },
  {
   "cell_type": "markdown",
   "metadata": {},
   "source": [
    "Para o modelo de Regressão Linear, será usada a classe do scikit-learn chamada **LinearRegression**. Essa classe tem a função **fit()** que treina o modelo nos seus dados.\n",
    "\n",
    "```\n",
    "from sklearn.linear_model import LinearRegression\n",
    "model = LinearRegression()\n",
    "model.fit(x_values, y_values)\n",
    "```\n",
    "\n",
    "Como no exemplo acima, a variável model é um modelo de Regressão Linear que foi treinado nos dados de x_values e y_values. Treinar o modelo significa encontrar a melhor linha que se encaixe nos dados de treinamento. Vamos fazer duas predições usando a função predict() do modelo.\n",
    "\n",
    "```\n",
    "print(model.predict([ [127], [248] ]))\n",
    ">>> [[ 438.94308857, 127.14839521]]\n",
    "```\n",
    "\n",
    "O modelo retorna um vetor de previsões, uma previsão para cada vetor de entrada. O primeiro item, [127], teve a previsão de 438.94308857. Já o segundo item, [248], recebeu a previsão de 127.14839521. A razão para a previsão ser feita em um vetor como [127] e não apenas no número 127, é porque você pode ter um modelo que faz previsões baseadas em diversas características. Nós veremos o uso de múltiplas variáveis em regressão linear mais adiante nessa aula. Por enquanto, vamos estudar o uso de apenas uma.\n",
    "\n",
    "## Regressão Linear - Quiz\n",
    "Neste quiz, você trabalhará com dados sobre a média da expectativa de vida e a média do IMC no nascimento de homens ao redor do mundo. Os dados vem do Gapminder.\n",
    "\n",
    "O arquivo de dados pode ser encontrado na aba \"bmi_and_life_expectancy.csv\" do quiz abaixo. Os dados incluem também o país de origem das pessoas, presentes na coluna \"Country\". A expectativa de vida para uma pessoa daquele país está na coluna \"Life expectancy\". A média do IMC de uma criança nascida naquele país na coluna \"BMI\". Você preverá a expectativa de vida baseado no IMC.\n",
    "\n",
    "Você deverá completar cada um dos seguintes passos:\n",
    "\n",
    "#### 1. Carregar os dados\n",
    "\n",
    "* Os dados estão no arquivo chamado \"bmi_and_life_expectancy.csv\".\n",
    "* Use a função do pandas chamada read_csv para carregar os dados em um dataframe.\n",
    "* Salve o dataframe na variável bmi_life_data.\n",
    "\n",
    "#### 2. Construa um modelo de regressão linear\n",
    "\n",
    "* Crie um modelo de regressão usando o objeto LinearRegression do scikit-learn e salve-o na variável bmi_life_model.\n",
    "* Treine o modelo com os dados.\n",
    "\n",
    "#### 3. Faça previsões com o modelo\n",
    "* Faça previsões usando um IMC de 21.07931 e o salve na variável laos_life_exp."
   ]
  },
  {
   "cell_type": "code",
   "execution_count": 1,
   "metadata": {
    "collapsed": true
   },
   "outputs": [],
   "source": [
    "# TODO: Add import statements\n",
    "import pandas as pd\n",
    "from sklearn.linear_model import LinearRegression\n",
    "\n",
    "# Assign the dataframe to this variable.\n",
    "# TODO: Load the data\n",
    "bmi_life_data = pd.read_csv(\"bmi_and_life_expectancy.csv\")\n",
    "\n",
    "# Make and fit the linear regression model\n",
    "#TODO: Fit the model and Assign it to bmi_life_model\n",
    "bmi_life_model = LinearRegression()\n",
    "bmi_life_model.fit(bmi_life_data[['BMI']], bmi_life_data[['Life expectancy']])\n",
    "\n",
    "# Mak a prediction using the model\n",
    "# TODO: Predict life expectancy for a BMI value of 21.07931\n",
    "laos_life_exp = bmi_life_model.predict(21.07931)"
   ]
  },
  {
   "cell_type": "code",
   "execution_count": 2,
   "metadata": {},
   "outputs": [
    {
     "data": {
      "text/plain": [
       "array([[ 60.31564716]])"
      ]
     },
     "execution_count": 2,
     "metadata": {},
     "output_type": "execute_result"
    }
   ],
   "source": [
    "laos_life_exp"
   ]
  },
  {
   "attachments": {},
   "cell_type": "markdown",
   "metadata": {},
   "source": [
    "## Avisos sobre a regressão linear\n",
    "\n",
    "A regressão linear vem com uma série de suposições implícitas que nem sempre a fazem o melhor modelo para determinada situação. Eis alguns exemplos de problemas que você deve ter em mente.\n",
    "\n",
    "#### Regressão linear funciona melhor quando os dados são lineares\n",
    "A regressão linear produz um modelo que é uma linha reta extraída a partir dos dados de treinamento. Se a relação entre os dados de treinamento não for de fato linear, será necessário fazer alguns ajustes (transformações nos dados de treinamento), adicionar novas variáveis (veremos isso a seguir) ou, ainda, usar outro tipo de modelo\n",
    "\n",
    "![quadraticlinearregression](quadraticlinearregression.png)\n",
    "\n",
    "#### Regressões lineares são sensíveis a casos extraordinários\n",
    "A regressão linear tenta encontrar a linha que \"melhor se encaixa\" nos dados de treinamento. Caso o conjunto de dados tenha valores extremos que fujam muito do padrão geral, eles podem ter um efeito inesperadamente grande no modelo.\n",
    "\n",
    "Neste primeiro gráfico, o modelo se encaixa nos dados muito bem.\n",
    "\n",
    "![lin-reg-no-outliers](lin-reg-no-outliers.png)\n",
    "\n",
    "No entanto, se adicionarmos alguns pontos extraordinários que não se encaixam no padrão, o modo como o modelo faz previsões muda radicalmente.\n",
    "\n",
    "![lin-reg-w-outliers](lin-reg-w-outliers.png)\n",
    "\n",
    "Na maioria dos casos, será desejável criar um modelo que se encaixe na maioria dos dados, então, tome cuidado com os casos extraordinários!\n",
    "\n",
    "## Regressão linear múltipla\n",
    "Na última seção, vimos que é possível prever a expectativa de vida usando o IMC. Nesse caso, dizemos que o IMC era o preditor, também chamado de variável independente. O preditor é a variável que se procura para fazer previsões sobre outras variáveis, enquanto os valores que se busca prever são chamados de variável dependente. Neste nosso caso, a variável dependente era a expectativa de vida.\n",
    "\n",
    "Agora, digamos que também temos a frequência cardíaca de cada pessoa. É possível criar uma previsão de expectativa de vida usando tanto o IMC como a frequência cardíaca?\n",
    "\n",
    "Claro que sim! Podemos fazer exatamente isso usando a regressão linear múltipla.\n",
    "\n",
    "Caso o resultado que você quer prever dependa de mais de uma variável, é possível fazer um modelo um pouco mais complexo, que leve isso em consideração. Desde que sejam relevantes para situação, quanto mais variáveis preditoras/independentes seu modelo tiver, melhores podem ser as previsões.\n",
    "\n",
    "Quando há apenas um preditor, o modelo da regressão linear é uma linha, mas, ao adicionar mais variáveis preditoras, são adicionadas mais dimensões ao desenho.\n",
    "\n",
    "Ao usar a variável preditora, a equação da linha é:\n",
    "\n",
    "$y = mx + b$\n",
    "\n",
    "E o gráfico resultante é algo parecido com isso:\n",
    "\n",
    "![just-a-simple-lin-reg](just-a-simple-lin-reg.png)\n",
    "\n",
    "#### Regressão linear com uma variável preditora\n",
    "\n",
    "Ao adicionar uma variável preditora, totalizando duas, a equação de previsão vira:\n",
    "\n",
    "$y = m^1x^1 + m^2x^2 + b$\n",
    "\n",
    "Para representar isso graficamente, precisaremos de um gráfico tridimensional, com o modelo de regressão linear representado como um plano:\n",
    "\n",
    "![just-a-2d-reg](just-a-2d-reg.png)\n",
    "\n",
    "#### Regressão linear com duas variáveis preditoras\n",
    "\n",
    "Você pode usar mais de duas variáveis preditoras. Na verdade, pode usar quantos quiser. Se você utilizar nn variáveis preditoras, o modelo poderá ser representado pela equação\n",
    "\n",
    "$y = m^1x^1 + m^2x^2 + m^3x^3 + m^nx^n + b$\n",
    "\n",
    "Conforme constrói modelos com mais variáveis, a visualização vai ficando mais difícil, mas, por sorte, todo o restante em relação à regressão linear permanece igual. Ainda podemos incluir modelos e fazer previsões da mesma maneira - vamos fazer um teste!\n",
    "\n",
    "### Quiz de programação: Regressão linear múltipla\n",
    "Neste quiz, você usará o conjunto de dados [Boston house-prices](https://archive.ics.uci.edu/ml/datasets/Housing). Ele consiste em 13 características de 506 casas, e seu valor médio é de cerca de US$ 1000. Você aplicará um modelo às 13 características para prever o valor das casas.\n",
    "\n",
    "É necessário concluir os seguintes passos:\n",
    "\n",
    "#### 1. Construa um modelo de regressão linear\n",
    "* Crie um modelo de regressão linear usando o LinearRegression do scikit-learn e o aloque a model.\n",
    "* Aplique o modelo aos dados.\n",
    "\n",
    "#### 2. Faça previsões usando o modelo\n",
    "* Preveja o valor de sample_house."
   ]
  },
  {
   "cell_type": "code",
   "execution_count": 38,
   "metadata": {},
   "outputs": [
    {
     "data": {
      "text/plain": [
       "LinearRegression(copy_X=True, fit_intercept=True, n_jobs=1, normalize=False)"
      ]
     },
     "execution_count": 38,
     "metadata": {},
     "output_type": "execute_result"
    }
   ],
   "source": [
    "from sklearn.linear_model import LinearRegression\n",
    "from sklearn.datasets import load_boston\n",
    "\n",
    "# Load the data from the the boston house-prices dataset \n",
    "boston_data = load_boston()\n",
    "x = boston_data['data']\n",
    "y = boston_data['target']\n",
    "\n",
    "# Make and fit the linear regression model\n",
    "# TODO: Fit the model and Assign it to the model variable\n",
    "model = LinearRegression()\n",
    "model.fit(x, y)"
   ]
  },
  {
   "cell_type": "code",
   "execution_count": 39,
   "metadata": {
    "collapsed": true
   },
   "outputs": [],
   "source": [
    "# Mak a prediction using the model\n",
    "sample_house = [[2.29690000e-01, 0.00000000e+00, 1.05900000e+01, 0.00000000e+00, 4.89000000e-01,\n",
    "                6.32600000e+00, 5.25000000e+01, 4.35490000e+00, 4.00000000e+00, 2.77000000e+02,\n",
    "                1.86000000e+01, 3.94870000e+02, 1.09700000e+01]]"
   ]
  },
  {
   "cell_type": "code",
   "execution_count": 40,
   "metadata": {},
   "outputs": [
    {
     "data": {
      "text/plain": [
       "array([ -1.07170557e-01,   4.63952195e-02,   2.08602395e-02,\n",
       "         2.68856140e+00,  -1.77957587e+01,   3.80475246e+00,\n",
       "         7.51061703e-04,  -1.47575880e+00,   3.05655038e-01,\n",
       "        -1.23293463e-02,  -9.53463555e-01,   9.39251272e-03,\n",
       "        -5.25466633e-01])"
      ]
     },
     "execution_count": 40,
     "metadata": {},
     "output_type": "execute_result"
    }
   ],
   "source": [
    "model.coef_"
   ]
  },
  {
   "cell_type": "code",
   "execution_count": 41,
   "metadata": {},
   "outputs": [
    {
     "data": {
      "text/plain": [
       "36.491103280359525"
      ]
     },
     "execution_count": 41,
     "metadata": {},
     "output_type": "execute_result"
    }
   ],
   "source": [
    "model.intercept_"
   ]
  },
  {
   "cell_type": "code",
   "execution_count": 42,
   "metadata": {},
   "outputs": [
    {
     "data": {
      "text/plain": [
       "array([ 23.68420569])"
      ]
     },
     "execution_count": 42,
     "metadata": {},
     "output_type": "execute_result"
    }
   ],
   "source": [
    "# TODO: Predict housing price for the sample_house\n",
    "prediction = model.predict(sample_house)\n",
    "\n",
    "# 23.68420569227329 is the correct prediction!\n",
    "prediction"
   ]
  },
  {
   "cell_type": "markdown",
   "metadata": {},
   "source": [
    "## How to Do Linear Regression the Right Way\n",
    "\n",
    "This is the code for the \"How to Do Linear Regression the Right Way\" live session by Siraj Raval on Youtube\n",
    "\n",
    "#### Overview\n",
    "This is the code for [this video on Youtube by Siraj Raval](https://youtu.be/uwwWVAgJBcM). I'm using a small dataset of student test scores and the amount of hours they studied. Intuitively, there must be a relationship right? The more you study, the better your test scores should be. We're going to use [linear regression](https://onlinecourses.science.psu.edu/stat501/node/250) to prove this relationship.\n",
    "\n",
    "Here are some helpful links:\n",
    "\n",
    "Gradient descent visualization\n",
    "![gd](https://raw.githubusercontent.com/mattnedrich/GradientDescentExample/master/gradient_descent_example.gif)\n",
    "\n",
    "Sum of squared distances formula (to calculate our error)\n",
    "![lre](https://spin.atomicobject.com/wp-content/uploads/linear_regression_error1.png)\n",
    "\n",
    "Partial derivative with respect to b and m (to perform gradient descent)\n",
    "![lrg](https://spin.atomicobject.com/wp-content/uploads/linear_regression_gradient1.png)\n",
    "\n",
    "* https://mathinsight.org/image/partial_derivative_as_slope\n",
    "* http://www.dummies.com/education/math/calculus/how-to-use-a-partial-derivative-to-measure-a-slope-in-three-dimensions/\n",
    "* https://spin.atomicobject.com/2014/06/24/gradient-descent-linear-regression/\n",
    "* https://www.quora.com/What-is-an-intuitive-explanation-of-gradient-descent\n",
    "* https://machinelearningmastery.com/gradient-descent-for-machine-learning/\n"
   ]
  },
  {
   "cell_type": "code",
   "execution_count": 31,
   "metadata": {},
   "outputs": [],
   "source": [
    "#The optimal values of m and b can be actually calculated with way less effort than doing a linear regression. \n",
    "#this is just to demonstrate gradient descent\n",
    "\n",
    "from numpy import *\n",
    "\n",
    "# y = mx + b\n",
    "# m is slope, b is y-intercept\n",
    "def compute_error_for_line_given_points(b, m, points):\n",
    "    # initialize it at 0\n",
    "    totalError = 0\n",
    "    # for every point\n",
    "    for i in range(0, len(points)):\n",
    "        # get the x value\n",
    "        x = points[i, 0]\n",
    "        # get the y value\n",
    "        y = points[i, 1]\n",
    "        # get the diference, square it, add it to the total\n",
    "        totalError += (y - (m * x + b)) ** 2\n",
    "        #print(\"error = \", totalError)\n",
    "        \n",
    "    # get the average\n",
    "    return totalError / float(len(points))\n",
    "\n",
    "# Magic the greatest the greatest\n",
    "def step_gradient(b_current, m_current, points, learningRate):\n",
    "    # starting points for our gradients\n",
    "    b_gradient = 0\n",
    "    m_gradient = 0\n",
    "    \n",
    "    # é a quantidade de pontos\n",
    "    N = float(len(points))\n",
    "    \n",
    "    # para cada ponto vamos calcular a derivada parcial em relação ao b e ao m.\n",
    "    # isso vai nos dar uma direção a seguir.\n",
    "    for i in range(0, len(points)):\n",
    "        x = points[i, 0]\n",
    "        y = points[i, 1]\n",
    "        # direction with respect to b and m computing partial derivatives of our erro function\n",
    "        # esses são os calculos da nossa derivada parcial para b e m\n",
    "        b_gradient += -(2/N) * (y - ((m_current * x) + b_current))\n",
    "        m_gradient += -(2/N) * x * (y - ((m_current * x) + b_current))\n",
    "        \n",
    "    # update our b and m values using our partial derivatives    \n",
    "    new_b = b_current - (learningRate * b_gradient)\n",
    "    new_m = m_current - (learningRate * m_gradient)\n",
    "    return [new_b, new_m]\n",
    "\n",
    "def gradient_descent_runner(points, starting_b, starting_m, learning_rate, num_iterations):\n",
    "    # starting b and m\n",
    "    b = starting_b\n",
    "    m = starting_m\n",
    "    \n",
    "    # gradient descent\n",
    "    for i in range(num_iterations):\n",
    "        # update b and m with the new more accurate b and m by performing this gradient step\n",
    "        b, m = step_gradient(b, m, array(points), learning_rate)\n",
    "    return [b, m]\n",
    "\n",
    "def run():\n",
    "    # Step 1 - collect our data\n",
    "    points = genfromtxt(\"data.csv\", delimiter=\",\")\n",
    "    \n",
    "    # Step 2 - define our hyperparamters\n",
    "    # How fast should our model converge? Convergir significa obter o resultado ideal, o melhor ajuste da linha\n",
    "    learning_rate = 0.0001\n",
    "    # y = mx + b {Slope formula - Essa é a fórmula da inclinação}\n",
    "    # Todas as linhas seguem esta fórmula, onde m é a inclinação, b é a intercepção e x e y os pontos.\n",
    "    initial_b = 0 # initial y-intercept guess\n",
    "    initial_m = 0 # initial slope guess\n",
    "    num_iterations = 1000\n",
    "    \n",
    "    # Step 3 - train our model\n",
    "    # Exibe os valores iniciais de b e m.\n",
    "    print(\"Starting gradient descent at b = {0}, m = {1}, error = {2}\"\n",
    "          .format(initial_b, initial_m, \n",
    "                  compute_error_for_line_given_points(initial_b, initial_m, points)))\n",
    "    \n",
    "    print(\"\\nRunning...\")\n",
    "    \n",
    "    # Vamos executar nosso gradient descent que vai nos dar nossa inclinação (b) ideal, e nossa\n",
    "    # descida (m) ideal.\n",
    "    [b, m] = gradient_descent_runner(points, initial_b, initial_m, learning_rate, num_iterations)\n",
    "    \n",
    "    print(\"\\nAfter {0} iterations \\n  b = {1}, \\n  m = {2}, \\n  error = {3}\"\n",
    "          .format(num_iterations, b, m, \n",
    "                  compute_error_for_line_given_points(b, m, points)))"
   ]
  },
  {
   "cell_type": "code",
   "execution_count": 32,
   "metadata": {},
   "outputs": [
    {
     "name": "stdout",
     "output_type": "stream",
     "text": [
      "Starting gradient descent at b = 0, m = 0, error = 5565.107834483211\n",
      "\n",
      "Running...\n",
      "\n",
      "After 1000 iterations \n",
      "  b = 0.08893651993741346, \n",
      "  m = 1.4777440851894448, \n",
      "  error = 112.61481011613473\n"
     ]
    }
   ],
   "source": [
    "run()"
   ]
  },
  {
   "cell_type": "markdown",
   "metadata": {},
   "source": [
    "# Linear and Polynomial Regression in Python\n",
    "\n",
    "This brief tutorial demonstrates how to use Numpy and SciPy functions in Python to regress linear or polynomial functions that minimize the least squares difference between measured and predicted values."
   ]
  },
  {
   "cell_type": "code",
   "execution_count": 43,
   "metadata": {
    "collapsed": true
   },
   "outputs": [],
   "source": [
    "from numpy import *"
   ]
  },
  {
   "cell_type": "code",
   "execution_count": 44,
   "metadata": {
    "collapsed": true
   },
   "outputs": [],
   "source": [
    "x = array([0, 1, 2, 3, 4, 5])\n",
    "y = array([0, 0.8, 0.9, 0.1, -0.8, -1])"
   ]
  },
  {
   "cell_type": "code",
   "execution_count": 46,
   "metadata": {},
   "outputs": [
    {
     "name": "stdout",
     "output_type": "stream",
     "text": [
      "[0 1 2 3 4 5]\n",
      "[ 0.   0.8  0.9  0.1 -0.8 -1. ]\n"
     ]
    }
   ],
   "source": [
    "print(x)\n",
    "print(y)"
   ]
  },
  {
   "cell_type": "code",
   "execution_count": 47,
   "metadata": {
    "collapsed": true
   },
   "outputs": [],
   "source": [
    "from scipy.interpolate import *"
   ]
  },
  {
   "cell_type": "code",
   "execution_count": 49,
   "metadata": {},
   "outputs": [
    {
     "name": "stdout",
     "output_type": "stream",
     "text": [
      "[-0.30285714  0.75714286]\n"
     ]
    }
   ],
   "source": [
    "p1 = polyfit(x,y,1)\n",
    "\n",
    "# slope and intercept\n",
    "print(p1)"
   ]
  },
  {
   "cell_type": "code",
   "execution_count": 51,
   "metadata": {
    "collapsed": true
   },
   "outputs": [],
   "source": [
    "from matplotlib.pyplot import *\n",
    "%matplotlib inline"
   ]
  },
  {
   "cell_type": "code",
   "execution_count": 52,
   "metadata": {},
   "outputs": [
    {
     "data": {
      "text/plain": [
       "[<matplotlib.lines.Line2D at 0x113457128>]"
      ]
     },
     "execution_count": 52,
     "metadata": {},
     "output_type": "execute_result"
    },
    {
     "data": {
      "image/png": "[encoded data removed]",
      "text/plain": [
       "<matplotlib.figure.Figure at 0x11333d748>"
      ]
     },
     "metadata": {},
     "output_type": "display_data"
    }
   ],
   "source": [
    "plot(x,y,'o')"
   ]
  },
  {
   "cell_type": "code",
   "execution_count": 54,
   "metadata": {},
   "outputs": [
    {
     "data": {
      "text/plain": [
       "[<matplotlib.lines.Line2D at 0x1134b0828>]"
      ]
     },
     "execution_count": 54,
     "metadata": {},
     "output_type": "execute_result"
    },
    {
     "data": {
      "image/png": "[encoded data removed]",
      "text/plain": [
       "<matplotlib.figure.Figure at 0x1134b0cc0>"
      ]
     },
     "metadata": {},
     "output_type": "display_data"
    }
   ],
   "source": [
    "plot(x,y,'o')\n",
    "plot(x, polyval(p1, x), 'r-')"
   ]
  },
  {
   "cell_type": "code",
   "execution_count": 55,
   "metadata": {
    "collapsed": true
   },
   "outputs": [],
   "source": [
    "p2 = polyfit(x,y,2)\n",
    "p3 = polyfit(x,y,3)"
   ]
  },
  {
   "cell_type": "code",
   "execution_count": 57,
   "metadata": {},
   "outputs": [
    {
     "name": "stdout",
     "output_type": "stream",
     "text": [
      "[-0.30285714  0.75714286] \n",
      "\n",
      "[-0.16071429  0.50071429  0.22142857] \n",
      "\n",
      "[ 0.08703704 -0.81349206  1.69312169 -0.03968254]\n"
     ]
    }
   ],
   "source": [
    "print(p1,'\\n')\n",
    "print(p2,'\\n')\n",
    "print(p3)"
   ]
  },
  {
   "cell_type": "code",
   "execution_count": 58,
   "metadata": {},
   "outputs": [
    {
     "data": {
      "text/plain": [
       "[<matplotlib.lines.Line2D at 0x1137b4fd0>]"
      ]
     },
     "execution_count": 58,
     "metadata": {},
     "output_type": "execute_result"
    },
    {
     "data": {
      "image/png": "[encoded data removed]",
      "text/plain": [
       "<matplotlib.figure.Figure at 0x113771e10>"
      ]
     },
     "metadata": {},
     "output_type": "display_data"
    }
   ],
   "source": [
    "plot(x,y,'o')\n",
    "plot(x, polyval(p1, x), 'r-')\n",
    "plot(x, polyval(p2, x), 'b--')\n",
    "plot(x, polyval(p3, x), 'm:')"
   ]
  },
  {
   "cell_type": "code",
   "execution_count": 59,
   "metadata": {},
   "outputs": [
    {
     "data": {
      "text/plain": [
       "[<matplotlib.lines.Line2D at 0x1138e6b38>]"
      ]
     },
     "execution_count": 59,
     "metadata": {},
     "output_type": "execute_result"
    },
    {
     "data": {
      "image/png": "[encoded data removed]",
      "text/plain": [
       "<matplotlib.figure.Figure at 0x1138a4c50>"
      ]
     },
     "metadata": {},
     "output_type": "display_data"
    }
   ],
   "source": [
    "plot(x,y,'o')\n",
    "xp = linspace(-2,6,100)\n",
    "plot(xp, polyval(p1, xp), 'r-')\n",
    "plot(xp, polyval(p2, xp), 'b--')\n",
    "plot(xp, polyval(p3, xp), 'm:')"
   ]
  },
  {
   "cell_type": "code",
   "execution_count": 62,
   "metadata": {},
   "outputs": [
    {
     "name": "stdout",
     "output_type": "stream",
     "text": [
      "[-0.         -0.22930612 -0.45861224 -0.68791837 -0.91722449 -1.14653061]\n",
      "[ 0.   0.8  0.9  0.1 -0.8 -1. ]\n"
     ]
    }
   ],
   "source": [
    "yfit = p1[0] * x * p1[1]\n",
    "print(yfit)\n",
    "print(y)"
   ]
  },
  {
   "cell_type": "code",
   "execution_count": 64,
   "metadata": {},
   "outputs": [
    {
     "name": "stdout",
     "output_type": "stream",
     "text": [
      "-0.148814993753\n"
     ]
    }
   ],
   "source": [
    "yresid = y - yfit\n",
    "SSresid = sum(pow(yresid,2))\n",
    "SStotal = len(y) * var(y)\n",
    "rsq = 1 - SSresid/SStotal\n",
    "\n",
    "print(rsq)"
   ]
  },
  {
   "cell_type": "code",
   "execution_count": 65,
   "metadata": {},
   "outputs": [
    {
     "name": "stdout",
     "output_type": "stream",
     "text": [
      "0.517788018433\n"
     ]
    }
   ],
   "source": [
    "from scipy.stats import *\n",
    "\n",
    "slope, intercept, r_value, p_value, std_err = linregress(x,y)\n",
    "print(pow(r_value,2))"
   ]
  },
  {
   "cell_type": "code",
   "execution_count": 66,
   "metadata": {},
   "outputs": [
    {
     "name": "stdout",
     "output_type": "stream",
     "text": [
      "0.106931296554\n"
     ]
    }
   ],
   "source": [
    "print(p_value)"
   ]
  },
  {
   "cell_type": "code",
   "execution_count": null,
   "metadata": {
    "collapsed": true
   },
   "outputs": [],
   "source": []
  }
 ],
 "metadata": {
  "kernelspec": {
   "display_name": "Python 3",
   "language": "python",
   "name": "python3"
  },
  "language_info": {
   "codemirror_mode": {
    "name": "ipython",
    "version": 3
   },
   "file_extension": ".py",
   "mimetype": "text/x-python",
   "name": "python",
   "nbconvert_exporter": "python",
   "pygments_lexer": "ipython3",
   "version": "3.6.1"
  }
 },
 "nbformat": 4,
 "nbformat_minor": 2
}
