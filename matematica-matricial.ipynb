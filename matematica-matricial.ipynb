{
 "cells": [
  {
   "cell_type": "markdown",
   "metadata": {},
   "source": [
    "# Introdução ao NumPy\n",
    "\n",
    "O Python é conveniente, mas também pode ser lento. Porém, ele permite que você acesse bibliotecas que executam mais rapidamente códigos escritos em idiomas como o C. O NumPy é uma dessas bibliotecas: oferece alternativas rápidas para operações matemáticas no Python e foi criado para trabalhar de forma eficaz com grupos de números - como matrizes.\n",
    "\n",
    "O NumPy é uma biblioteca extensa e, aqui, daremos apenas uma visão geral dele. Se você planeja fazer muitos cálculos no Python, aconselhamos que explore melhor a documentação para saber mais.\n",
    "\n",
    "Importando o NumPy\n",
    "Ao importar a biblioteca NumPy, o padrão mais frequentemente utilizado – inclusive aqui – é nomeá-la como np, conforme abaixo:"
   ]
  },
  {
   "cell_type": "code",
   "execution_count": 1,
   "metadata": {
    "collapsed": true
   },
   "outputs": [],
   "source": [
    "import numpy as np"
   ]
  },
  {
   "cell_type": "markdown",
   "metadata": {},
   "source": [
    "Agora você pode usar a biblioteca pré-fixando o nome das funções e tipos com np., conforme você verá nos exemplos a seguir.\n",
    "\n",
    "### Formatos e tipos de dados\n",
    "A maneira mais comum de trabalhar com números no NumPy é pelos objetos ndarray. Eles são semelhantes às listas do Python, mas podem ter qualquer número de dimensões. Além disso, ndarray suporta operações matemáticas rápidas, que é exatamente o que queremos.\n",
    "\n",
    "Como ele pode armazenar qualquer número de dimensões, você pode usar ndarrays para representar qualquer um dos tipos de dado que estudamos antes: escalares, vetores, matrizes ou tensores.\n",
    "\n",
    "### Escalares\n",
    "Escalares no NumPy são um pouco mais envolvidos que no Python. Em vez dos tipos básicos do Python, como int, float, etc., o NumPy permite que você especifique tipos assinados ou não, bem como diferentes tamanhos. Então, em vez do int do Python, você terá acesso a tipos como uint8, int8, uint16, int16, e daí em diante.\n",
    "\n",
    "Esses tipos são importantes porque todos os objetos que você cria (vetores, matrizes, tensores), em algum momento, armazenam escalares. E quando você cria uma array no NumPy, pode especificar um tipo - porém, cada item da array deve ter o mesmo tipo. Nesse ponto, as arrays do NumPy são mais parecidas com as arrays C do que as listas do Python.\n",
    "\n",
    "Se quiser criar uma array NumPy que possua um escalar, você faz isso mudando o valor para uma função array no NumPy, como segue:"
   ]
  },
  {
   "cell_type": "code",
   "execution_count": 2,
   "metadata": {
    "collapsed": true
   },
   "outputs": [],
   "source": [
    "s = np.array(5)"
   ]
  },
  {
   "cell_type": "markdown",
   "metadata": {},
   "source": [
    "Você também pode fazer cálculos entre ndarrays escalares NumPy e escalares comuns do Python, como verá na aula sobre matemática com conhecimento de elementos.\n",
    "\n",
    "Você pode ver o formato das suas arrays verificando o atributo shape. Então, se executar este código:"
   ]
  },
  {
   "cell_type": "code",
   "execution_count": 3,
   "metadata": {},
   "outputs": [
    {
     "data": {
      "text/plain": [
       "()"
      ]
     },
     "execution_count": 3,
     "metadata": {},
     "output_type": "execute_result"
    }
   ],
   "source": [
    "s.shape"
   ]
  },
  {
   "cell_type": "markdown",
   "metadata": {},
   "source": [
    "você obterá o resultado, um par de parênteses vazio, (). Isso indica que ele tem zero dimensões.\n",
    "\n",
    "Embora escalares estejam dentro das arrays, você ainda os usa como um escalar normal. Então, você pode digitar:"
   ]
  },
  {
   "cell_type": "code",
   "execution_count": 4,
   "metadata": {
    "collapsed": true
   },
   "outputs": [],
   "source": [
    "x = s + 3"
   ]
  },
  {
   "cell_type": "markdown",
   "metadata": {},
   "source": [
    "e o x, agora, totalizará 8. Se você fosse conferir o tipo de x, descobriria que, provavelmente, é numpy.int64, porque ele trabalha com tipos NumPy, não Python.\n",
    "\n",
    "A propósito, até mesmo tipos de escalar suportam a maioria das funções das arrays. Então, você pode inserir x.shape e obterá (), pois ele tem zero dimensões, mesmo não sendo um conjunto. Se você tentar fazer isso com um escalar normal de Python, obterá um erro.\n",
    "\n",
    "### Vetores\n",
    "Para criar um vetor, você terá que colocar uma lista do Python na função array, conforme abaixo:"
   ]
  },
  {
   "cell_type": "code",
   "execution_count": 5,
   "metadata": {
    "collapsed": true
   },
   "outputs": [],
   "source": [
    "v = np.array([1,2,3])"
   ]
  },
  {
   "cell_type": "markdown",
   "metadata": {},
   "source": [
    "Se você verificar o atributo shape de um vetor, obterá um único número, representando o comprimento unidimensional do vetor. No exemplo acima, v.shape resultaria em (3,).\n",
    "\n",
    "Agora que existe um número, você pode ver que o formato é uma tupla com o tamanho de cada uma das dimensões ndarrays. Para escalares, é somente uma tupla vazia, mas os vetores possuem uma dimensão, então, a tupla inclui um número e uma vírgula (o Python não entende (3) como uma tupla com um item, por isso exige uma vírgula. Você pode saber mais sobre tuplas aqui).\n",
    "\n",
    "Você pode usar um elemento dentro do vetor usando índices, por exemplo:"
   ]
  },
  {
   "cell_type": "code",
   "execution_count": 6,
   "metadata": {
    "collapsed": true
   },
   "outputs": [],
   "source": [
    "x = v[1]"
   ]
  },
  {
   "cell_type": "markdown",
   "metadata": {},
   "source": [
    "Agora, x é igual a 2.\n",
    "\n",
    "O NumPy também suporta técnicas avançadas de indexação. Por exemplo, para acessar os itens do segundo elemento em diante, você usaria:"
   ]
  },
  {
   "cell_type": "code",
   "execution_count": 7,
   "metadata": {},
   "outputs": [
    {
     "data": {
      "text/plain": [
       "array([2, 3])"
      ]
     },
     "execution_count": 7,
     "metadata": {},
     "output_type": "execute_result"
    }
   ],
   "source": [
    "v[1:]"
   ]
  },
  {
   "cell_type": "markdown",
   "metadata": {},
   "source": [
    "e obteria uma array de [2, 3]. A divisão do NumPy é bem poderosa, permitindo que você acesse qualquer combinação de itens em uma ndarray. Mas também pode ser um pouco complicado, então, é importante você ler sobre isso na documentação.\n",
    "\n",
    "### Matrizes\n",
    "Você pode criar matrizes usando a função array do NumPy, assim como fez com vetores. Porém, em vez de apenas entregar uma lista, você precisará fornecer uma lista de listas, onde cada lista representa uma linha. Então, para criar uma matriz 3x3 contendo os números 1 a 9, você pode fazer o seguinte:"
   ]
  },
  {
   "cell_type": "code",
   "execution_count": 8,
   "metadata": {
    "collapsed": true
   },
   "outputs": [],
   "source": [
    "m = np.array([[1,2,3], [4,5,6], [7,8,9]])"
   ]
  },
  {
   "cell_type": "markdown",
   "metadata": {},
   "source": [
    "Verificar o atributo shape resultaria na tupla (3, 3), para indicar que ele tem duas dimensões, cada uma delas com o comprimento 3.\n",
    "\n",
    "Você pode acessar elementos de matrizes, assim como nos vetores, mas usando valores de índice adicionais. Então, para obter o número 6 na matriz acima, você teria que acessar m[1][2].\n",
    "\n",
    "### Tensores\n",
    "Os tensores são iguais aos vetores e matrizes, mas podem ter mais dimensões. Por exemplo, para criar um tensor de 3x3x2x1, você poderia fazer o seguinte:"
   ]
  },
  {
   "cell_type": "code",
   "execution_count": 10,
   "metadata": {},
   "outputs": [
    {
     "data": {
      "text/plain": [
       "(3, 3, 2, 1)"
      ]
     },
     "execution_count": 10,
     "metadata": {},
     "output_type": "execute_result"
    }
   ],
   "source": [
    "t = np.array([[[[1],[2]],[[3],[4]],[[5],[6]]],[[[7],[8]],\\\n",
    "    [[9],[10]],[[11],[12]]],[[[13],[14]],[[15],[16]],[[17],[17]]]])\n",
    "\n",
    "t.shape"
   ]
  },
  {
   "cell_type": "markdown",
   "metadata": {},
   "source": [
    "Você pode acessar itens, assim como nas matrizes, mas com mais índices. Então, t[2][1][1][0] resultará em 16.\n",
    "\n",
    "# Operações com conhecimento de elementos\n",
    "\n",
    "### O estilo Python\n",
    "Suponhamos que você tenha uma lista de números e queira adicionar 5 a cada item da lista. Sem o NumPy, você pode fazer algo como:"
   ]
  },
  {
   "cell_type": "code",
   "execution_count": 11,
   "metadata": {
    "collapsed": true
   },
   "outputs": [],
   "source": [
    "values = [1,2,3,4,5]\n",
    "for i in range(len(values)):\n",
    "    values[i] += 5\n",
    "\n",
    "# agora, os valores contêm [6,7,8,9,10]"
   ]
  },
  {
   "cell_type": "markdown",
   "metadata": {},
   "source": [
    "Isso faz sentido, mas envolve muito código a ser escrito e roda devagar, pois trata-se de Python puro.\n",
    "\n",
    "Observação: caso você não esteja acostumado a usar operadores como +=, isso apenas significa \"adicionar esses dois itens e armazenar o resultado no item da esquerda\". É uma forma mais sucinta de escrever values[i] = values[i] + 5. O código que você vê nesses exemplos utiliza esses operadores sempre que possível.\n",
    "\n",
    "### O estilo NumPy\n",
    "No NumPy, poderíamos fazer o seguinte:"
   ]
  },
  {
   "cell_type": "code",
   "execution_count": 12,
   "metadata": {
    "collapsed": true
   },
   "outputs": [],
   "source": [
    "values = [1,2,3,4,5]\n",
    "values = np.array(values) + 5\n",
    "\n",
    "# agora, os valores são uma ndarray que contém [6,7,8,9,10]"
   ]
  },
  {
   "cell_type": "markdown",
   "metadata": {},
   "source": [
    "Criar uma array pode parecer estranho, mas, normalmente, você armazenaria os dados em ndarrays de qualquer forma. Então, se você já tivesse uma ndarray chamada values, poderia ter feito apenas:"
   ]
  },
  {
   "cell_type": "code",
   "execution_count": 13,
   "metadata": {
    "collapsed": true
   },
   "outputs": [],
   "source": [
    "values += 5"
   ]
  },
  {
   "cell_type": "markdown",
   "metadata": {},
   "source": [
    "Devemos destacar que o NumPy, na verdade, possui funções para coisas como adição, multiplicação, etc. Mas ele também suporta o uso de operações matemáticas padrão. Então, as duas linhas a seguir são equivalentes:\n",
    "\n",
    "```\n",
    "x = np.multiply(some_array, 5)\n",
    "x = some_array * 5\n",
    "```\n",
    "\n",
    "Geralmente, usamos os operadores em vez das funções, pois eles são mais práticos para digitar e mais fáceis de ler. Mas, na verdade, isso depende de sua preferência pessoal.\n",
    "\n",
    "Outro exemplo de operações com escalares e ndarrays. Digamos que você tenha uma matriz m e queira reutilizá-la, mas antes precisa ver todos os valores como zero. É simples, basta multiplicar por zero e colocar o resultado de volta na matriz, conforme segue:\n",
    "\n",
    "```\n",
    "m *= 0\n",
    "\n",
    "# agora, todos os elementos em m são zero, independentemente de quantas dimensões eles têm operações em matrizes com conhecimento de elementos\n",
    "```\n",
    "\n",
    "As mesmas funções e operadores que trabalham com escalares e matrizes também trabalham com dimensões. Você só precisa se certificar de que os itens em que executa a operação possuem formatos compatíveis.\n",
    "\n",
    "Digamos que você queira obter valores quadrados de uma matriz. Seria apenas x = m * m (ou, se quiser colocar o valor novamente como m, seria m *= m).\n",
    "\n",
    "Isso funciona porque trata-se de uma multiplicação com conhecimento de elementos entre duas matrizes de formato idêntico (nesse caso, elas têm o mesmo formato porque são, na verdade, o mesmo objeto).\n",
    "\n",
    "Segue um exemplo do vídeo:"
   ]
  },
  {
   "cell_type": "code",
   "execution_count": 15,
   "metadata": {},
   "outputs": [
    {
     "data": {
      "text/plain": [
       "array([[ 3,  7],\n",
       "       [11, 15]])"
      ]
     },
     "execution_count": 15,
     "metadata": {},
     "output_type": "execute_result"
    }
   ],
   "source": [
    "a = np.array([[1,3],[5,7]])\n",
    "a\n",
    "# exibe o seguinte resultado:\n",
    "# array([[1, 3],\n",
    "#        [5, 7]])\n",
    "\n",
    "b = np.array([[2,4],[6,8]])\n",
    "b\n",
    "# exibe o seguinte resultado:\n",
    "# array([[2, 4],\n",
    "#        [6, 8]])\n",
    "\n",
    "a + b\n",
    "# exibe o seguinte resultado:\n",
    "#      array([[ 3,  7],\n",
    "#             [11, 15]])"
   ]
  },
  {
   "cell_type": "markdown",
   "metadata": {},
   "source": [
    "E, caso tente trabalhar com formatos incompatíveis, como nos outros exemplos do vídeo, você obterá um erro:"
   ]
  },
  {
   "cell_type": "code",
   "execution_count": 16,
   "metadata": {},
   "outputs": [
    {
     "data": {
      "text/plain": [
       "array([[ 3,  7],\n",
       "       [11, 15]])"
      ]
     },
     "execution_count": 16,
     "metadata": {},
     "output_type": "execute_result"
    }
   ],
   "source": [
    "a = np.array([[1,3],[5,7]])\n",
    "a\n",
    "# exibe o seguinte resultado:\n",
    "# array([[1, 3],\n",
    "#        [5, 7]])\n",
    "c = np.array([[2,3,6],[4,5,9],[1,8,7]])\n",
    "c\n",
    "# exibe o seguinte resultado:\n",
    "# array([[2, 3, 6],\n",
    "#        [4, 5, 9],\n",
    "#        [1, 8, 7]])\n",
    "\n",
    "a.shape\n",
    "# exibe o seguinte resultado:\n",
    "#  (2, 2)\n",
    "\n",
    "c.shape\n",
    "# exibe o seguinte resultado:\n",
    "#  (3, 3)\n",
    "\n",
    "a + b\n",
    "# exibe o seguinte erro:\n",
    "# ValueError: operands could not be broadcast together with shapes (2,2) (3,3)"
   ]
  },
  {
   "cell_type": "markdown",
   "metadata": {},
   "source": [
    "Você aprenderá mais sobre o que \"could not be broadcast together\" significa em uma próxima aula, mas, por enquanto, basta observar que os dois formatos são diferentes e, portanto, não podemos executar uma operação com conhecimento de elemento.\n",
    "\n",
    "### Multiplicação de Matrizes no NumPy\n",
    "Você ouviu falar muito sobre multiplicação de matrizes nos últimos vídeos – agora, você verá como fazer isso com o NumPy. Porém, é importante saber que o NumPy suporta diversos tipos de multiplicação de matrizes.\n",
    "\n",
    "### Multiplicação elemento a elemento\n",
    "Você já viu algumas multiplicações de elemento a elemento. Isso é obtido com a função multiply ou o operador *. Apenas para relembrar, ela seria assim:"
   ]
  },
  {
   "cell_type": "code",
   "execution_count": 17,
   "metadata": {},
   "outputs": [
    {
     "data": {
      "text/plain": [
       "array([[ 0.25,  1.  ,  2.25],\n",
       "       [ 4.  ,  6.25,  9.  ]])"
      ]
     },
     "execution_count": 17,
     "metadata": {},
     "output_type": "execute_result"
    }
   ],
   "source": [
    "m = np.array([[1,2,3],[4,5,6]])\n",
    "m\n",
    "# exibe o seguinte resultado:\n",
    "# array([[1, 2, 3],\n",
    "#        [4, 5, 6]])\n",
    "\n",
    "n = m * 0.25\n",
    "n\n",
    "# exibe o seguinte resultado:\n",
    "# array([[ 0.25,  0.5 ,  0.75],\n",
    "#        [ 1.  ,  1.25,  1.5 ]])\n",
    "\n",
    "m * n\n",
    "# exibe o seguinte resultado:\n",
    "# array([[ 0.25,  1.  ,  2.25],\n",
    "#        [ 4.  ,  6.25,  9.  ]])\n",
    "\n",
    "np.multiply(m, n)   # equivalent to m * n\n",
    "# exibe o seguinte resultado:\n",
    "# array([[ 0.25,  1.  ,  2.25],\n",
    "#        [ 4.  ,  6.25,  9.  ]])"
   ]
  },
  {
   "cell_type": "markdown",
   "metadata": {},
   "source": [
    "### Produto da matriz\n",
    "Para encontrar o produto da matriz, você usa a função matmul no NumPy.\n",
    "\n",
    "Se os formatos forem compatíveis, então, será simples assim:"
   ]
  },
  {
   "cell_type": "code",
   "execution_count": 18,
   "metadata": {},
   "outputs": [
    {
     "data": {
      "text/plain": [
       "(2, 3)"
      ]
     },
     "execution_count": 18,
     "metadata": {},
     "output_type": "execute_result"
    }
   ],
   "source": [
    "a = np.array([[1,2,3,4],[5,6,7,8]])\n",
    "a\n",
    "# exibe o seguinte resultado:\n",
    "# array([[1, 2, 3, 4],\n",
    "#        [5, 6, 7, 8]])\n",
    "a.shape\n",
    "# exibe o seguinte resultado:\n",
    "# (2, 4)\n",
    "\n",
    "b = np.array([[1,2,3],[4,5,6],[7,8,9],[10,11,12]])\n",
    "b\n",
    "# exibe o seguinte resultado:\n",
    "# array([[ 1,  2,  3],\n",
    "#        [ 4,  5,  6],\n",
    "#        [ 7,  8,  9],\n",
    "#        [10, 11, 12]])\n",
    "b.shape\n",
    "# exibe o seguinte resultado:\n",
    "# (4, 3)\n",
    "\n",
    "c = np.matmul(a, b)\n",
    "c\n",
    "# exibe o seguinte resultado:\n",
    "# array([[ 70,  80,  90],\n",
    "#        [158, 184, 210]])\n",
    "c.shape\n",
    "# exibe o seguinte resultado:\n",
    "# (2, 3)"
   ]
  },
  {
   "cell_type": "code",
   "execution_count": 19,
   "metadata": {},
   "outputs": [
    {
     "ename": "ValueError",
     "evalue": "shapes (4,3) and (2,4) not aligned: 3 (dim 1) != 2 (dim 0)",
     "output_type": "error",
     "traceback": [
      "\u001b[0;31m---------------------------------------------------------------------------\u001b[0m",
      "\u001b[0;31mValueError\u001b[0m                                Traceback (most recent call last)",
      "\u001b[0;32m<ipython-input-19-0c6993d89cb7>\u001b[0m in \u001b[0;36m<module>\u001b[0;34m()\u001b[0m\n\u001b[1;32m      1\u001b[0m \u001b[0;31m# Se suas matrizes tiverem formatos incompatíveis, você obterá um erro, como o seguinte:\u001b[0m\u001b[0;34m\u001b[0m\u001b[0;34m\u001b[0m\u001b[0m\n\u001b[0;32m----> 2\u001b[0;31m \u001b[0mnp\u001b[0m\u001b[0;34m.\u001b[0m\u001b[0mmatmul\u001b[0m\u001b[0;34m(\u001b[0m\u001b[0mb\u001b[0m\u001b[0;34m,\u001b[0m \u001b[0ma\u001b[0m\u001b[0;34m)\u001b[0m\u001b[0;34m\u001b[0m\u001b[0m\n\u001b[0m\u001b[1;32m      3\u001b[0m \u001b[0;31m# exibe o seguinte erro:\u001b[0m\u001b[0;34m\u001b[0m\u001b[0;34m\u001b[0m\u001b[0m\n\u001b[1;32m      4\u001b[0m \u001b[0;31m# ValueError: shapes (4,3) and (2,4) not aligned: 3 (dim 1) != 2 (dim 0)\u001b[0m\u001b[0;34m\u001b[0m\u001b[0;34m\u001b[0m\u001b[0m\n",
      "\u001b[0;31mValueError\u001b[0m: shapes (4,3) and (2,4) not aligned: 3 (dim 1) != 2 (dim 0)"
     ]
    }
   ],
   "source": [
    "# Se suas matrizes tiverem formatos incompatíveis, você obterá um erro, como o seguinte:\n",
    "np.matmul(b, a)\n",
    "# exibe o seguinte erro:\n",
    "# ValueError: shapes (4,3) and (2,4) not aligned: 3 (dim 1) != 2 (dim 0)"
   ]
  },
  {
   "cell_type": "markdown",
   "metadata": {},
   "source": [
    "### Função dot no NumPy\n",
    "Algumas vezes, você verá a função [dot] do NumPy (https://docs.scipy.org/doc/numpy/reference/generated/numpy.dot.html) em locais onde esperaria ver uma matmul. O que acontece é que o resultado de dot e matmul é o mesmo se as matrizes forem bidimensionais.\n",
    "\n",
    "Então, estes resultados são equivalentes:"
   ]
  },
  {
   "cell_type": "code",
   "execution_count": 20,
   "metadata": {},
   "outputs": [
    {
     "data": {
      "text/plain": [
       "array([[ 7, 10],\n",
       "       [15, 22]])"
      ]
     },
     "execution_count": 20,
     "metadata": {},
     "output_type": "execute_result"
    }
   ],
   "source": [
    "a = np.array([[1,2],[3,4]])\n",
    "a\n",
    "# exibe o seguinte resultado:\n",
    "# array([[1, 2],\n",
    "#        [3, 4]])\n",
    "\n",
    "np.dot(a,a)\n",
    "# exibe o seguinte resultado:\n",
    "# array([[ 7, 10],\n",
    "#        [15, 22]])\n",
    "\n",
    "a.dot(a)  # você pode usar `dot` diretamente na `ndarray`\n",
    "# exibe o seguinte resultado:\n",
    "# array([[ 7, 10],\n",
    "#        [15, 22]])\n",
    "\n",
    "np.matmul(a,a)\n",
    "# array([[ 7, 10],\n",
    "#        [15, 22]])"
   ]
  },
  {
   "cell_type": "markdown",
   "metadata": {},
   "source": [
    "Embora essas funções exibam o mesmo resultados em dados bidimensionais, você deve estar atento a qual escolher quando estiver trabalhando com outros formatos de dado. Você pode ler mais sobre as diferenças e encontrar links para outras funções do NumPy na documentação do matmul e do dot.\n",
    "\n",
    "### Transposição\n",
    "É muito fácil fazer a transposição de uma matriz no NumPy. Basta acessar o atributo T. Há também uma função transpose(), que gera o mesmo resultado, mas você raramente a verá sendo usada, já que é muito mais fácil digitar T. :)\n",
    "\n",
    "Por exemplo:"
   ]
  },
  {
   "cell_type": "code",
   "execution_count": 21,
   "metadata": {},
   "outputs": [
    {
     "data": {
      "text/plain": [
       "array([[ 1,  5,  9],\n",
       "       [ 2,  6, 10],\n",
       "       [ 3,  7, 11],\n",
       "       [ 4,  8, 12]])"
      ]
     },
     "execution_count": 21,
     "metadata": {},
     "output_type": "execute_result"
    }
   ],
   "source": [
    "m = np.array([[1,2,3,4], [5,6,7,8], [9,10,11,12]])\n",
    "m\n",
    "# exibe o seguinte resultado:\n",
    "# array([[ 1,  2,  3,  4],\n",
    "#        [ 5,  6,  7,  8],\n",
    "#        [ 9, 10, 11, 12]])\n",
    "\n",
    "m.T\n",
    "# exibe o seguinte resultado:\n",
    "# array([[ 1,  5,  9],\n",
    "#        [ 2,  6, 10],\n",
    "#        [ 3,  7, 11],\n",
    "#        [ 4,  8, 12]])"
   ]
  },
  {
   "cell_type": "markdown",
   "metadata": {},
   "source": [
    "O NumPy faz isso sem realmente mover nenhum dado na memória - ele apenas muda a maneira com que indexa a matriz original - então, é bastante eficiente.\n",
    "\n",
    "Portanto, isso também significa que você precisa ter atenção para a forma como modifica objetos. Por exemplo, com a mesma matriz m usada acima, veja o que acontece se modificarmos um valor em sua transposição:"
   ]
  },
  {
   "cell_type": "code",
   "execution_count": 22,
   "metadata": {},
   "outputs": [
    {
     "data": {
      "text/plain": [
       "array([[  1,   2,   3,   4],\n",
       "       [  5, 200,   7,   8],\n",
       "       [  9,  10,  11,  12]])"
      ]
     },
     "execution_count": 22,
     "metadata": {},
     "output_type": "execute_result"
    }
   ],
   "source": [
    "m_t = m.T\n",
    "m_t[1][1] = 200\n",
    "m_t\n",
    "# exibe o seguinte resultado:\n",
    "# array([[ 1,    5,  9],\n",
    "#        [ 2,  200, 10],\n",
    "#        [ 3,    7, 11],\n",
    "#        [ 4,    8, 12]])\n",
    "\n",
    "m\n",
    "# exibe o seguinte resultado:\n",
    "# array([[ 1,    2,  3,  4],\n",
    "#        [ 5,  200,  7,  8],\n",
    "#        [ 9,   10, 11, 12]])"
   ]
  },
  {
   "cell_type": "markdown",
   "metadata": {},
   "source": [
    "Observe como isso modifica a matriz original! Então, é melhor apenas considerar a transposição como uma visão diferente da sua matriz, em vez de uma matriz diferente.\n",
    "\n",
    "### Um caso de uso real\n",
    "Não quero entrar em detalhes demais sobre redes neurais, porque elas ainda não foram abordadas, mas existe um lugar onde você quase certamente acabará usando transposição ou, pelo menos, pensará nisso.\n",
    "\n",
    "Digamos que você tenha as duas matrizes a seguir, chamadas inputs e weights,"
   ]
  },
  {
   "cell_type": "code",
   "execution_count": 23,
   "metadata": {},
   "outputs": [
    {
     "data": {
      "text/plain": [
       "(3, 4)"
      ]
     },
     "execution_count": 23,
     "metadata": {},
     "output_type": "execute_result"
    }
   ],
   "source": [
    "inputs = np.array([[-0.27,  0.45,  0.64, 0.31]])\n",
    "inputs\n",
    "# exibe o seguinte resultado:\n",
    "# array([[-0.27,  0.45,  0.64,  0.31]])\n",
    "\n",
    "inputs.shape\n",
    "# exibe o seguinte resultado:\n",
    "# (1, 4)\n",
    "\n",
    "weights = np.array([[0.02, 0.001, -0.03, 0.036], \\\n",
    "    [0.04, -0.003, 0.025, 0.009], [0.012, -0.045, 0.28, -0.067]])\n",
    "\n",
    "weights\n",
    "# exibe o seguinte resultado:\n",
    "# array([[ 0.02 ,  0.001, -0.03 ,  0.036],\n",
    "#        [ 0.04 , -0.003,  0.025,  0.009],\n",
    "#        [ 0.012, -0.045,  0.28 , -0.067]])\n",
    "\n",
    "weights.shape\n",
    "# exibe o seguinte resultado:\n",
    "# (3, 4)"
   ]
  },
  {
   "cell_type": "markdown",
   "metadata": {},
   "source": [
    "Estou falando para que elas servem porque você aprenderá sobre isso mais adiante, mas você acabará precisando encontrar o produto matriz dessas duas matrizes.\n",
    "\n",
    "Se usá-las como estão agora, você obterá um erro:\n",
    "\n",
    "```\n",
    "np.matmul(inputs, weights)\n",
    "# exibe o seguinte erro:\n",
    "# ValueError: shapes (1,4) and (3,4) not aligned: 4 (dim 1) != 3 (dim 0)\n",
    "```\n",
    "\n",
    "A mensagem de erro está dizendo que os formatos não são compatíveis porque 4 não é igual a 3. Você pode ver os tamanhos alinhados uns ao lado do outros e lembrar, com base nos vídeos sobre multiplicação de matrizes, que o número de colunas na matriz esquerda deve ser igual ao número de linhas da matriz direita.\n",
    "\n",
    "É, isso não funciona, mas observe que, usando a transposição das matrizes weights, será:\n",
    "\n",
    "```\n",
    "np.matmul(inputs, weights.T)\n",
    "# exibe o seguinte resultado:\n",
    "# array([[-0.01299,  0.00664,  0.13494]])\n",
    "```\n",
    "\n",
    "Isso também funciona se você usar a transposição de inputs e trocá-las de ordem, como mostramos nos vídeo:\n",
    "\n",
    "```\n",
    "np.matmul(weights, inputs.T)\n",
    "# exibe o seguinte resultado:\n",
    "# array([[-0.01299],# \n",
    "#        [ 0.00664],\n",
    "#        [ 0.13494]])\n",
    "```\n",
    "\n",
    "As duas respostas são transposições uma da outra, então, a multiplicação que você usa depende apenas do formato em que você quer o seu resultado."
   ]
  },
  {
   "cell_type": "code",
   "execution_count": 26,
   "metadata": {},
   "outputs": [
    {
     "name": "stdout",
     "output_type": "stream",
     "text": [
      "Input as Array: [[-1  2  7]]\n",
      "Input minus min: [[0 3 8]]\n",
      "Input  Array: [[ 0.     0.375  1.   ]]\n",
      "Multiply 1:\n",
      "False\n",
      "Multiply 2:\n",
      "[[14]\n",
      " [32]]\n",
      "Multiply 3:\n",
      "[[ 9 12 15]]\n",
      "Mean == 2.6666666666666665\n"
     ]
    }
   ],
   "source": [
    "# Use the numpy library\n",
    "import numpy as np\n",
    "\n",
    "\n",
    "def prepare_inputs(inputs):\n",
    "    # TODO: create a 2-dimensional ndarray from the given 1-dimensional list;\n",
    "    #       assign it to input_array\n",
    "    input_array = np.array([inputs])\n",
    "    \n",
    "    # TODO: find the minimum value in input_array and subtract that\n",
    "    #       value from all the elements of input_array. Store the\n",
    "    #       result in inputs_minus_min\n",
    "    # We can use NumPy's min function and element-wise division\n",
    "    inputs_minus_min = input_array - np.min(input_array)\n",
    "\n",
    "    # TODO: find the maximum value in inputs_minus_min and divide\n",
    "    #       all of the values in inputs_minus_min by the maximum value.\n",
    "    #       Store the results in inputs_div_max.\n",
    "    # We can use NumPy's max function and element-wise division\n",
    "    inputs_div_max = inputs_minus_min / np.max(inputs_minus_min)\n",
    "\n",
    "    return input_array, inputs_minus_min, inputs_div_max\n",
    "    \n",
    "\n",
    "def multiply_inputs(m1, m2):\n",
    "    # Check the shapes of the matrices m1 and m2. \n",
    "    # m1 and m2 will be ndarray objects.\n",
    "    #\n",
    "    # Return False if the shapes cannot be used for matrix\n",
    "    # multiplication. You may not use a transpose\n",
    "    if m1.shape[0] != m2.shape[1] and m1.shape[1] != m2.shape[0]:     \n",
    "        return False\n",
    "\n",
    "    # Have not returned False, so calculate the matrix product\n",
    "    # of m1 and m2 and return it. Do not use a transpose,\n",
    "    #       but you swap their order if necessary\n",
    "    if m1.shape[1] == m2.shape[0]:\n",
    "        return np.matmul(m1, m2)        \n",
    "    else:\n",
    "        return np.matmul(m2, m1)        \n",
    "\n",
    "\n",
    "def find_mean(values):\n",
    "    # Return the average of the values in the given Python list\n",
    "    # NumPy has a lot of helpful methods like this.\n",
    "    return np.mean(values)\n",
    "\n",
    "\n",
    "input_array, inputs_minus_min, inputs_div_max = prepare_inputs([-1,2,7])\n",
    "print(\"Input as Array: {}\".format(input_array))\n",
    "print(\"Input minus min: {}\".format(inputs_minus_min))\n",
    "print(\"Input  Array: {}\".format(inputs_div_max))\n",
    "\n",
    "print(\"Multiply 1:\\n{}\".format(multiply_inputs(np.array([[1,2,3],[4,5,6]]), np.array([[1],[2],[3],[4]]))))\n",
    "print(\"Multiply 2:\\n{}\".format(multiply_inputs(np.array([[1,2,3],[4,5,6]]), np.array([[1],[2],[3]]))))\n",
    "print(\"Multiply 3:\\n{}\".format(multiply_inputs(np.array([[1,2,3],[4,5,6]]), np.array([[1,2]]))))\n",
    "\n",
    "print(\"Mean == {}\".format(find_mean([1,3,4])))# Use the numpy library\n",
    "import numpy as np\n",
    "\n",
    "\n",
    "######################################################\n",
    "#\n",
    "#      MESSAGE TO STUDENTS:\n",
    "#\n",
    "#  This file contains a solution to the coding quiz. Feel free\n",
    "#  to look at it when you are stuck, but try to solve the\n",
    "#   problem on your own first.\n",
    "#\n",
    "######################################################\n",
    "\n",
    "\n",
    "def prepare_inputs(inputs):\n",
    "    # TODO: create a 2-dimensional ndarray from the given 1-dimensional list;\n",
    "    #       assign it to input_array\n",
    "    input_array = np.array([inputs])\n",
    "    \n",
    "    # TODO: find the minimum value in input_array and subtract that\n",
    "    #       value from all the elements of input_array. Store the\n",
    "    #       result in inputs_minus_min\n",
    "    # We can use NumPy's min function and element-wise division\n",
    "    inputs_minus_min = input_array - np.min(input_array)\n",
    "\n",
    "    # TODO: find the maximum value in inputs_minus_min and divide\n",
    "    #       all of the values in inputs_minus_min by the maximum value.\n",
    "    #       Store the results in inputs_div_max.\n",
    "    # We can use NumPy's max function and element-wise division\n",
    "    inputs_div_max = inputs_minus_min / np.max(inputs_minus_min)\n",
    "\n",
    "    return input_array, inputs_minus_min, inputs_div_max\n",
    "    \n",
    "\n",
    "def multiply_inputs(m1, m2):\n",
    "    # Check the shapes of the matrices m1 and m2. \n",
    "    # m1 and m2 will be ndarray objects.\n",
    "    #\n",
    "    # Return False if the shapes cannot be used for matrix\n",
    "    # multiplication. You may not use a transpose\n",
    "    if m1.shape[0] != m2.shape[1] and m1.shape[1] != m2.shape[0]:     \n",
    "        return False\n",
    "\n",
    "    # Have not returned False, so calculate the matrix product\n",
    "    # of m1 and m2 and return it. Do not use a transpose,\n",
    "    #       but you swap their order if necessary\n",
    "    if m1.shape[1] == m2.shape[0]:\n",
    "        return np.matmul(m1, m2)        \n",
    "    else:\n",
    "        return np.matmul(m2, m1)        \n",
    "\n",
    "\n",
    "def find_mean(values):\n",
    "    # Return the average of the values in the given Python list\n",
    "    # NumPy has a lot of helpful methods like this.\n",
    "    return np.mean(values)"
   ]
  },
  {
   "cell_type": "code",
   "execution_count": null,
   "metadata": {
    "collapsed": true
   },
   "outputs": [],
   "source": []
  }
 ],
 "metadata": {
  "kernelspec": {
   "display_name": "Python 3",
   "language": "python",
   "name": "python3"
  },
  "language_info": {
   "codemirror_mode": {
    "name": "ipython",
    "version": 3
   },
   "file_extension": ".py",
   "mimetype": "text/x-python",
   "name": "python",
   "nbconvert_exporter": "python",
   "pygments_lexer": "ipython3",
   "version": "3.6.1"
  }
 },
 "nbformat": 4,
 "nbformat_minor": 2
}
